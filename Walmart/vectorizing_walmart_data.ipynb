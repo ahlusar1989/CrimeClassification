{
 "cells": [
  {
   "cell_type": "code",
   "execution_count": 4,
   "metadata": {
    "collapsed": true
   },
   "outputs": [],
   "source": [
    "import json, re\n",
    "import pandas as pd\n",
    "import numpy as np\n",
    "\n",
    "from sklearn import preprocessing\n",
    "from math import sqrt\n",
    "from sklearn.cross_validation import train_test_split\n",
    "from sklearn.metrics import roc_curve, auc\n",
    "from sklearn.feature_extraction import DictVectorizer as DV\n",
    "from sklearn.svm import SVC\n",
    "from sklearn.ensemble import RandomForestClassifier\n",
    "# from sklearn.metrics import roc_auc_score as AUC"
   ]
  },
  {
   "cell_type": "code",
   "execution_count": 5,
   "metadata": {
    "collapsed": false
   },
   "outputs": [],
   "source": [
    "# Data fields\n",
    "\n",
    "# TripType - a categorical id representing the type of shopping trip the customer made. This is the ground truth that you are predicting. TripType_999 is an \"other\" category.\n",
    "# VisitNumber - an id corresponding to a single trip by a single customer\n",
    "# Weekday - the weekday of the trip\n",
    "# Upc - the UPC number of the product purchased\n",
    "# ScanCount - the number of the given item that was purchased. A negative value indicates a product return.\n",
    "# DepartmentDescription - a high-level description of the item's department\n",
    "# FinelineNumber - a more refined category for each of the products, created by Walmart\n",
    "\n",
    "train = pd.read_csv('train.csv')\n",
    "test = pd.read_csv(\"test.csv\")\n",
    "\n",
    "train_reference = train.copy(deep=True)"
   ]
  },
  {
   "cell_type": "code",
   "execution_count": 4,
   "metadata": {
    "collapsed": false
   },
   "outputs": [],
   "source": [
    "# MultiColumnLabelEncoder(columns=['fruit', 'color']).fit_transform(fruit_data)"
   ]
  },
  {
   "cell_type": "code",
   "execution_count": null,
   "metadata": {
    "collapsed": false
   },
   "outputs": [],
   "source": [
    "# numeric x\n",
    "\n",
    "numeric_cols = ['VisitNumber', 'Upc', 'ScanCount', 'FinelineNumber']\n",
    "x_num_train = train_data[numeric_cols ].as_matrix()\n",
    "x_num_test = test_data[numeric_cols ].as_matrix()\n",
    "\n",
    "# # y\n",
    "\n",
    "# y_train = train.TripType\n",
    "# y_test = test.FinelineNumber\n",
    "\n",
    "# # # # # categorical\n",
    "\n",
    "# cat_train = train_data.drop(numeric_cols + ['TripType'], axis = 1 )\n",
    "# cat_test = test_data.drop(numeric_cols, axis = 1 )\n",
    "\n",
    "# cat_train.fillna(0, inplace = True )\n",
    "# cat_test.fillna(0, inplace = True )\n",
    "\n",
    "# x_cat_train = cat_train.T.to_dict().values()\n",
    "# x_cat_test = cat_test.T.to_dict().values()\n",
    "\n",
    "# # # # vectorize\n",
    "\n",
    "# vectorizer = DV(sparse = False)\n",
    "# vec_x_cat_train = vectorizer.fit_transform(x_cat_train)\n",
    "# vec_x_cat_test = vectorizer.transform(x_cat_test )\n",
    "\n",
    "# # # complete x\n",
    "\n",
    "# x_train = np.hstack((x_num_train, vec_x_cat_train ))\n",
    "# x_test = np.hstack((x_num_test, vec_x_cat_test ))"
   ]
  },
  {
   "cell_type": "code",
   "execution_count": 5,
   "metadata": {
    "collapsed": false
   },
   "outputs": [],
   "source": [
    "import matplotlib.pyplot as plt\n",
    "%matplotlib inline\n",
    "import numpy as np\n",
    "import pandas as pd\n",
    "import statsmodels.api as sm\n",
    "from statsmodels.nonparametric.kde import KDEUnivariate\n",
    "from statsmodels.nonparametric import smoothers_lowess\n",
    "from pandas import Series, DataFrame\n",
    "from patsy import dmatrices\n",
    "from sklearn import datasets, svm"
   ]
  },
  {
   "cell_type": "code",
   "execution_count": 6,
   "metadata": {
    "collapsed": false
   },
   "outputs": [],
   "source": [
    "# -*- coding: utf-8 -*-\n",
    "\"\"\" Small script that shows hot to do one hot encoding\n",
    "    of categorical columns in a pandas DataFrame.\n",
    "    See:\n",
    "    http://scikit-learn.org/dev/modules/generated/sklearn.preprocessing.OneHotEncoder.html#sklearn.preprocessing.OneHotEncoder\n",
    "    http://scikit-learn.org/dev/modules/generated/sklearn.feature_extraction.DictVectorizer.html\n",
    "\"\"\"\n",
    "import pandas\n",
    "import random\n",
    "import numpy\n",
    "from sklearn.feature_extraction import DictVectorizer\n",
    "\n",
    "def one_hot_dataframe(data, cols, replace=False):\n",
    "    \"\"\" Takes a dataframe and a list of columns that need to be encoded.\n",
    "        Returns a 3-tuple comprising the data, the vectorized data,\n",
    "        and the fitted vectorizor.\"\"\"\n",
    "    vec = DictVectorizer(sparse=False)\n",
    "    vecData = pd.DataFrame(vec.fit_transform(data[cols].T.to_dict().values()))\n",
    "    vecData.columns = vec.get_feature_names()\n",
    "    vecData.index = data.index\n",
    "    if replace is True:\n",
    "        data = data.drop(cols, axis=1)\n",
    "        data = data.join(vecData)\n",
    "    return (data, vecData, vec)"
   ]
  },
  {
   "cell_type": "code",
   "execution_count": 7,
   "metadata": {
    "collapsed": false
   },
   "outputs": [],
   "source": [
    "# Vectorize the categorical columns: Weekday & DepartmentDescription\n",
    "train_data, _, _ = one_hot_dataframe(train, ['Weekday', 'DepartmentDescription'], replace=True)"
   ]
  },
  {
   "cell_type": "code",
   "execution_count": 8,
   "metadata": {
    "collapsed": false
   },
   "outputs": [],
   "source": [
    "test_data, _, _ = one_hot_dataframe(test, ['Weekday', 'DepartmentDescription'], replace = True)"
   ]
  },
  {
   "cell_type": "code",
   "execution_count": 11,
   "metadata": {
    "collapsed": true
   },
   "outputs": [],
   "source": [
    "train_as_dicts = [dict(r.iteritems()) for _, r in train_data.iterrows()]#dictionary of keys (columns) with instances (values)\n",
    "train_features = DictVectorizer(sparse=False).fit_transform(train_as_dicts)"
   ]
  },
  {
   "cell_type": "code",
   "execution_count": 32,
   "metadata": {
    "collapsed": false
   },
   "outputs": [
    {
     "name": "stdout",
     "output_type": "stream",
     "text": [
      "        VisitNumber Weekday          Upc  ScanCount     DepartmentDescription  \\\n",
      "0                 5  Friday  68113152929         -1        FINANCIAL SERVICES   \n",
      "1                 7  Friday  60538815980          1                     SHOES   \n",
      "2                 7  Friday   7410811099          1             PERSONAL CARE   \n",
      "3                 8  Friday   2238403510          2     PAINT AND ACCESSORIES   \n",
      "4                 8  Friday   2006613744          2     PAINT AND ACCESSORIES   \n",
      "5                 8  Friday   2006618783          2     PAINT AND ACCESSORIES   \n",
      "6                 8  Friday   2006613743          1     PAINT AND ACCESSORIES   \n",
      "7                 8  Friday   7004802737          1     PAINT AND ACCESSORIES   \n",
      "8                 8  Friday   2238495318          1     PAINT AND ACCESSORIES   \n",
      "9                 8  Friday   2238400200         -1     PAINT AND ACCESSORIES   \n",
      "10                8  Friday   5200010239          1               DSD GROCERY   \n",
      "11                8  Friday  88679300501          2     PAINT AND ACCESSORIES   \n",
      "12                8  Friday  22006000000          1     MEAT - FRESH & FROZEN   \n",
      "13                8  Friday   2236760452          1     PAINT AND ACCESSORIES   \n",
      "14                8  Friday  88679300501         -1     PAINT AND ACCESSORIES   \n",
      "15                8  Friday   2238400200          2     PAINT AND ACCESSORIES   \n",
      "16                8  Friday   3019294203          1     PAINT AND ACCESSORIES   \n",
      "17                8  Friday  72450408840          1     PAINT AND ACCESSORIES   \n",
      "18                8  Friday  25541500000          2                     DAIRY   \n",
      "19                8  Friday   2310010776          1         PETS AND SUPPLIES   \n",
      "20                8  Friday  72450403700          2     PAINT AND ACCESSORIES   \n",
      "21                8  Friday   7874204967          1  HOUSEHOLD CHEMICALS/SUPP   \n",
      "22                8  Friday   5114139038          1     PAINT AND ACCESSORIES   \n",
      "23                8  Friday   5114197561          1     PAINT AND ACCESSORIES   \n",
      "24                8  Friday   3270011053          3         PETS AND SUPPLIES   \n",
      "25                8  Friday            0          1                         0   \n",
      "26                9  Friday   1070080727          1       IMPULSE MERCHANDISE   \n",
      "27                9  Friday         3107          1                   PRODUCE   \n",
      "28                9  Friday         4011          1                   PRODUCE   \n",
      "29               10  Friday   6414410235          1               DSD GROCERY   \n",
      "...             ...     ...          ...        ...                       ...   \n",
      "647024       191345  Sunday  38004049800          2              PHARMACY OTC   \n",
      "647025       191345  Sunday   3890003008          1         GROCERY DRY GOODS   \n",
      "647026       191345  Sunday   3890003032          1         GROCERY DRY GOODS   \n",
      "647027       191345  Sunday   7225003706          1                COMM BREAD   \n",
      "647028       191345  Sunday   7800001223          1               DSD GROCERY   \n",
      "647029       191345  Sunday   1380310263          1               ELECTRONICS   \n",
      "647030       191345  Sunday   4812129208          2                COMM BREAD   \n",
      "647031       191345  Sunday  30299392116          1                    BEAUTY   \n",
      "647032       191345  Sunday   3010078458          2               DSD GROCERY   \n",
      "647033       191345  Sunday   7286800201          1  HOUSEHOLD CHEMICALS/SUPP   \n",
      "647034       191345  Sunday   3700088225          1     HOUSEHOLD PAPER GOODS   \n",
      "647035       191346  Sunday   3760011806          1         GROCERY DRY GOODS   \n",
      "647036       191346  Sunday   3338365322          1                   PRODUCE   \n",
      "647037       191346  Sunday   4150000042          1         GROCERY DRY GOODS   \n",
      "647038       191346  Sunday   1340951537          1         GROCERY DRY GOODS   \n",
      "647039       191346  Sunday   7874222953          1               DSD GROCERY   \n",
      "647040       191346  Sunday   3700045536          1  HOUSEHOLD CHEMICALS/SUPP   \n",
      "647041       191346  Sunday   5440000080          1         GROCERY DRY GOODS   \n",
      "647042       191346  Sunday   2265571555          1     MEAT - FRESH & FROZEN   \n",
      "647043       191346  Sunday   3660230033          1              PHARMACY OTC   \n",
      "647044       191346  Sunday   5100019880          1         GROCERY DRY GOODS   \n",
      "647045       191346  Sunday   7874203977          1                     DAIRY   \n",
      "647046       191346  Sunday   3120020235          1               DSD GROCERY   \n",
      "647047       191346  Sunday   3120033013          1               DSD GROCERY   \n",
      "647048       191346  Sunday   3700091229          1  HOUSEHOLD CHEMICALS/SUPP   \n",
      "647049       191346  Sunday  32390001778          1              PHARMACY OTC   \n",
      "647050       191346  Sunday   7874205336          1              FROZEN FOODS   \n",
      "647051       191346  Sunday         4072          1                   PRODUCE   \n",
      "647052       191347  Sunday   4190007664          1                     DAIRY   \n",
      "647053       191347  Sunday   3800059655          1         GROCERY DRY GOODS   \n",
      "\n",
      "        FinelineNumber  Prediction  \n",
      "0                 1000         999  \n",
      "1                 8931          30  \n",
      "2                 4504          30  \n",
      "3                 3565          26  \n",
      "4                 1017          26  \n",
      "5                 1017          26  \n",
      "6                 1017          26  \n",
      "7                 2802          26  \n",
      "8                 4501          26  \n",
      "9                 3565          26  \n",
      "10                4606          26  \n",
      "11                3504          26  \n",
      "12                6009          26  \n",
      "13                   7          26  \n",
      "14                3504          26  \n",
      "15                3565          26  \n",
      "16                2801          26  \n",
      "17                1028          26  \n",
      "18                1305          26  \n",
      "19                3300          26  \n",
      "20                1018          26  \n",
      "21                 707          26  \n",
      "22                4415          26  \n",
      "23                4415          26  \n",
      "24                1001          26  \n",
      "25                   0          26  \n",
      "26                 115           8  \n",
      "27                 103           8  \n",
      "28                5501           8  \n",
      "29                2008           8  \n",
      "...                ...         ...  \n",
      "647024            5532          39  \n",
      "647025            2764          39  \n",
      "647026            2764          39  \n",
      "647027            3702          39  \n",
      "647028            9513          39  \n",
      "647029            1266          39  \n",
      "647030            3719          39  \n",
      "647031            4503          39  \n",
      "647032            3903          39  \n",
      "647033            3510          39  \n",
      "647034            1006          39  \n",
      "647035            1104          39  \n",
      "647036            7601          39  \n",
      "647037            2302          39  \n",
      "647038            2351          39  \n",
      "647039            4636          39  \n",
      "647040            8910          39  \n",
      "647041            2409          39  \n",
      "647042            6158          39  \n",
      "647043            1110          39  \n",
      "647044            3107          39  \n",
      "647045            7955          39  \n",
      "647046            4639          39  \n",
      "647047            4639          39  \n",
      "647048            8947          39  \n",
      "647049            1118          39  \n",
      "647050            1752          39  \n",
      "647051            4170          39  \n",
      "647052            1512           8  \n",
      "647053            3600           8  \n",
      "\n",
      "[647054 rows x 7 columns]\n"
     ]
    },
    {
     "name": "stderr",
     "output_type": "stream",
     "text": [
      "/Users/sahluwalia/anaconda/lib/python2.7/site-packages/sklearn/preprocessing/label.py:127: DataConversionWarning: A column-vector y was passed when a 1d array was expected. Please change the shape of y to (n_samples, ), for example using ravel().\n",
      "  y = column_or_1d(y, warn=True)\n"
     ]
    }
   ],
   "source": [
    "import pandas as pd\n",
    "from sklearn import tree\n",
    "from sklearn.feature_extraction import DictVectorizer\n",
    "from sklearn import preprocessing\n",
    "\n",
    "# encode labels\n",
    "labels = train[['TripType']]\n",
    "le = preprocessing.LabelEncoder()\n",
    "labels_fea = le.fit_transform(labels) \n",
    "# vectorize training data\n",
    "del train['TripType']\n",
    "train_as_dicts = [dict(r.iteritems()) for _, r in train.iterrows()]\n",
    "train_fea = DictVectorizer(sparse=False).fit_transform(train_as_dicts)\n",
    "# use decision tree\n",
    "dt = tree.DecisionTreeClassifier()\n",
    "dt.fit(train_fea, labels_fea)\n",
    "# transform result\n",
    "predictions = le.inverse_transform(dt.predict(train_fea).astype('I'))\n",
    "predictions_as_dataframe = train.join(pd.DataFrame({\"Prediction\": predictions}))\n",
    "print predictions_as_dataframe"
   ]
  },
  {
   "cell_type": "code",
   "execution_count": 64,
   "metadata": {
    "collapsed": false
   },
   "outputs": [
    {
     "data": {
      "text/html": [
       "<div>\n",
       "<table border=\"1\" class=\"dataframe\">\n",
       "  <thead>\n",
       "    <tr style=\"text-align: right;\">\n",
       "      <th></th>\n",
       "      <th>VisitNumber</th>\n",
       "      <th>Weekday</th>\n",
       "      <th>Upc</th>\n",
       "      <th>ScanCount</th>\n",
       "      <th>DepartmentDescription</th>\n",
       "      <th>FinelineNumber</th>\n",
       "      <th>Prediction</th>\n",
       "    </tr>\n",
       "  </thead>\n",
       "  <tbody>\n",
       "    <tr>\n",
       "      <th>0</th>\n",
       "      <td>5</td>\n",
       "      <td>Friday</td>\n",
       "      <td>68113152929</td>\n",
       "      <td>-1</td>\n",
       "      <td>FINANCIAL SERVICES</td>\n",
       "      <td>1000</td>\n",
       "      <td>999</td>\n",
       "    </tr>\n",
       "    <tr>\n",
       "      <th>1</th>\n",
       "      <td>7</td>\n",
       "      <td>Friday</td>\n",
       "      <td>60538815980</td>\n",
       "      <td>1</td>\n",
       "      <td>SHOES</td>\n",
       "      <td>8931</td>\n",
       "      <td>30</td>\n",
       "    </tr>\n",
       "    <tr>\n",
       "      <th>2</th>\n",
       "      <td>7</td>\n",
       "      <td>Friday</td>\n",
       "      <td>7410811099</td>\n",
       "      <td>1</td>\n",
       "      <td>PERSONAL CARE</td>\n",
       "      <td>4504</td>\n",
       "      <td>30</td>\n",
       "    </tr>\n",
       "  </tbody>\n",
       "</table>\n",
       "</div>"
      ],
      "text/plain": [
       "   VisitNumber Weekday          Upc  ScanCount DepartmentDescription  \\\n",
       "0            5  Friday  68113152929         -1    FINANCIAL SERVICES   \n",
       "1            7  Friday  60538815980          1                 SHOES   \n",
       "2            7  Friday   7410811099          1         PERSONAL CARE   \n",
       "\n",
       "   FinelineNumber  Prediction  \n",
       "0            1000         999  \n",
       "1            8931          30  \n",
       "2            4504          30  "
      ]
     },
     "execution_count": 64,
     "metadata": {},
     "output_type": "execute_result"
    }
   ],
   "source": [
    "predictions_as_dataframe.head(3)"
   ]
  },
  {
   "cell_type": "code",
   "execution_count": 50,
   "metadata": {
    "collapsed": false
   },
   "outputs": [],
   "source": [
    "predictions = predictions_as_dataframe[['Prediction']]"
   ]
  },
  {
   "cell_type": "code",
   "execution_count": 53,
   "metadata": {
    "collapsed": false
   },
   "outputs": [],
   "source": [
    "train_reference_triptype = train_reference[['TripType']]"
   ]
  },
  {
   "cell_type": "code",
   "execution_count": 56,
   "metadata": {
    "collapsed": false
   },
   "outputs": [],
   "source": [
    "superimposed = predictions.join(train_reference_triptype)"
   ]
  },
  {
   "cell_type": "code",
   "execution_count": 65,
   "metadata": {
    "collapsed": false
   },
   "outputs": [],
   "source": [
    "# Create an empty column for the full names\n",
    "superimposed['Values'] = np.NaN\n",
    "\n",
    "# Create an iteration counter\n",
    "i = 0\n",
    "\n",
    "# For each element in first_name and last_name,\n",
    "for prediction, true in zip(superimposed['Prediction'], superimposed['TripType']):\n",
    "    # Change the value of the i'th row in full_name \n",
    "    # to the combination of the first and last name\n",
    "    if superimposed['Prediction'][i] == superimposed['TripType'][i]:\n",
    "        break\n",
    "\n",
    "    # Add one to the iteration counter\n",
    "    i = i+1"
   ]
  },
  {
   "cell_type": "code",
   "execution_count": 1,
   "metadata": {
    "collapsed": true
   },
   "outputs": [],
   "source": [
    "def fill_with_bars(old_df, number=10):\n",
    "    empty_col = [' '*i for i in range(1,number+1)]\n",
    "    tmp = df(columns=empty_col)\n",
    "    return pd.concat([tmp,old_df], axis=1).fillna('')"
   ]
  },
  {
   "cell_type": "code",
   "execution_count": 9,
   "metadata": {
    "collapsed": true
   },
   "outputs": [],
   "source": [
    "train_data.fillna(0, inplace = True )\n",
    "test_data.fillna(0, inplace = True )"
   ]
  },
  {
   "cell_type": "code",
   "execution_count": 14,
   "metadata": {
    "collapsed": true
   },
   "outputs": [],
   "source": [
    "train_data.to_csv('Train_Vectorizer.csv', encoding='utf-8', index=False)"
   ]
  },
  {
   "cell_type": "code",
   "execution_count": 13,
   "metadata": {
    "collapsed": true
   },
   "outputs": [],
   "source": [
    "test_data.to_csv('Test_Vectorizer.csv', encoding='utf-8', index=False)"
   ]
  }
 ],
 "metadata": {
  "kernelspec": {
   "display_name": "Python 2",
   "language": "python",
   "name": "python2"
  },
  "language_info": {
   "codemirror_mode": {
    "name": "ipython",
    "version": 2
   },
   "file_extension": ".py",
   "mimetype": "text/x-python",
   "name": "python",
   "nbconvert_exporter": "python",
   "pygments_lexer": "ipython2",
   "version": "2.7.10"
  }
 },
 "nbformat": 4,
 "nbformat_minor": 0
}
