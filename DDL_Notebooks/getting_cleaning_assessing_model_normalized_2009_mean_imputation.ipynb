{
 "cells": [
  {
   "cell_type": "code",
   "execution_count": 1,
   "metadata": {
    "collapsed": true
   },
   "outputs": [],
   "source": [
    "import pandas as pd\n",
    "import numpy as np"
   ]
  },
  {
   "cell_type": "code",
   "execution_count": 2,
   "metadata": {
    "collapsed": true
   },
   "outputs": [],
   "source": [
    "gentrification = pd.read_csv('2009_ACS_normalized_data.csv', encoding='utf-8')"
   ]
  },
  {
   "cell_type": "code",
   "execution_count": 3,
   "metadata": {
    "collapsed": false
   },
   "outputs": [
    {
     "data": {
      "text/plain": [
       "494"
      ]
     },
     "execution_count": 3,
     "metadata": {},
     "output_type": "execute_result"
    }
   ],
   "source": [
    "gentrification.columns.size"
   ]
  },
  {
   "cell_type": "code",
   "execution_count": 4,
   "metadata": {
    "collapsed": false
   },
   "outputs": [
    {
     "data": {
      "text/plain": [
       "(613, 494)"
      ]
     },
     "execution_count": 4,
     "metadata": {},
     "output_type": "execute_result"
    }
   ],
   "source": [
    "gentrification.shape"
   ]
  },
  {
   "cell_type": "code",
   "execution_count": 124,
   "metadata": {
    "collapsed": false
   },
   "outputs": [
    {
     "data": {
      "text/plain": [
       "['Geography',\n",
       " 'GENTRIFIED',\n",
       " 'ACS_09_B08303_HD01_VD01_Estimate; Total:_100scale',\n",
       " 'ACS_09_B08303_HD01_VD02_Estimate; Less than 5 minutes_100scale',\n",
       " 'ACS_09_B08303_HD01_VD03_Estimate; 5 to 9 minutes_100scale',\n",
       " 'ACS_09_B08303_HD01_VD04_Estimate; 10 to 14 minutes_100scale',\n",
       " 'ACS_09_B08303_HD01_VD05_Estimate; 15 to 19 minutes_100scale',\n",
       " 'ACS_09_B08303_HD01_VD06_Estimate; 20 to 24 minutes_100scale',\n",
       " 'ACS_09_B08303_HD01_VD07_Estimate; 25 to 29 minutes_100scale',\n",
       " 'ACS_09_B08303_HD01_VD08_Estimate; 30 to 34 minutes_100scale',\n",
       " 'ACS_09_B08303_HD01_VD09_Estimate; 35 to 39 minutes_100scale',\n",
       " 'ACS_09_B08303_HD01_VD10_Estimate; 40 to 44 minutes_100scale',\n",
       " 'ACS_09_B08303_HD01_VD11_Estimate; 45 to 59 minutes_100scale',\n",
       " 'ACS_09_B08303_HD01_VD12_Estimate; 60 to 89 minutes_100scale',\n",
       " 'ACS_09_B08303_HD01_VD13_Estimate; 90 or more minutes_100scale',\n",
       " 'ACS_09_B12002_HD01_VD01_Estimate; Total:_100scale',\n",
       " 'ACS_09_B12002_HD01_VD02_Estimate; Male:_100scale',\n",
       " 'ACS_09_B12002_HD01_VD03_Estimate; Male: - Never married:_100scale',\n",
       " 'ACS_09_B12002_HD01_VD04_Estimate; Male: - Never married: - 15 to 17 years_100scale',\n",
       " 'ACS_09_B12002_HD01_VD05_Estimate; Male: - Never married: - 18 and 19 years_100scale',\n",
       " 'ACS_09_B12002_HD01_VD06_Estimate; Male: - Never married: - 20 to 24 years_100scale',\n",
       " 'ACS_09_B12002_HD01_VD07_Estimate; Male: - Never married: - 25 to 29 years_100scale',\n",
       " 'ACS_09_B12002_HD01_VD08_Estimate; Male: - Never married: - 30 to 34 years_100scale',\n",
       " 'ACS_09_B12002_HD01_VD09_Estimate; Male: - Never married: - 35 to 39 years_100scale',\n",
       " 'ACS_09_B12002_HD01_VD10_Estimate; Male: - Never married: - 40 to 44 years_100scale',\n",
       " 'ACS_09_B12002_HD01_VD11_Estimate; Male: - Never married: - 45 to 49 years_100scale',\n",
       " 'ACS_09_B12002_HD01_VD12_Estimate; Male: - Never married: - 50 to 54 years_100scale',\n",
       " 'ACS_09_B12002_HD01_VD13_Estimate; Male: - Never married: - 55 to 59 years_100scale',\n",
       " 'ACS_09_B12002_HD01_VD14_Estimate; Male: - Never married: - 60 to 64 years_100scale',\n",
       " 'ACS_09_B12002_HD01_VD15_Estimate; Male: - Never married: - 65 to 74 years_100scale',\n",
       " 'ACS_09_B12002_HD01_VD16_Estimate; Male: - Never married: - 75 to 84 years_100scale',\n",
       " 'ACS_09_B12002_HD01_VD17_Estimate; Male: - Never married: - 85 years and over_100scale',\n",
       " 'ACS_09_B12002_HD01_VD18_Estimate; Male: - Now married:_100scale',\n",
       " 'ACS_09_B12002_HD01_VD19_Estimate; Male: - Now married: - Married, spouse present:_100scale',\n",
       " 'ACS_09_B12002_HD01_VD20_Estimate; Male: - Now married: - Married, spouse present: - 15 to 17 years_100scale',\n",
       " 'ACS_09_B12002_HD01_VD21_Estimate; Male: - Now married: - Married, spouse present: - 18 and 19 years_100scale',\n",
       " 'ACS_09_B12002_HD01_VD22_Estimate; Male: - Now married: - Married, spouse present: - 20 to 24 years_100scale',\n",
       " 'ACS_09_B12002_HD01_VD23_Estimate; Male: - Now married: - Married, spouse present: - 25 to 29 years_100scale',\n",
       " 'ACS_09_B12002_HD01_VD24_Estimate; Male: - Now married: - Married, spouse present: - 30 to 34 years_100scale',\n",
       " 'ACS_09_B12002_HD01_VD25_Estimate; Male: - Now married: - Married, spouse present: - 35 to 39 years_100scale',\n",
       " 'ACS_09_B12002_HD01_VD26_Estimate; Male: - Now married: - Married, spouse present: - 40 to 44 years_100scale',\n",
       " 'ACS_09_B12002_HD01_VD27_Estimate; Male: - Now married: - Married, spouse present: - 45 to 49 years_100scale',\n",
       " 'ACS_09_B12002_HD01_VD28_Estimate; Male: - Now married: - Married, spouse present: - 50 to 54 years_100scale',\n",
       " 'ACS_09_B12002_HD01_VD29_Estimate; Male: - Now married: - Married, spouse present: - 55 to 59 years_100scale',\n",
       " 'ACS_09_B12002_HD01_VD30_Estimate; Male: - Now married: - Married, spouse present: - 60 to 64 years_100scale',\n",
       " 'ACS_09_B12002_HD01_VD31_Estimate; Male: - Now married: - Married, spouse present: - 65 to 74 years_100scale',\n",
       " 'ACS_09_B12002_HD01_VD32_Estimate; Male: - Now married: - Married, spouse present: - 75 to 84 years_100scale',\n",
       " 'ACS_09_B12002_HD01_VD33_Estimate; Male: - Now married: - Married, spouse present: - 85 years and over_100scale',\n",
       " 'ACS_09_B12002_HD01_VD34_Estimate; Male: - Now married: - Married, spouse absent:_100scale',\n",
       " 'ACS_09_B12002_HD01_VD35_Estimate; Male: - Now married: - Married, spouse absent: - Separated:_100scale',\n",
       " 'ACS_09_B12002_HD01_VD36_Estimate; Male: - Now married: - Married, spouse absent: - Separated: - 15 to 17 years_100scale',\n",
       " 'ACS_09_B12002_HD01_VD37_Estimate; Male: - Now married: - Married, spouse absent: - Separated: - 18 and 19 years_100scale',\n",
       " 'ACS_09_B12002_HD01_VD38_Estimate; Male: - Now married: - Married, spouse absent: - Separated: - 20 to 24 years_100scale',\n",
       " 'ACS_09_B12002_HD01_VD39_Estimate; Male: - Now married: - Married, spouse absent: - Separated: - 25 to 29 years_100scale',\n",
       " 'ACS_09_B12002_HD01_VD40_Estimate; Male: - Now married: - Married, spouse absent: - Separated: - 30 to 34 years_100scale',\n",
       " 'ACS_09_B12002_HD01_VD41_Estimate; Male: - Now married: - Married, spouse absent: - Separated: - 35 to 39 years_100scale',\n",
       " 'ACS_09_B12002_HD01_VD42_Estimate; Male: - Now married: - Married, spouse absent: - Separated: - 40 to 44 years_100scale',\n",
       " 'ACS_09_B12002_HD01_VD43_Estimate; Male: - Now married: - Married, spouse absent: - Separated: - 45 to 49 years_100scale',\n",
       " 'ACS_09_B12002_HD01_VD44_Estimate; Male: - Now married: - Married, spouse absent: - Separated: - 50 to 54 years_100scale',\n",
       " 'ACS_09_B12002_HD01_VD45_Estimate; Male: - Now married: - Married, spouse absent: - Separated: - 55 to 59 years_100scale',\n",
       " 'ACS_09_B12002_HD01_VD46_Estimate; Male: - Now married: - Married, spouse absent: - Separated: - 60 to 64 years_100scale',\n",
       " 'ACS_09_B12002_HD01_VD47_Estimate; Male: - Now married: - Married, spouse absent: - Separated: - 65 to 74 years_100scale',\n",
       " 'ACS_09_B12002_HD01_VD48_Estimate; Male: - Now married: - Married, spouse absent: - Separated: - 75 to 84 years_100scale',\n",
       " 'ACS_09_B12002_HD01_VD49_Estimate; Male: - Now married: - Married, spouse absent: - Separated: - 85 years and over_100scale',\n",
       " 'ACS_09_B12002_HD01_VD50_Estimate; Male: - Now married: - Married, spouse absent: - Other:_100scale',\n",
       " 'ACS_09_B12002_HD01_VD51_Estimate; Male: - Now married: - Married, spouse absent: - Other: - 15 to 17 years_100scale',\n",
       " 'ACS_09_B12002_HD01_VD52_Estimate; Male: - Now married: - Married, spouse absent: - Other: - 18 and 19 years_100scale',\n",
       " 'ACS_09_B12002_HD01_VD53_Estimate; Male: - Now married: - Married, spouse absent: - Other: - 20 to 24 years_100scale',\n",
       " 'ACS_09_B12002_HD01_VD54_Estimate; Male: - Now married: - Married, spouse absent: - Other: - 25 to 29 years_100scale',\n",
       " 'ACS_09_B12002_HD01_VD55_Estimate; Male: - Now married: - Married, spouse absent: - Other: - 30 to 34 years_100scale',\n",
       " 'ACS_09_B12002_HD01_VD56_Estimate; Male: - Now married: - Married, spouse absent: - Other: - 35 to 39 years_100scale',\n",
       " 'ACS_09_B12002_HD01_VD57_Estimate; Male: - Now married: - Married, spouse absent: - Other: - 40 to 44 years_100scale',\n",
       " 'ACS_09_B12002_HD01_VD58_Estimate; Male: - Now married: - Married, spouse absent: - Other: - 45 to 49 years_100scale',\n",
       " 'ACS_09_B12002_HD01_VD59_Estimate; Male: - Now married: - Married, spouse absent: - Other: - 50 to 54 years_100scale',\n",
       " 'ACS_09_B12002_HD01_VD60_Estimate; Male: - Now married: - Married, spouse absent: - Other: - 55 to 59 years_100scale',\n",
       " 'ACS_09_B12002_HD01_VD61_Estimate; Male: - Now married: - Married, spouse absent: - Other: - 60 to 64 years_100scale',\n",
       " 'ACS_09_B12002_HD01_VD62_Estimate; Male: - Now married: - Married, spouse absent: - Other: - 65 to 74 years_100scale',\n",
       " 'ACS_09_B12002_HD01_VD63_Estimate; Male: - Now married: - Married, spouse absent: - Other: - 75 to 84 years_100scale',\n",
       " 'ACS_09_B12002_HD01_VD64_Estimate; Male: - Now married: - Married, spouse absent: - Other: - 85 years and over_100scale',\n",
       " 'ACS_09_B12002_HD01_VD65_Estimate; Male: - Widowed:_100scale',\n",
       " 'ACS_09_B12002_HD01_VD66_Estimate; Male: - Widowed: - 15 to 17 years_100scale',\n",
       " 'ACS_09_B12002_HD01_VD67_Estimate; Male: - Widowed: - 18 and 19 years_100scale',\n",
       " 'ACS_09_B12002_HD01_VD68_Estimate; Male: - Widowed: - 20 to 24 years_100scale',\n",
       " 'ACS_09_B12002_HD01_VD69_Estimate; Male: - Widowed: - 25 to 29 years_100scale',\n",
       " 'ACS_09_B12002_HD01_VD70_Estimate; Male: - Widowed: - 30 to 34 years_100scale',\n",
       " 'ACS_09_B12002_HD01_VD71_Estimate; Male: - Widowed: - 35 to 39 years_100scale',\n",
       " 'ACS_09_B12002_HD01_VD72_Estimate; Male: - Widowed: - 40 to 44 years_100scale',\n",
       " 'ACS_09_B12002_HD01_VD73_Estimate; Male: - Widowed: - 45 to 49 years_100scale',\n",
       " 'ACS_09_B12002_HD01_VD74_Estimate; Male: - Widowed: - 50 to 54 years_100scale',\n",
       " 'ACS_09_B12002_HD01_VD75_Estimate; Male: - Widowed: - 55 to 59 years_100scale',\n",
       " 'ACS_09_B12002_HD01_VD76_Estimate; Male: - Widowed: - 60 to 64 years_100scale',\n",
       " 'ACS_09_B12002_HD01_VD77_Estimate; Male: - Widowed: - 65 to 74 years_100scale',\n",
       " 'ACS_09_B12002_HD01_VD78_Estimate; Male: - Widowed: - 75 to 84 years_100scale',\n",
       " 'ACS_09_B12002_HD01_VD79_Estimate; Male: - Widowed: - 85 years and over_100scale',\n",
       " 'ACS_09_B12002_HD01_VD80_Estimate; Male: - Divorced:_100scale',\n",
       " 'ACS_09_B12002_HD01_VD81_Estimate; Male: - Divorced: - 15 to 17 years_100scale',\n",
       " 'ACS_09_B12002_HD01_VD82_Estimate; Male: - Divorced: - 18 and 19 years_100scale',\n",
       " 'ACS_09_B12002_HD01_VD83_Estimate; Male: - Divorced: - 20 to 24 years_100scale',\n",
       " 'ACS_09_B12002_HD01_VD84_Estimate; Male: - Divorced: - 25 to 29 years_100scale',\n",
       " 'ACS_09_B12002_HD01_VD85_Estimate; Male: - Divorced: - 30 to 34 years_100scale',\n",
       " 'ACS_09_B12002_HD01_VD86_Estimate; Male: - Divorced: - 35 to 39 years_100scale',\n",
       " 'ACS_09_B12002_HD01_VD87_Estimate; Male: - Divorced: - 40 to 44 years_100scale',\n",
       " 'ACS_09_B12002_HD01_VD88_Estimate; Male: - Divorced: - 45 to 49 years_100scale',\n",
       " 'ACS_09_B12002_HD01_VD89_Estimate; Male: - Divorced: - 50 to 54 years_100scale',\n",
       " 'ACS_09_B12002_HD01_VD90_Estimate; Male: - Divorced: - 55 to 59 years_100scale',\n",
       " 'ACS_09_B12002_HD01_VD91_Estimate; Male: - Divorced: - 60 to 64 years_100scale',\n",
       " 'ACS_09_B12002_HD01_VD92_Estimate; Male: - Divorced: - 65 to 74 years_100scale',\n",
       " 'ACS_09_B12002_HD01_VD93_Estimate; Male: - Divorced: - 75 to 84 years_100scale',\n",
       " 'ACS_09_B12002_HD01_VD94_Estimate; Male: - Divorced: - 85 years and over_100scale',\n",
       " 'ACS_09_B12002_HD01_VD95_Estimate; Female:_100scale',\n",
       " 'ACS_09_B12002_HD01_VD96_Estimate; Female: - Never married:_100scale',\n",
       " 'ACS_09_B12002_HD01_VD97_Estimate; Female: - Never married: - 15 to 17 years_100scale',\n",
       " 'ACS_09_B12002_HD01_VD98_Estimate; Female: - Never married: - 18 and 19 years_100scale',\n",
       " 'ACS_09_B12002_HD01_VD99_Estimate; Female: - Never married: - 20 to 24 years_100scale',\n",
       " 'ACS_09_B12002_HD01_VD100_Estimate; Female: - Never married: - 25 to 29 years_100scale',\n",
       " 'ACS_09_B12002_HD01_VD101_Estimate; Female: - Never married: - 30 to 34 years_100scale',\n",
       " 'ACS_09_B12002_HD01_VD102_Estimate; Female: - Never married: - 35 to 39 years_100scale',\n",
       " 'ACS_09_B12002_HD01_VD103_Estimate; Female: - Never married: - 40 to 44 years_100scale',\n",
       " 'ACS_09_B12002_HD01_VD104_Estimate; Female: - Never married: - 45 to 49 years_100scale',\n",
       " 'ACS_09_B12002_HD01_VD105_Estimate; Female: - Never married: - 50 to 54 years_100scale',\n",
       " 'ACS_09_B12002_HD01_VD106_Estimate; Female: - Never married: - 55 to 59 years_100scale',\n",
       " 'ACS_09_B12002_HD01_VD107_Estimate; Female: - Never married: - 60 to 64 years_100scale',\n",
       " 'ACS_09_B12002_HD01_VD108_Estimate; Female: - Never married: - 65 to 74 years_100scale',\n",
       " 'ACS_09_B12002_HD01_VD109_Estimate; Female: - Never married: - 75 to 84 years_100scale',\n",
       " 'ACS_09_B12002_HD01_VD110_Estimate; Female: - Never married: - 85 years and over_100scale',\n",
       " 'ACS_09_B12002_HD01_VD111_Estimate; Female: - Now married:_100scale',\n",
       " 'ACS_09_B12002_HD01_VD112_Estimate; Female: - Now married: - Married, spouse present:_100scale',\n",
       " 'ACS_09_B12002_HD01_VD113_Estimate; Female: - Now married: - Married, spouse present: - 15 to 17 years_100scale',\n",
       " 'ACS_09_B12002_HD01_VD114_Estimate; Female: - Now married: - Married, spouse present: - 18 and 19 years_100scale',\n",
       " 'ACS_09_B12002_HD01_VD115_Estimate; Female: - Now married: - Married, spouse present: - 20 to 24 years_100scale',\n",
       " 'ACS_09_B12002_HD01_VD116_Estimate; Female: - Now married: - Married, spouse present: - 25 to 29 years_100scale',\n",
       " 'ACS_09_B12002_HD01_VD117_Estimate; Female: - Now married: - Married, spouse present: - 30 to 34 years_100scale',\n",
       " 'ACS_09_B12002_HD01_VD118_Estimate; Female: - Now married: - Married, spouse present: - 35 to 39 years_100scale',\n",
       " 'ACS_09_B12002_HD01_VD119_Estimate; Female: - Now married: - Married, spouse present: - 40 to 44 years_100scale',\n",
       " 'ACS_09_B12002_HD01_VD120_Estimate; Female: - Now married: - Married, spouse present: - 45 to 49 years_100scale',\n",
       " 'ACS_09_B12002_HD01_VD121_Estimate; Female: - Now married: - Married, spouse present: - 50 to 54 years_100scale',\n",
       " 'ACS_09_B12002_HD01_VD122_Estimate; Female: - Now married: - Married, spouse present: - 55 to 59 years_100scale',\n",
       " 'ACS_09_B12002_HD01_VD123_Estimate; Female: - Now married: - Married, spouse present: - 60 to 64 years_100scale',\n",
       " 'ACS_09_B12002_HD01_VD124_Estimate; Female: - Now married: - Married, spouse present: - 65 to 74 years_100scale',\n",
       " 'ACS_09_B12002_HD01_VD125_Estimate; Female: - Now married: - Married, spouse present: - 75 to 84 years_100scale',\n",
       " 'ACS_09_B12002_HD01_VD126_Estimate; Female: - Now married: - Married, spouse present: - 85 years and over_100scale',\n",
       " 'ACS_09_B12002_HD01_VD127_Estimate; Female: - Now married: - Married, spouse absent:_100scale',\n",
       " 'ACS_09_B12002_HD01_VD128_Estimate; Female: - Now married: - Married, spouse absent: - Separated:_100scale',\n",
       " 'ACS_09_B12002_HD01_VD129_Estimate; Female: - Now married: - Married, spouse absent: - Separated: - 15 to 17 years_100scale',\n",
       " 'ACS_09_B12002_HD01_VD130_Estimate; Female: - Now married: - Married, spouse absent: - Separated: - 18 and 19 years_100scale',\n",
       " 'ACS_09_B12002_HD01_VD131_Estimate; Female: - Now married: - Married, spouse absent: - Separated: - 20 to 24 years_100scale',\n",
       " 'ACS_09_B12002_HD01_VD132_Estimate; Female: - Now married: - Married, spouse absent: - Separated: - 25 to 29 years_100scale',\n",
       " 'ACS_09_B12002_HD01_VD133_Estimate; Female: - Now married: - Married, spouse absent: - Separated: - 30 to 34 years_100scale',\n",
       " 'ACS_09_B12002_HD01_VD134_Estimate; Female: - Now married: - Married, spouse absent: - Separated: - 35 to 39 years_100scale',\n",
       " 'ACS_09_B12002_HD01_VD135_Estimate; Female: - Now married: - Married, spouse absent: - Separated: - 40 to 44 years_100scale',\n",
       " 'ACS_09_B12002_HD01_VD136_Estimate; Female: - Now married: - Married, spouse absent: - Separated: - 45 to 49 years_100scale',\n",
       " 'ACS_09_B12002_HD01_VD137_Estimate; Female: - Now married: - Married, spouse absent: - Separated: - 50 to 54 years_100scale',\n",
       " 'ACS_09_B12002_HD01_VD138_Estimate; Female: - Now married: - Married, spouse absent: - Separated: - 55 to 59 years_100scale',\n",
       " 'ACS_09_B12002_HD01_VD139_Estimate; Female: - Now married: - Married, spouse absent: - Separated: - 60 to 64 years_100scale',\n",
       " 'ACS_09_B12002_HD01_VD140_Estimate; Female: - Now married: - Married, spouse absent: - Separated: - 65 to 74 years_100scale',\n",
       " 'ACS_09_B12002_HD01_VD141_Estimate; Female: - Now married: - Married, spouse absent: - Separated: - 75 to 84 years_100scale',\n",
       " 'ACS_09_B12002_HD01_VD142_Estimate; Female: - Now married: - Married, spouse absent: - Separated: - 85 years and over_100scale',\n",
       " 'ACS_09_B12002_HD01_VD143_Estimate; Female: - Now married: - Married, spouse absent: - Other:_100scale',\n",
       " 'ACS_09_B12002_HD01_VD144_Estimate; Female: - Now married: - Married, spouse absent: - Other: - 15 to 17 years_100scale',\n",
       " 'ACS_09_B12002_HD01_VD145_Estimate; Female: - Now married: - Married, spouse absent: - Other: - 18 and 19 years_100scale',\n",
       " 'ACS_09_B12002_HD01_VD146_Estimate; Female: - Now married: - Married, spouse absent: - Other: - 20 to 24 years_100scale',\n",
       " 'ACS_09_B12002_HD01_VD147_Estimate; Female: - Now married: - Married, spouse absent: - Other: - 25 to 29 years_100scale',\n",
       " 'ACS_09_B12002_HD01_VD148_Estimate; Female: - Now married: - Married, spouse absent: - Other: - 30 to 34 years_100scale',\n",
       " 'ACS_09_B12002_HD01_VD149_Estimate; Female: - Now married: - Married, spouse absent: - Other: - 35 to 39 years_100scale',\n",
       " 'ACS_09_B12002_HD01_VD150_Estimate; Female: - Now married: - Married, spouse absent: - Other: - 40 to 44 years_100scale',\n",
       " 'ACS_09_B12002_HD01_VD151_Estimate; Female: - Now married: - Married, spouse absent: - Other: - 45 to 49 years_100scale',\n",
       " 'ACS_09_B12002_HD01_VD152_Estimate; Female: - Now married: - Married, spouse absent: - Other: - 50 to 54 years_100scale',\n",
       " 'ACS_09_B12002_HD01_VD153_Estimate; Female: - Now married: - Married, spouse absent: - Other: - 55 to 59 years_100scale',\n",
       " 'ACS_09_B12002_HD01_VD154_Estimate; Female: - Now married: - Married, spouse absent: - Other: - 60 to 64 years_100scale',\n",
       " 'ACS_09_B12002_HD01_VD155_Estimate; Female: - Now married: - Married, spouse absent: - Other: - 65 to 74 years_100scale',\n",
       " 'ACS_09_B12002_HD01_VD156_Estimate; Female: - Now married: - Married, spouse absent: - Other: - 75 to 84 years_100scale',\n",
       " 'ACS_09_B12002_HD01_VD157_Estimate; Female: - Now married: - Married, spouse absent: - Other: - 85 years and over_100scale',\n",
       " 'ACS_09_B12002_HD01_VD158_Estimate; Female: - Widowed:_100scale',\n",
       " 'ACS_09_B12002_HD01_VD159_Estimate; Female: - Widowed: - 15 to 17 years_100scale',\n",
       " 'ACS_09_B12002_HD01_VD160_Estimate; Female: - Widowed: - 18 and 19 years_100scale',\n",
       " 'ACS_09_B12002_HD01_VD161_Estimate; Female: - Widowed: - 20 to 24 years_100scale',\n",
       " 'ACS_09_B12002_HD01_VD162_Estimate; Female: - Widowed: - 25 to 29 years_100scale',\n",
       " 'ACS_09_B12002_HD01_VD163_Estimate; Female: - Widowed: - 30 to 34 years_100scale',\n",
       " 'ACS_09_B12002_HD01_VD164_Estimate; Female: - Widowed: - 35 to 39 years_100scale',\n",
       " 'ACS_09_B12002_HD01_VD165_Estimate; Female: - Widowed: - 40 to 44 years_100scale',\n",
       " 'ACS_09_B12002_HD01_VD166_Estimate; Female: - Widowed: - 45 to 49 years_100scale',\n",
       " 'ACS_09_B12002_HD01_VD167_Estimate; Female: - Widowed: - 50 to 54 years_100scale',\n",
       " 'ACS_09_B12002_HD01_VD168_Estimate; Female: - Widowed: - 55 to 59 years_100scale',\n",
       " 'ACS_09_B12002_HD01_VD169_Estimate; Female: - Widowed: - 60 to 64 years_100scale',\n",
       " 'ACS_09_B12002_HD01_VD170_Estimate; Female: - Widowed: - 65 to 74 years_100scale',\n",
       " 'ACS_09_B12002_HD01_VD171_Estimate; Female: - Widowed: - 75 to 84 years_100scale',\n",
       " 'ACS_09_B12002_HD01_VD172_Estimate; Female: - Widowed: - 85 years and over_100scale',\n",
       " 'ACS_09_B12002_HD01_VD173_Estimate; Female: - Divorced:_100scale',\n",
       " 'ACS_09_B12002_HD01_VD174_Estimate; Female: - Divorced: - 15 to 17 years_100scale',\n",
       " 'ACS_09_B12002_HD01_VD175_Estimate; Female: - Divorced: - 18 and 19 years_100scale',\n",
       " 'ACS_09_B12002_HD01_VD176_Estimate; Female: - Divorced: - 20 to 24 years_100scale',\n",
       " 'ACS_09_B12002_HD01_VD177_Estimate; Female: - Divorced: - 25 to 29 years_100scale',\n",
       " 'ACS_09_B12002_HD01_VD178_Estimate; Female: - Divorced: - 30 to 34 years_100scale',\n",
       " 'ACS_09_B12002_HD01_VD179_Estimate; Female: - Divorced: - 35 to 39 years_100scale',\n",
       " 'ACS_09_B12002_HD01_VD180_Estimate; Female: - Divorced: - 40 to 44 years_100scale',\n",
       " 'ACS_09_B12002_HD01_VD181_Estimate; Female: - Divorced: - 45 to 49 years_100scale',\n",
       " 'ACS_09_B12002_HD01_VD182_Estimate; Female: - Divorced: - 50 to 54 years_100scale',\n",
       " 'ACS_09_B12002_HD01_VD183_Estimate; Female: - Divorced: - 55 to 59 years_100scale',\n",
       " 'ACS_09_B12002_HD01_VD184_Estimate; Female: - Divorced: - 60 to 64 years_100scale',\n",
       " 'ACS_09_B12002_HD01_VD185_Estimate; Female: - Divorced: - 65 to 74 years_100scale',\n",
       " 'ACS_09_B12002_HD01_VD186_Estimate; Female: - Divorced: - 75 to 84 years_100scale',\n",
       " 'ACS_09_B12002_HD01_VD187_Estimate; Female: - Divorced: - 85 years and over_100scale',\n",
       " 'ACS_09_B19013_HD01_VD01_Estimate; Median household income in the past 12 months (in 2009 inflation-adjusted dollars)_100scale',\n",
       " 'ACS_09_B19054_HD01_VD01_Estimate; Total:_100scale',\n",
       " 'ACS_09_B19054_HD01_VD02_Estimate; With interest, dividends, or net rental income_100scale',\n",
       " 'ACS_09_B19054_HD01_VD03_Estimate; No interest, dividends, or net rental income_100scale',\n",
       " 'ACS_09_B19055_HD01_VD01_Estimate; Total:_100scale',\n",
       " 'ACS_09_B19055_HD01_VD02_Estimate; With Social Security income_100scale',\n",
       " 'ACS_09_B19055_HD01_VD03_Estimate; No Social Security income_100scale',\n",
       " 'ACS_09_B25003_HD01_VD01_Estimate; Total:_100scale',\n",
       " 'ACS_09_B25003_HD01_VD02_Estimate; Owner occupied_100scale',\n",
       " 'ACS_09_B25003_HD01_VD03_Estimate; Renter occupied_100scale',\n",
       " 'ACS_09_B25006_HD01_VD01_Estimate; Total:_100scale',\n",
       " 'ACS_09_B25006_HD01_VD02_Estimate; Householder who is White alone_100scale',\n",
       " 'ACS_09_B25006_HD01_VD03_Estimate; Householder who is Black or African American alone_100scale',\n",
       " 'ACS_09_B25006_HD01_VD04_Estimate; Householder who is American Indian and Alaska Native alone_100scale',\n",
       " 'ACS_09_B25006_HD01_VD05_Estimate; Householder who is Asian alone_100scale',\n",
       " 'ACS_09_B25006_HD01_VD06_Estimate; Householder who is Native Hawaiian and Other Pacific Islander alone_100scale',\n",
       " 'ACS_09_B25006_HD01_VD07_Estimate; Householder who is Some other race alone_100scale',\n",
       " 'ACS_09_B25006_HD01_VD08_Estimate; Householder who is Two or more races:_100scale',\n",
       " 'ACS_09_B25006_HD01_VD09_Estimate; Householder who is Two or more races: - Householder who is Two races including Some other race_100scale',\n",
       " 'ACS_09_B25006_HD01_VD10_Estimate; Householder who is Two or more races: - Householder who is Two races excluding Some other race, and three or more races_100scale',\n",
       " 'ACS_09_B25018_HD01_VD01_Estimate; Median number of rooms_100scale',\n",
       " 'ACS_09_B25081_HD01_VD01_Estimate; Total:_100scale',\n",
       " 'ACS_09_B25081_HD01_VD02_Estimate; Housing units with a mortgage, contract to purchase, or similar debt:_100scale',\n",
       " 'ACS_09_B25081_HD01_VD03_Estimate; Housing units with a mortgage, contract to purchase, or similar debt: - With either a second mortgage or home equity loan, but not both:_100scale',\n",
       " 'ACS_09_B25081_HD01_VD04_Estimate; Housing units with a mortgage, contract to purchase, or similar debt: - With either a second mortgage or home equity loan, but not both: - Second mortgage only_100scale',\n",
       " 'ACS_09_B25081_HD01_VD05_Estimate; Housing units with a mortgage, contract to purchase, or similar debt: - With either a second mortgage or home equity loan, but not both: - Home equity loan only_100scale',\n",
       " 'ACS_09_B25081_HD01_VD06_Estimate; Housing units with a mortgage, contract to purchase, or similar debt: - Both second mortgage and home equity loan_100scale',\n",
       " 'ACS_09_B25081_HD01_VD07_Estimate; Housing units with a mortgage, contract to purchase, or similar debt: - No second mortgage and no home equity loan_100scale',\n",
       " 'ACS_09_B25081_HD01_VD08_Estimate; Housing units without a mortgage_100scale',\n",
       " 'ACS_09_S1301_HC01_EST_VC01_Total; Estimate; Women 15 to 50 years_100scale',\n",
       " 'ACS_09_S1301_HC03_EST_VC01_Women with births in the past 12 months - Number; Estimate; Women 15 to 50 years_100scale',\n",
       " 'ACS_09_S1301_HC04_EST_VC01_Women with births in the past 12 months - Rate per 1,000 women; Estimate; Women 15 to 50 years_100scale',\n",
       " 'ACS_09_S1301_HC05_EST_VC01_Percent  of women who had a birth in the past 12 months who were unmarried; Estimate; Women 15 to 50 years_100scale',\n",
       " 'ACS_09_S1301_HC01_EST_VC02_Total; Estimate; Women 15 to 50 years - 15 to 19 years_100scale',\n",
       " 'ACS_09_S1301_HC03_EST_VC02_Women with births in the past 12 months - Number; Estimate; Women 15 to 50 years - 15 to 19 years_100scale',\n",
       " 'ACS_09_S1301_HC04_EST_VC02_Women with births in the past 12 months - Rate per 1,000 women; Estimate; Women 15 to 50 years - 15 to 19 years_100scale',\n",
       " 'ACS_09_S1301_HC05_EST_VC02_Percent  of women who had a birth in the past 12 months who were unmarried; Estimate; Women 15 to 50 years - 15 to 19 years_100scale',\n",
       " 'ACS_09_S1301_HC01_EST_VC03_Total; Estimate; Women 15 to 50 years - 20 to 34 years_100scale',\n",
       " 'ACS_09_S1301_HC03_EST_VC03_Women with births in the past 12 months - Number; Estimate; Women 15 to 50 years - 20 to 34 years_100scale',\n",
       " 'ACS_09_S1301_HC04_EST_VC03_Women with births in the past 12 months - Rate per 1,000 women; Estimate; Women 15 to 50 years - 20 to 34 years_100scale',\n",
       " 'ACS_09_S1301_HC05_EST_VC03_Percent  of women who had a birth in the past 12 months who were unmarried; Estimate; Women 15 to 50 years - 20 to 34 years_100scale',\n",
       " 'ACS_09_S1301_HC01_EST_VC04_Total; Estimate; Women 15 to 50 years - 35 to 50 years_100scale',\n",
       " 'ACS_09_S1301_HC03_EST_VC04_Women with births in the past 12 months - Number; Estimate; Women 15 to 50 years - 35 to 50 years_100scale',\n",
       " 'ACS_09_S1301_HC04_EST_VC04_Women with births in the past 12 months - Rate per 1,000 women; Estimate; Women 15 to 50 years - 35 to 50 years_100scale',\n",
       " 'ACS_09_S1301_HC05_EST_VC04_Percent  of women who had a birth in the past 12 months who were unmarried; Estimate; Women 15 to 50 years - 35 to 50 years_100scale',\n",
       " 'ACS_09_S1301_HC01_EST_VC06_Total; Estimate; Women 15 to 50 years - RACE AND HISPANIC OR LATINO ORIGIN - One race_100scale',\n",
       " 'ACS_09_S1301_HC03_EST_VC06_Women with births in the past 12 months - Number; Estimate; Women 15 to 50 years - RACE AND HISPANIC OR LATINO ORIGIN - One race_100scale',\n",
       " 'ACS_09_S1301_HC04_EST_VC06_Women with births in the past 12 months - Rate per 1,000 women; Estimate; Women 15 to 50 years - RACE AND HISPANIC OR LATINO ORIGIN - One race_100scale',\n",
       " 'ACS_09_S1301_HC05_EST_VC06_Percent  of women who had a birth in the past 12 months who were unmarried; Estimate; Women 15 to 50 years - RACE AND HISPANIC OR LATINO ORIGIN - One race_100scale',\n",
       " 'ACS_09_S1301_HC01_EST_VC07_Total; Estimate; Women 15 to 50 years - RACE AND HISPANIC OR LATINO ORIGIN - One race - White_100scale',\n",
       " 'ACS_09_S1301_HC03_EST_VC07_Women with births in the past 12 months - Number; Estimate; Women 15 to 50 years - RACE AND HISPANIC OR LATINO ORIGIN - One race - White_100scale',\n",
       " 'ACS_09_S1301_HC04_EST_VC07_Women with births in the past 12 months - Rate per 1,000 women; Estimate; Women 15 to 50 years - RACE AND HISPANIC OR LATINO ORIGIN - One race - White_100scale',\n",
       " 'ACS_09_S1301_HC05_EST_VC07_Percent  of women who had a birth in the past 12 months who were unmarried; Estimate; Women 15 to 50 years - RACE AND HISPANIC OR LATINO ORIGIN - One race - White_100scale',\n",
       " 'ACS_09_S1301_HC01_EST_VC08_Total; Estimate; Women 15 to 50 years - RACE AND HISPANIC OR LATINO ORIGIN - One race - Black or African American_100scale',\n",
       " 'ACS_09_S1301_HC03_EST_VC08_Women with births in the past 12 months - Number; Estimate; Women 15 to 50 years - RACE AND HISPANIC OR LATINO ORIGIN - One race - Black or African American_100scale',\n",
       " 'ACS_09_S1301_HC04_EST_VC08_Women with births in the past 12 months - Rate per 1,000 women; Estimate; Women 15 to 50 years - RACE AND HISPANIC OR LATINO ORIGIN - One race - Black or African American_100scale',\n",
       " 'ACS_09_S1301_HC05_EST_VC08_Percent  of women who had a birth in the past 12 months who were unmarried; Estimate; Women 15 to 50 years - RACE AND HISPANIC OR LATINO ORIGIN - One race - Black or African American_100scale',\n",
       " 'ACS_09_S1301_HC01_EST_VC09_Total; Estimate; Women 15 to 50 years - RACE AND HISPANIC OR LATINO ORIGIN - One race - American Indian and Alaska Native_100scale',\n",
       " 'ACS_09_S1301_HC03_EST_VC09_Women with births in the past 12 months - Number; Estimate; Women 15 to 50 years - RACE AND HISPANIC OR LATINO ORIGIN - One race - American Indian and Alaska Native_100scale',\n",
       " 'ACS_09_S1301_HC04_EST_VC09_Women with births in the past 12 months - Rate per 1,000 women; Estimate; Women 15 to 50 years - RACE AND HISPANIC OR LATINO ORIGIN - One race - American Indian and Alaska Native_100scale',\n",
       " 'ACS_09_S1301_HC05_EST_VC09_Percent  of women who had a birth in the past 12 months who were unmarried; Estimate; Women 15 to 50 years - RACE AND HISPANIC OR LATINO ORIGIN - One race - American Indian and Alaska Native_100scale',\n",
       " 'ACS_09_S1301_HC01_EST_VC10_Total; Estimate; Women 15 to 50 years - RACE AND HISPANIC OR LATINO ORIGIN - One race - Asian_100scale',\n",
       " 'ACS_09_S1301_HC03_EST_VC10_Women with births in the past 12 months - Number; Estimate; Women 15 to 50 years - RACE AND HISPANIC OR LATINO ORIGIN - One race - Asian_100scale',\n",
       " 'ACS_09_S1301_HC04_EST_VC10_Women with births in the past 12 months - Rate per 1,000 women; Estimate; Women 15 to 50 years - RACE AND HISPANIC OR LATINO ORIGIN - One race - Asian_100scale',\n",
       " 'ACS_09_S1301_HC05_EST_VC10_Percent  of women who had a birth in the past 12 months who were unmarried; Estimate; Women 15 to 50 years - RACE AND HISPANIC OR LATINO ORIGIN - One race - Asian_100scale',\n",
       " 'ACS_09_S1301_HC01_EST_VC11_Total; Estimate; Women 15 to 50 years - RACE AND HISPANIC OR LATINO ORIGIN - One race - Native Hawaiian and Other Pacific Islander_100scale',\n",
       " 'ACS_09_S1301_HC03_EST_VC11_Women with births in the past 12 months - Number; Estimate; Women 15 to 50 years - RACE AND HISPANIC OR LATINO ORIGIN - One race - Native Hawaiian and Other Pacific Islander_100scale',\n",
       " 'ACS_09_S1301_HC04_EST_VC11_Women with births in the past 12 months - Rate per 1,000 women; Estimate; Women 15 to 50 years - RACE AND HISPANIC OR LATINO ORIGIN - One race - Native Hawaiian and Other Pacific Islander_100scale',\n",
       " 'ACS_09_S1301_HC05_EST_VC11_Percent  of women who had a birth in the past 12 months who were unmarried; Estimate; Women 15 to 50 years - RACE AND HISPANIC OR LATINO ORIGIN - One race - Native Hawaiian and Other Pacific Islander_100scale',\n",
       " 'ACS_09_S1301_HC01_EST_VC12_Total; Estimate; Women 15 to 50 years - RACE AND HISPANIC OR LATINO ORIGIN - One race - Some other race_100scale',\n",
       " 'ACS_09_S1301_HC03_EST_VC12_Women with births in the past 12 months - Number; Estimate; Women 15 to 50 years - RACE AND HISPANIC OR LATINO ORIGIN - One race - Some other race_100scale',\n",
       " 'ACS_09_S1301_HC04_EST_VC12_Women with births in the past 12 months - Rate per 1,000 women; Estimate; Women 15 to 50 years - RACE AND HISPANIC OR LATINO ORIGIN - One race - Some other race_100scale',\n",
       " 'ACS_09_S1301_HC05_EST_VC12_Percent  of women who had a birth in the past 12 months who were unmarried; Estimate; Women 15 to 50 years - RACE AND HISPANIC OR LATINO ORIGIN - One race - Some other race_100scale',\n",
       " 'ACS_09_S1301_HC01_EST_VC13_Total; Estimate; Women 15 to 50 years - RACE AND HISPANIC OR LATINO ORIGIN - Two or more races_100scale',\n",
       " 'ACS_09_S1301_HC03_EST_VC13_Women with births in the past 12 months - Number; Estimate; Women 15 to 50 years - RACE AND HISPANIC OR LATINO ORIGIN - Two or more races_100scale',\n",
       " 'ACS_09_S1301_HC04_EST_VC13_Women with births in the past 12 months - Rate per 1,000 women; Estimate; Women 15 to 50 years - RACE AND HISPANIC OR LATINO ORIGIN - Two or more races_100scale',\n",
       " 'ACS_09_S1301_HC05_EST_VC13_Percent  of women who had a birth in the past 12 months who were unmarried; Estimate; Women 15 to 50 years - RACE AND HISPANIC OR LATINO ORIGIN - Two or more races_100scale',\n",
       " 'ACS_09_S1301_HC01_EST_VC14_Total; Estimate; Women 15 to 50 years - RACE AND HISPANIC OR LATINO ORIGIN - Hispanic or Latino origin (of any race)_100scale',\n",
       " 'ACS_09_S1301_HC03_EST_VC14_Women with births in the past 12 months - Number; Estimate; Women 15 to 50 years - RACE AND HISPANIC OR LATINO ORIGIN - Hispanic or Latino origin (of any race)_100scale',\n",
       " 'ACS_09_S1301_HC04_EST_VC14_Women with births in the past 12 months - Rate per 1,000 women; Estimate; Women 15 to 50 years - RACE AND HISPANIC OR LATINO ORIGIN - Hispanic or Latino origin (of any race)_100scale',\n",
       " 'ACS_09_S1301_HC05_EST_VC14_Percent  of women who had a birth in the past 12 months who were unmarried; Estimate; Women 15 to 50 years - RACE AND HISPANIC OR LATINO ORIGIN - Hispanic or Latino origin (of any race)_100scale',\n",
       " 'ACS_09_S1301_HC01_EST_VC15_Total; Estimate; Women 15 to 50 years - RACE AND HISPANIC OR LATINO ORIGIN - White alone, not Hispanic or Latino_100scale',\n",
       " 'ACS_09_S1301_HC03_EST_VC15_Women with births in the past 12 months - Number; Estimate; Women 15 to 50 years - RACE AND HISPANIC OR LATINO ORIGIN - White alone, not Hispanic or Latino_100scale',\n",
       " 'ACS_09_S1301_HC04_EST_VC15_Women with births in the past 12 months - Rate per 1,000 women; Estimate; Women 15 to 50 years - RACE AND HISPANIC OR LATINO ORIGIN - White alone, not Hispanic or Latino_100scale',\n",
       " 'ACS_09_S1301_HC05_EST_VC15_Percent  of women who had a birth in the past 12 months who were unmarried; Estimate; Women 15 to 50 years - RACE AND HISPANIC OR LATINO ORIGIN - White alone, not Hispanic or Latino_100scale',\n",
       " 'ACS_09_S1301_HC01_EST_VC17_Total; Estimate; Women 15 to 50 years - CITIZENSHIP STATUS - Native_100scale',\n",
       " 'ACS_09_S1301_HC03_EST_VC17_Women with births in the past 12 months - Number; Estimate; Women 15 to 50 years - CITIZENSHIP STATUS - Native_100scale',\n",
       " 'ACS_09_S1301_HC04_EST_VC17_Women with births in the past 12 months - Rate per 1,000 women; Estimate; Women 15 to 50 years - CITIZENSHIP STATUS - Native_100scale',\n",
       " 'ACS_09_S1301_HC05_EST_VC17_Percent  of women who had a birth in the past 12 months who were unmarried; Estimate; Women 15 to 50 years - CITIZENSHIP STATUS - Native_100scale',\n",
       " 'ACS_09_S1301_HC01_EST_VC18_Total; Estimate; Women 15 to 50 years - CITIZENSHIP STATUS - Foreign born_100scale',\n",
       " 'ACS_09_S1301_HC03_EST_VC18_Women with births in the past 12 months - Number; Estimate; Women 15 to 50 years - CITIZENSHIP STATUS - Foreign born_100scale',\n",
       " 'ACS_09_S1301_HC04_EST_VC18_Women with births in the past 12 months - Rate per 1,000 women; Estimate; Women 15 to 50 years - CITIZENSHIP STATUS - Foreign born_100scale',\n",
       " 'ACS_09_S1301_HC05_EST_VC18_Percent  of women who had a birth in the past 12 months who were unmarried; Estimate; Women 15 to 50 years - CITIZENSHIP STATUS - Foreign born_100scale',\n",
       " 'ACS_09_S1301_HC01_EST_VC20_Total; Estimate; Women 15 to 50 years - EDUCATIONAL ATTAINMENT - Less than high school graduate_100scale',\n",
       " 'ACS_09_S1301_HC03_EST_VC20_Women with births in the past 12 months - Number; Estimate; Women 15 to 50 years - EDUCATIONAL ATTAINMENT - Less than high school graduate_100scale',\n",
       " 'ACS_09_S1301_HC04_EST_VC20_Women with births in the past 12 months - Rate per 1,000 women; Estimate; Women 15 to 50 years - EDUCATIONAL ATTAINMENT - Less than high school graduate_100scale',\n",
       " 'ACS_09_S1301_HC05_EST_VC20_Percent  of women who had a birth in the past 12 months who were unmarried; Estimate; Women 15 to 50 years - EDUCATIONAL ATTAINMENT - Less than high school graduate_100scale',\n",
       " 'ACS_09_S1301_HC01_EST_VC21_Total; Estimate; Women 15 to 50 years - EDUCATIONAL ATTAINMENT - High school graduate (includes equivalency)_100scale',\n",
       " 'ACS_09_S1301_HC03_EST_VC21_Women with births in the past 12 months - Number; Estimate; Women 15 to 50 years - EDUCATIONAL ATTAINMENT - High school graduate (includes equivalency)_100scale',\n",
       " 'ACS_09_S1301_HC04_EST_VC21_Women with births in the past 12 months - Rate per 1,000 women; Estimate; Women 15 to 50 years - EDUCATIONAL ATTAINMENT - High school graduate (includes equivalency)_100scale',\n",
       " 'ACS_09_S1301_HC05_EST_VC21_Percent  of women who had a birth in the past 12 months who were unmarried; Estimate; Women 15 to 50 years - EDUCATIONAL ATTAINMENT - High school graduate (includes equivalency)_100scale',\n",
       " \"ACS_09_S1301_HC01_EST_VC22_Total; Estimate; Women 15 to 50 years - EDUCATIONAL ATTAINMENT - Some college or associate's degree_100scale\",\n",
       " \"ACS_09_S1301_HC03_EST_VC22_Women with births in the past 12 months - Number; Estimate; Women 15 to 50 years - EDUCATIONAL ATTAINMENT - Some college or associate's degree_100scale\",\n",
       " \"ACS_09_S1301_HC04_EST_VC22_Women with births in the past 12 months - Rate per 1,000 women; Estimate; Women 15 to 50 years - EDUCATIONAL ATTAINMENT - Some college or associate's degree_100scale\",\n",
       " \"ACS_09_S1301_HC05_EST_VC22_Percent  of women who had a birth in the past 12 months who were unmarried; Estimate; Women 15 to 50 years - EDUCATIONAL ATTAINMENT - Some college or associate's degree_100scale\",\n",
       " \"ACS_09_S1301_HC01_EST_VC23_Total; Estimate; Women 15 to 50 years - EDUCATIONAL ATTAINMENT - Bachelor's degree_100scale\",\n",
       " \"ACS_09_S1301_HC03_EST_VC23_Women with births in the past 12 months - Number; Estimate; Women 15 to 50 years - EDUCATIONAL ATTAINMENT - Bachelor's degree_100scale\",\n",
       " \"ACS_09_S1301_HC04_EST_VC23_Women with births in the past 12 months - Rate per 1,000 women; Estimate; Women 15 to 50 years - EDUCATIONAL ATTAINMENT - Bachelor's degree_100scale\",\n",
       " \"ACS_09_S1301_HC05_EST_VC23_Percent  of women who had a birth in the past 12 months who were unmarried; Estimate; Women 15 to 50 years - EDUCATIONAL ATTAINMENT - Bachelor's degree_100scale\",\n",
       " 'ACS_09_S1301_HC01_EST_VC24_Total; Estimate; Women 15 to 50 years - EDUCATIONAL ATTAINMENT - Graduate or professional degree_100scale',\n",
       " 'ACS_09_S1301_HC03_EST_VC24_Women with births in the past 12 months - Number; Estimate; Women 15 to 50 years - EDUCATIONAL ATTAINMENT - Graduate or professional degree_100scale',\n",
       " 'ACS_09_S1301_HC04_EST_VC24_Women with births in the past 12 months - Rate per 1,000 women; Estimate; Women 15 to 50 years - EDUCATIONAL ATTAINMENT - Graduate or professional degree_100scale',\n",
       " 'ACS_09_S1301_HC05_EST_VC24_Percent  of women who had a birth in the past 12 months who were unmarried; Estimate; Women 15 to 50 years - EDUCATIONAL ATTAINMENT - Graduate or professional degree_100scale',\n",
       " 'ACS_09_S1301_HC01_EST_VC26_Total; Estimate; POVERTY STATUS IN THE PAST 12 MONTHS - Women 15 to 50 years for whom poverty status is determined_100scale',\n",
       " 'ACS_09_S1301_HC03_EST_VC26_Women with births in the past 12 months - Number; Estimate; POVERTY STATUS IN THE PAST 12 MONTHS - Women 15 to 50 years for whom poverty status is determined_100scale',\n",
       " 'ACS_09_S1301_HC04_EST_VC26_Women with births in the past 12 months - Rate per 1,000 women; Estimate; POVERTY STATUS IN THE PAST 12 MONTHS - Women 15 to 50 years for whom poverty status is determined_100scale',\n",
       " 'ACS_09_S1301_HC05_EST_VC26_Percent  of women who had a birth in the past 12 months who were unmarried; Estimate; POVERTY STATUS IN THE PAST 12 MONTHS - Women 15 to 50 years for whom poverty status is determined_100scale',\n",
       " 'ACS_09_S1301_HC01_EST_VC27_Total; Estimate; POVERTY STATUS IN THE PAST 12 MONTHS - Women 15 to 50 years for whom poverty status is determined - Below 100 percent of poverty level_100scale',\n",
       " 'ACS_09_S1301_HC03_EST_VC27_Women with births in the past 12 months - Number; Estimate; POVERTY STATUS IN THE PAST 12 MONTHS - Women 15 to 50 years for whom poverty status is determined - Below 100 percent of poverty level_100scale',\n",
       " 'ACS_09_S1301_HC04_EST_VC27_Women with births in the past 12 months - Rate per 1,000 women; Estimate; POVERTY STATUS IN THE PAST 12 MONTHS - Women 15 to 50 years for whom poverty status is determined - Below 100 percent of poverty level_100scale',\n",
       " 'ACS_09_S1301_HC05_EST_VC27_Percent  of women who had a birth in the past 12 months who were unmarried; Estimate; POVERTY STATUS IN THE PAST 12 MONTHS - Women 15 to 50 years for whom poverty status is determined - Below 100 percent of poverty level_100scale',\n",
       " 'ACS_09_S1301_HC01_EST_VC28_Total; Estimate; POVERTY STATUS IN THE PAST 12 MONTHS - Women 15 to 50 years for whom poverty status is determined - 100 to 199 percent of poverty level_100scale',\n",
       " 'ACS_09_S1301_HC03_EST_VC28_Women with births in the past 12 months - Number; Estimate; POVERTY STATUS IN THE PAST 12 MONTHS - Women 15 to 50 years for whom poverty status is determined - 100 to 199 percent of poverty level_100scale',\n",
       " 'ACS_09_S1301_HC04_EST_VC28_Women with births in the past 12 months - Rate per 1,000 women; Estimate; POVERTY STATUS IN THE PAST 12 MONTHS - Women 15 to 50 years for whom poverty status is determined - 100 to 199 percent of poverty level_100scale',\n",
       " 'ACS_09_S1301_HC05_EST_VC28_Percent  of women who had a birth in the past 12 months who were unmarried; Estimate; POVERTY STATUS IN THE PAST 12 MONTHS - Women 15 to 50 years for whom poverty status is determined - 100 to 199 percent of poverty level_100scale',\n",
       " 'ACS_09_S1301_HC01_EST_VC29_Total; Estimate; POVERTY STATUS IN THE PAST 12 MONTHS - Women 15 to 50 years for whom poverty status is determined - 200 percent or more above poverty level_100scale',\n",
       " 'ACS_09_S1301_HC03_EST_VC29_Women with births in the past 12 months - Number; Estimate; POVERTY STATUS IN THE PAST 12 MONTHS - Women 15 to 50 years for whom poverty status is determined - 200 percent or more above poverty level_100scale',\n",
       " 'ACS_09_S1301_HC04_EST_VC29_Women with births in the past 12 months - Rate per 1,000 women; Estimate; POVERTY STATUS IN THE PAST 12 MONTHS - Women 15 to 50 years for whom poverty status is determined - 200 percent or more above poverty level_100scale',\n",
       " 'ACS_09_S1301_HC05_EST_VC29_Percent  of women who had a birth in the past 12 months who were unmarried; Estimate; POVERTY STATUS IN THE PAST 12 MONTHS - Women 15 to 50 years for whom poverty status is determined - 200 percent or more above poverty level_100scale',\n",
       " 'ACS_09_S1301_HC01_EST_VC31_Total; Estimate; LABOR FORCE STATUS - Women 16 to 50 years_100scale',\n",
       " 'ACS_09_S1301_HC03_EST_VC31_Women with births in the past 12 months - Number; Estimate; LABOR FORCE STATUS - Women 16 to 50 years_100scale',\n",
       " 'ACS_09_S1301_HC04_EST_VC31_Women with births in the past 12 months - Rate per 1,000 women; Estimate; LABOR FORCE STATUS - Women 16 to 50 years_100scale',\n",
       " 'ACS_09_S1301_HC05_EST_VC31_Percent  of women who had a birth in the past 12 months who were unmarried; Estimate; LABOR FORCE STATUS - Women 16 to 50 years_100scale',\n",
       " 'ACS_09_S1301_HC01_EST_VC32_Total; Estimate; LABOR FORCE STATUS - Women 16 to 50 years - In labor force_100scale',\n",
       " 'ACS_09_S1301_HC03_EST_VC32_Women with births in the past 12 months - Number; Estimate; LABOR FORCE STATUS - Women 16 to 50 years - In labor force_100scale',\n",
       " 'ACS_09_S1301_HC04_EST_VC32_Women with births in the past 12 months - Rate per 1,000 women; Estimate; LABOR FORCE STATUS - Women 16 to 50 years - In labor force_100scale',\n",
       " 'ACS_09_S1301_HC05_EST_VC32_Percent  of women who had a birth in the past 12 months who were unmarried; Estimate; LABOR FORCE STATUS - Women 16 to 50 years - In labor force_100scale',\n",
       " 'ACS_09_S1301_HC01_EST_VC34_Total; Estimate; PERCENT IMPUTED - Marital status_100scale',\n",
       " 'ACS_09_S1301_HC01_EST_VC35_Total; Estimate; PERCENT IMPUTED - Fertility_100scale',\n",
       " 'ACS_09_S2101_HC01_EST_VC01_Total; Estimate; Civilian population 18 years and over_100scale',\n",
       " 'ACS_09_S2101_HC02_EST_VC01_Veterans; Estimate; Civilian population 18 years and over_100scale',\n",
       " 'ACS_09_S2101_HC03_EST_VC01_Nonveterans; Estimate; Civilian population 18 years and over_100scale',\n",
       " 'ACS_09_S2101_HC02_EST_VC03_Veterans; Estimate; Civilian population 18 years and over - PERIOD OF SERVICE - Gulf War (9/2001 or later) veterans_100scale',\n",
       " 'ACS_09_S2101_HC02_EST_VC04_Veterans; Estimate; Civilian population 18 years and over - PERIOD OF SERVICE - Gulf War (8/1990 to 8/2001) veterans_100scale',\n",
       " 'ACS_09_S2101_HC02_EST_VC05_Veterans; Estimate; Civilian population 18 years and over - PERIOD OF SERVICE - Vietnam era veterans_100scale',\n",
       " 'ACS_09_S2101_HC02_EST_VC06_Veterans; Estimate; Civilian population 18 years and over - PERIOD OF SERVICE - Korean War veterans_100scale',\n",
       " 'ACS_09_S2101_HC02_EST_VC07_Veterans; Estimate; Civilian population 18 years and over - PERIOD OF SERVICE - World War II veterans_100scale',\n",
       " 'ACS_09_S2101_HC01_EST_VC09_Total; Estimate; Civilian population 18 years and over - SEX - Male_100scale',\n",
       " 'ACS_09_S2101_HC02_EST_VC09_Veterans; Estimate; Civilian population 18 years and over - SEX - Male_100scale',\n",
       " 'ACS_09_S2101_HC03_EST_VC09_Nonveterans; Estimate; Civilian population 18 years and over - SEX - Male_100scale',\n",
       " 'ACS_09_S2101_HC01_EST_VC10_Total; Estimate; Civilian population 18 years and over - SEX - Female_100scale',\n",
       " 'ACS_09_S2101_HC02_EST_VC10_Veterans; Estimate; Civilian population 18 years and over - SEX - Female_100scale',\n",
       " 'ACS_09_S2101_HC03_EST_VC10_Nonveterans; Estimate; Civilian population 18 years and over - SEX - Female_100scale',\n",
       " 'ACS_09_S2101_HC01_EST_VC12_Total; Estimate; Civilian population 18 years and over - AGE - 18 to 34 years_100scale',\n",
       " 'ACS_09_S2101_HC02_EST_VC12_Veterans; Estimate; Civilian population 18 years and over - AGE - 18 to 34 years_100scale',\n",
       " 'ACS_09_S2101_HC03_EST_VC12_Nonveterans; Estimate; Civilian population 18 years and over - AGE - 18 to 34 years_100scale',\n",
       " 'ACS_09_S2101_HC01_EST_VC13_Total; Estimate; Civilian population 18 years and over - AGE - 35 to 54 years_100scale',\n",
       " 'ACS_09_S2101_HC02_EST_VC13_Veterans; Estimate; Civilian population 18 years and over - AGE - 35 to 54 years_100scale',\n",
       " 'ACS_09_S2101_HC03_EST_VC13_Nonveterans; Estimate; Civilian population 18 years and over - AGE - 35 to 54 years_100scale',\n",
       " 'ACS_09_S2101_HC01_EST_VC14_Total; Estimate; Civilian population 18 years and over - AGE - 55 to 64 years_100scale',\n",
       " 'ACS_09_S2101_HC02_EST_VC14_Veterans; Estimate; Civilian population 18 years and over - AGE - 55 to 64 years_100scale',\n",
       " 'ACS_09_S2101_HC03_EST_VC14_Nonveterans; Estimate; Civilian population 18 years and over - AGE - 55 to 64 years_100scale',\n",
       " 'ACS_09_S2101_HC01_EST_VC15_Total; Estimate; Civilian population 18 years and over - AGE - 65 to 74 years_100scale',\n",
       " 'ACS_09_S2101_HC02_EST_VC15_Veterans; Estimate; Civilian population 18 years and over - AGE - 65 to 74 years_100scale',\n",
       " 'ACS_09_S2101_HC03_EST_VC15_Nonveterans; Estimate; Civilian population 18 years and over - AGE - 65 to 74 years_100scale',\n",
       " 'ACS_09_S2101_HC01_EST_VC16_Total; Estimate; Civilian population 18 years and over - AGE - 75 years and over_100scale',\n",
       " 'ACS_09_S2101_HC02_EST_VC16_Veterans; Estimate; Civilian population 18 years and over - AGE - 75 years and over_100scale',\n",
       " 'ACS_09_S2101_HC03_EST_VC16_Nonveterans; Estimate; Civilian population 18 years and over - AGE - 75 years and over_100scale',\n",
       " 'ACS_09_S2101_HC01_EST_VC18_Total; Estimate; Civilian population 18 years and over - RACE AND HISPANIC OR LATINO ORIGIN - One race_100scale',\n",
       " 'ACS_09_S2101_HC02_EST_VC18_Veterans; Estimate; Civilian population 18 years and over - RACE AND HISPANIC OR LATINO ORIGIN - One race_100scale',\n",
       " 'ACS_09_S2101_HC03_EST_VC18_Nonveterans; Estimate; Civilian population 18 years and over - RACE AND HISPANIC OR LATINO ORIGIN - One race_100scale',\n",
       " 'ACS_09_S2101_HC01_EST_VC19_Total; Estimate; Civilian population 18 years and over - RACE AND HISPANIC OR LATINO ORIGIN - One race - White_100scale',\n",
       " 'ACS_09_S2101_HC02_EST_VC19_Veterans; Estimate; Civilian population 18 years and over - RACE AND HISPANIC OR LATINO ORIGIN - One race - White_100scale',\n",
       " 'ACS_09_S2101_HC03_EST_VC19_Nonveterans; Estimate; Civilian population 18 years and over - RACE AND HISPANIC OR LATINO ORIGIN - One race - White_100scale',\n",
       " 'ACS_09_S2101_HC01_EST_VC20_Total; Estimate; Civilian population 18 years and over - RACE AND HISPANIC OR LATINO ORIGIN - One race - Black or African American_100scale',\n",
       " 'ACS_09_S2101_HC02_EST_VC20_Veterans; Estimate; Civilian population 18 years and over - RACE AND HISPANIC OR LATINO ORIGIN - One race - Black or African American_100scale',\n",
       " 'ACS_09_S2101_HC03_EST_VC20_Nonveterans; Estimate; Civilian population 18 years and over - RACE AND HISPANIC OR LATINO ORIGIN - One race - Black or African American_100scale',\n",
       " 'ACS_09_S2101_HC01_EST_VC21_Total; Estimate; Civilian population 18 years and over - RACE AND HISPANIC OR LATINO ORIGIN - One race - American Indian and Alaska Native_100scale',\n",
       " 'ACS_09_S2101_HC02_EST_VC21_Veterans; Estimate; Civilian population 18 years and over - RACE AND HISPANIC OR LATINO ORIGIN - One race - American Indian and Alaska Native_100scale',\n",
       " 'ACS_09_S2101_HC03_EST_VC21_Nonveterans; Estimate; Civilian population 18 years and over - RACE AND HISPANIC OR LATINO ORIGIN - One race - American Indian and Alaska Native_100scale',\n",
       " 'ACS_09_S2101_HC01_EST_VC22_Total; Estimate; Civilian population 18 years and over - RACE AND HISPANIC OR LATINO ORIGIN - One race - Asian_100scale',\n",
       " 'ACS_09_S2101_HC02_EST_VC22_Veterans; Estimate; Civilian population 18 years and over - RACE AND HISPANIC OR LATINO ORIGIN - One race - Asian_100scale',\n",
       " 'ACS_09_S2101_HC03_EST_VC22_Nonveterans; Estimate; Civilian population 18 years and over - RACE AND HISPANIC OR LATINO ORIGIN - One race - Asian_100scale',\n",
       " 'ACS_09_S2101_HC01_EST_VC23_Total; Estimate; Civilian population 18 years and over - RACE AND HISPANIC OR LATINO ORIGIN - One race - Native Hawaiian and Other Pacific Islander_100scale',\n",
       " 'ACS_09_S2101_HC02_EST_VC23_Veterans; Estimate; Civilian population 18 years and over - RACE AND HISPANIC OR LATINO ORIGIN - One race - Native Hawaiian and Other Pacific Islander_100scale',\n",
       " 'ACS_09_S2101_HC03_EST_VC23_Nonveterans; Estimate; Civilian population 18 years and over - RACE AND HISPANIC OR LATINO ORIGIN - One race - Native Hawaiian and Other Pacific Islander_100scale',\n",
       " 'ACS_09_S2101_HC01_EST_VC24_Total; Estimate; Civilian population 18 years and over - RACE AND HISPANIC OR LATINO ORIGIN - One race - Some other race_100scale',\n",
       " 'ACS_09_S2101_HC02_EST_VC24_Veterans; Estimate; Civilian population 18 years and over - RACE AND HISPANIC OR LATINO ORIGIN - One race - Some other race_100scale',\n",
       " 'ACS_09_S2101_HC03_EST_VC24_Nonveterans; Estimate; Civilian population 18 years and over - RACE AND HISPANIC OR LATINO ORIGIN - One race - Some other race_100scale',\n",
       " 'ACS_09_S2101_HC01_EST_VC25_Total; Estimate; Civilian population 18 years and over - RACE AND HISPANIC OR LATINO ORIGIN - Two or more races_100scale',\n",
       " 'ACS_09_S2101_HC02_EST_VC25_Veterans; Estimate; Civilian population 18 years and over - RACE AND HISPANIC OR LATINO ORIGIN - Two or more races_100scale',\n",
       " 'ACS_09_S2101_HC03_EST_VC25_Nonveterans; Estimate; Civilian population 18 years and over - RACE AND HISPANIC OR LATINO ORIGIN - Two or more races_100scale',\n",
       " 'ACS_09_S2101_HC01_EST_VC26_Total; Estimate; Civilian population 18 years and over - RACE AND HISPANIC OR LATINO ORIGIN - Hispanic or Latino (of any race)_100scale',\n",
       " 'ACS_09_S2101_HC02_EST_VC26_Veterans; Estimate; Civilian population 18 years and over - RACE AND HISPANIC OR LATINO ORIGIN - Hispanic or Latino (of any race)_100scale',\n",
       " 'ACS_09_S2101_HC03_EST_VC26_Nonveterans; Estimate; Civilian population 18 years and over - RACE AND HISPANIC OR LATINO ORIGIN - Hispanic or Latino (of any race)_100scale',\n",
       " 'ACS_09_S2101_HC01_EST_VC27_Total; Estimate; Civilian population 18 years and over - RACE AND HISPANIC OR LATINO ORIGIN - White alone, not Hispanic or Latino_100scale',\n",
       " 'ACS_09_S2101_HC02_EST_VC27_Veterans; Estimate; Civilian population 18 years and over - RACE AND HISPANIC OR LATINO ORIGIN - White alone, not Hispanic or Latino_100scale',\n",
       " 'ACS_09_S2101_HC03_EST_VC27_Nonveterans; Estimate; Civilian population 18 years and over - RACE AND HISPANIC OR LATINO ORIGIN - White alone, not Hispanic or Latino_100scale',\n",
       " 'ACS_09_S2101_HC01_EST_VC29_Total; Estimate; MEDIAN INCOME IN THE PAST 12 MONTHS (In 2009 Inflation-Adjusted Dollars) - Civilian population 18 years and over with income_100scale',\n",
       " 'ACS_09_S2101_HC02_EST_VC29_Veterans; Estimate; MEDIAN INCOME IN THE PAST 12 MONTHS (In 2009 Inflation-Adjusted Dollars) - Civilian population 18 years and over with income_100scale',\n",
       " 'ACS_09_S2101_HC03_EST_VC29_Nonveterans; Estimate; MEDIAN INCOME IN THE PAST 12 MONTHS (In 2009 Inflation-Adjusted Dollars) - Civilian population 18 years and over with income_100scale',\n",
       " 'ACS_09_S2101_HC02_EST_VC30_Veterans; Estimate; MEDIAN INCOME IN THE PAST 12 MONTHS (In 2009 Inflation-Adjusted Dollars) - Civilian population 18 years and over with income - Male_100scale',\n",
       " 'ACS_09_S2101_HC03_EST_VC30_Nonveterans; Estimate; MEDIAN INCOME IN THE PAST 12 MONTHS (In 2009 Inflation-Adjusted Dollars) - Civilian population 18 years and over with income - Male_100scale',\n",
       " 'ACS_09_S2101_HC02_EST_VC31_Veterans; Estimate; MEDIAN INCOME IN THE PAST 12 MONTHS (In 2009 Inflation-Adjusted Dollars) - Civilian population 18 years and over with income - Female_100scale',\n",
       " 'ACS_09_S2101_HC03_EST_VC31_Nonveterans; Estimate; MEDIAN INCOME IN THE PAST 12 MONTHS (In 2009 Inflation-Adjusted Dollars) - Civilian population 18 years and over with income - Female_100scale',\n",
       " 'ACS_09_S2101_HC01_EST_VC33_Total; Estimate; EDUCATIONAL ATTAINMENT - Civilian population 25 years and over_100scale',\n",
       " 'ACS_09_S2101_HC02_EST_VC33_Veterans; Estimate; EDUCATIONAL ATTAINMENT - Civilian population 25 years and over_100scale',\n",
       " 'ACS_09_S2101_HC03_EST_VC33_Nonveterans; Estimate; EDUCATIONAL ATTAINMENT - Civilian population 25 years and over_100scale',\n",
       " 'ACS_09_S2101_HC01_EST_VC34_Total; Estimate; EDUCATIONAL ATTAINMENT - Civilian population 25 years and over - Less than high school graduate_100scale',\n",
       " 'ACS_09_S2101_HC02_EST_VC34_Veterans; Estimate; EDUCATIONAL ATTAINMENT - Civilian population 25 years and over - Less than high school graduate_100scale',\n",
       " 'ACS_09_S2101_HC03_EST_VC34_Nonveterans; Estimate; EDUCATIONAL ATTAINMENT - Civilian population 25 years and over - Less than high school graduate_100scale',\n",
       " 'ACS_09_S2101_HC01_EST_VC35_Total; Estimate; EDUCATIONAL ATTAINMENT - Civilian population 25 years and over - High school graduate (includes equivalency)_100scale',\n",
       " 'ACS_09_S2101_HC02_EST_VC35_Veterans; Estimate; EDUCATIONAL ATTAINMENT - Civilian population 25 years and over - High school graduate (includes equivalency)_100scale',\n",
       " 'ACS_09_S2101_HC03_EST_VC35_Nonveterans; Estimate; EDUCATIONAL ATTAINMENT - Civilian population 25 years and over - High school graduate (includes equivalency)_100scale',\n",
       " \"ACS_09_S2101_HC01_EST_VC36_Total; Estimate; EDUCATIONAL ATTAINMENT - Civilian population 25 years and over - Some college or associate's degree_100scale\",\n",
       " \"ACS_09_S2101_HC02_EST_VC36_Veterans; Estimate; EDUCATIONAL ATTAINMENT - Civilian population 25 years and over - Some college or associate's degree_100scale\",\n",
       " \"ACS_09_S2101_HC03_EST_VC36_Nonveterans; Estimate; EDUCATIONAL ATTAINMENT - Civilian population 25 years and over - Some college or associate's degree_100scale\",\n",
       " \"ACS_09_S2101_HC01_EST_VC37_Total; Estimate; EDUCATIONAL ATTAINMENT - Civilian population 25 years and over - Bachelor's degree or higher_100scale\",\n",
       " \"ACS_09_S2101_HC02_EST_VC37_Veterans; Estimate; EDUCATIONAL ATTAINMENT - Civilian population 25 years and over - Bachelor's degree or higher_100scale\",\n",
       " \"ACS_09_S2101_HC03_EST_VC37_Nonveterans; Estimate; EDUCATIONAL ATTAINMENT - Civilian population 25 years and over - Bachelor's degree or higher_100scale\",\n",
       " 'ACS_09_S2101_HC01_EST_VC39_Total; Estimate; EMPLOYMENT STATUS - Civilian population 18 to 64 years_100scale',\n",
       " 'ACS_09_S2101_HC02_EST_VC39_Veterans; Estimate; EMPLOYMENT STATUS - Civilian population 18 to 64 years_100scale',\n",
       " 'ACS_09_S2101_HC03_EST_VC39_Nonveterans; Estimate; EMPLOYMENT STATUS - Civilian population 18 to 64 years_100scale',\n",
       " 'ACS_09_S2101_HC01_EST_VC40_Total; Estimate; EMPLOYMENT STATUS - Civilian population 18 to 64 years - Labor force participation rate_100scale',\n",
       " 'ACS_09_S2101_HC02_EST_VC40_Veterans; Estimate; EMPLOYMENT STATUS - Civilian population 18 to 64 years - Labor force participation rate_100scale',\n",
       " 'ACS_09_S2101_HC03_EST_VC40_Nonveterans; Estimate; EMPLOYMENT STATUS - Civilian population 18 to 64 years - Labor force participation rate_100scale',\n",
       " 'ACS_09_S2101_HC01_EST_VC41_Total; Estimate; EMPLOYMENT STATUS - Civilian labor force 18 to 64 years_100scale',\n",
       " 'ACS_09_S2101_HC02_EST_VC41_Veterans; Estimate; EMPLOYMENT STATUS - Civilian labor force 18 to 64 years_100scale',\n",
       " 'ACS_09_S2101_HC03_EST_VC41_Nonveterans; Estimate; EMPLOYMENT STATUS - Civilian labor force 18 to 64 years_100scale',\n",
       " 'ACS_09_S2101_HC01_EST_VC42_Total; Estimate; EMPLOYMENT STATUS - Civilian labor force 18 to 64 years - Unemployment rate_100scale',\n",
       " 'ACS_09_S2101_HC02_EST_VC42_Veterans; Estimate; EMPLOYMENT STATUS - Civilian labor force 18 to 64 years - Unemployment rate_100scale',\n",
       " 'ACS_09_S2101_HC03_EST_VC42_Nonveterans; Estimate; EMPLOYMENT STATUS - Civilian labor force 18 to 64 years - Unemployment rate_100scale',\n",
       " 'ACS_09_S2101_HC01_EST_VC50_Total; Estimate; PERCENT IMPUTED - Veteran status for the population 18 years and over_100scale',\n",
       " 'ACS_09_S2101_HC01_EST_VC51_Total; Estimate; PERCENT IMPUTED - Period of service for the civilian veteran population 18 years and over_100scale',\n",
       " 'ACS_09_S2201_HC01_EST_VC01_Total; Estimate; Households_100scale',\n",
       " 'ACS_09_S2201_HC02_EST_VC01_Households receiving food stamps; Estimate; Households_100scale',\n",
       " 'ACS_09_S2201_HC03_EST_VC01_Households not receiving food stamps; Estimate; Households_100scale',\n",
       " 'ACS_09_S2201_HC01_EST_VC02_Total; Estimate; Households - With one or more people 60 years and over_100scale',\n",
       " 'ACS_09_S2201_HC02_EST_VC02_Households receiving food stamps; Estimate; Households - With one or more people 60 years and over_100scale',\n",
       " 'ACS_09_S2201_HC03_EST_VC02_Households not receiving food stamps; Estimate; Households - With one or more people 60 years and over_100scale',\n",
       " 'ACS_09_S2201_HC01_EST_VC03_Total; Estimate; Households - With children under 18 years_100scale',\n",
       " 'ACS_09_S2201_HC02_EST_VC03_Households receiving food stamps; Estimate; Households - With children under 18 years_100scale',\n",
       " 'ACS_09_S2201_HC03_EST_VC03_Households not receiving food stamps; Estimate; Households - With children under 18 years_100scale',\n",
       " 'ACS_09_S2201_HC01_EST_VC05_Total; Estimate; Households - POVERTY STATUS IN THE PAST 12 MONTHS - Below poverty level_100scale',\n",
       " 'ACS_09_S2201_HC02_EST_VC05_Households receiving food stamps; Estimate; Households - POVERTY STATUS IN THE PAST 12 MONTHS - Below poverty level_100scale',\n",
       " 'ACS_09_S2201_HC03_EST_VC05_Households not receiving food stamps; Estimate; Households - POVERTY STATUS IN THE PAST 12 MONTHS - Below poverty level_100scale',\n",
       " 'ACS_09_S2201_HC01_EST_VC09_Total; Estimate; Households - RACE AND HISPANIC OR LATINO ORIGIN OF HOUSEHOLDER - One race_100scale',\n",
       " 'ACS_09_S2201_HC02_EST_VC09_Households receiving food stamps; Estimate; Households - RACE AND HISPANIC OR LATINO ORIGIN OF HOUSEHOLDER - One race_100scale',\n",
       " 'ACS_09_S2201_HC03_EST_VC09_Households not receiving food stamps; Estimate; Households - RACE AND HISPANIC OR LATINO ORIGIN OF HOUSEHOLDER - One race_100scale',\n",
       " 'ACS_09_S2201_HC01_EST_VC10_Total; Estimate; Households - RACE AND HISPANIC OR LATINO ORIGIN OF HOUSEHOLDER - One race - White_100scale',\n",
       " 'ACS_09_S2201_HC02_EST_VC10_Households receiving food stamps; Estimate; Households - RACE AND HISPANIC OR LATINO ORIGIN OF HOUSEHOLDER - One race - White_100scale',\n",
       " 'ACS_09_S2201_HC03_EST_VC10_Households not receiving food stamps; Estimate; Households - RACE AND HISPANIC OR LATINO ORIGIN OF HOUSEHOLDER - One race - White_100scale',\n",
       " 'ACS_09_S2201_HC01_EST_VC11_Total; Estimate; Households - RACE AND HISPANIC OR LATINO ORIGIN OF HOUSEHOLDER - One race - Black or African American_100scale',\n",
       " 'ACS_09_S2201_HC02_EST_VC11_Households receiving food stamps; Estimate; Households - RACE AND HISPANIC OR LATINO ORIGIN OF HOUSEHOLDER - One race - Black or African American_100scale',\n",
       " 'ACS_09_S2201_HC03_EST_VC11_Households not receiving food stamps; Estimate; Households - RACE AND HISPANIC OR LATINO ORIGIN OF HOUSEHOLDER - One race - Black or African American_100scale',\n",
       " 'ACS_09_S2201_HC01_EST_VC12_Total; Estimate; Households - RACE AND HISPANIC OR LATINO ORIGIN OF HOUSEHOLDER - One race - American Indian and Alaska Native_100scale',\n",
       " 'ACS_09_S2201_HC02_EST_VC12_Households receiving food stamps; Estimate; Households - RACE AND HISPANIC OR LATINO ORIGIN OF HOUSEHOLDER - One race - American Indian and Alaska Native_100scale',\n",
       " 'ACS_09_S2201_HC03_EST_VC12_Households not receiving food stamps; Estimate; Households - RACE AND HISPANIC OR LATINO ORIGIN OF HOUSEHOLDER - One race - American Indian and Alaska Native_100scale',\n",
       " 'ACS_09_S2201_HC01_EST_VC13_Total; Estimate; Households - RACE AND HISPANIC OR LATINO ORIGIN OF HOUSEHOLDER - One race - Asian_100scale',\n",
       " 'ACS_09_S2201_HC02_EST_VC13_Households receiving food stamps; Estimate; Households - RACE AND HISPANIC OR LATINO ORIGIN OF HOUSEHOLDER - One race - Asian_100scale',\n",
       " 'ACS_09_S2201_HC03_EST_VC13_Households not receiving food stamps; Estimate; Households - RACE AND HISPANIC OR LATINO ORIGIN OF HOUSEHOLDER - One race - Asian_100scale',\n",
       " 'ACS_09_S2201_HC01_EST_VC14_Total; Estimate; Households - RACE AND HISPANIC OR LATINO ORIGIN OF HOUSEHOLDER - One race - Native Hawaiian and Other Pacific Islander_100scale',\n",
       " 'ACS_09_S2201_HC02_EST_VC14_Households receiving food stamps; Estimate; Households - RACE AND HISPANIC OR LATINO ORIGIN OF HOUSEHOLDER - One race - Native Hawaiian and Other Pacific Islander_100scale',\n",
       " 'ACS_09_S2201_HC03_EST_VC14_Households not receiving food stamps; Estimate; Households - RACE AND HISPANIC OR LATINO ORIGIN OF HOUSEHOLDER - One race - Native Hawaiian and Other Pacific Islander_100scale',\n",
       " 'ACS_09_S2201_HC01_EST_VC15_Total; Estimate; Households - RACE AND HISPANIC OR LATINO ORIGIN OF HOUSEHOLDER - One race - Some other race_100scale',\n",
       " 'ACS_09_S2201_HC02_EST_VC15_Households receiving food stamps; Estimate; Households - RACE AND HISPANIC OR LATINO ORIGIN OF HOUSEHOLDER - One race - Some other race_100scale',\n",
       " 'ACS_09_S2201_HC03_EST_VC15_Households not receiving food stamps; Estimate; Households - RACE AND HISPANIC OR LATINO ORIGIN OF HOUSEHOLDER - One race - Some other race_100scale',\n",
       " 'ACS_09_S2201_HC01_EST_VC16_Total; Estimate; Households - RACE AND HISPANIC OR LATINO ORIGIN OF HOUSEHOLDER - Two or more races_100scale',\n",
       " 'ACS_09_S2201_HC02_EST_VC16_Households receiving food stamps; Estimate; Households - RACE AND HISPANIC OR LATINO ORIGIN OF HOUSEHOLDER - Two or more races_100scale',\n",
       " 'ACS_09_S2201_HC03_EST_VC16_Households not receiving food stamps; Estimate; Households - RACE AND HISPANIC OR LATINO ORIGIN OF HOUSEHOLDER - Two or more races_100scale',\n",
       " 'ACS_09_S2201_HC01_EST_VC17_Total; Estimate; Households - RACE AND HISPANIC OR LATINO ORIGIN OF HOUSEHOLDER - Hispanic or Latino origin (of any race)_100scale',\n",
       " 'ACS_09_S2201_HC02_EST_VC17_Households receiving food stamps; Estimate; Households - RACE AND HISPANIC OR LATINO ORIGIN OF HOUSEHOLDER - Hispanic or Latino origin (of any race)_100scale',\n",
       " 'ACS_09_S2201_HC03_EST_VC17_Households not receiving food stamps; Estimate; Households - RACE AND HISPANIC OR LATINO ORIGIN OF HOUSEHOLDER - Hispanic or Latino origin (of any race)_100scale',\n",
       " 'ACS_09_S2201_HC01_EST_VC18_Total; Estimate; Households - RACE AND HISPANIC OR LATINO ORIGIN OF HOUSEHOLDER - White alone, not Hispanic or Latino_100scale',\n",
       " 'ACS_09_S2201_HC02_EST_VC18_Households receiving food stamps; Estimate; Households - RACE AND HISPANIC OR LATINO ORIGIN OF HOUSEHOLDER - White alone, not Hispanic or Latino_100scale',\n",
       " 'ACS_09_S2201_HC03_EST_VC18_Households not receiving food stamps; Estimate; Households - RACE AND HISPANIC OR LATINO ORIGIN OF HOUSEHOLDER - White alone, not Hispanic or Latino_100scale',\n",
       " 'ACS_09_S2201_HC01_EST_VC20_Total; Estimate; Households - HOUSEHOLD INCOME IN THE PAST 12 MONTHS (IN 2009 INFLATION-ADJUSTED DOLLARS) - Median income (dollars)_100scale',\n",
       " 'ACS_09_S2201_HC02_EST_VC20_Households receiving food stamps; Estimate; Households - HOUSEHOLD INCOME IN THE PAST 12 MONTHS (IN 2009 INFLATION-ADJUSTED DOLLARS) - Median income (dollars)_100scale',\n",
       " 'ACS_09_S2201_HC03_EST_VC20_Households not receiving food stamps; Estimate; Households - HOUSEHOLD INCOME IN THE PAST 12 MONTHS (IN 2009 INFLATION-ADJUSTED DOLLARS) - Median income (dollars)_100scale',\n",
       " 'ACS_09_S2201_HC01_EST_VC22_Total; Estimate; WORK STATUS - Families_100scale',\n",
       " 'ACS_09_S2201_HC02_EST_VC22_Households receiving food stamps; Estimate; WORK STATUS - Families_100scale',\n",
       " 'ACS_09_S2201_HC03_EST_VC22_Households not receiving food stamps; Estimate; WORK STATUS - Families_100scale',\n",
       " 'ACS_09_S2201_HC01_EST_VC23_Total; Estimate; WORK STATUS - Families - No workers in past 12 months_100scale',\n",
       " 'ACS_09_S2201_HC02_EST_VC23_Households receiving food stamps; Estimate; WORK STATUS - Families - No workers in past 12 months_100scale',\n",
       " 'ACS_09_S2201_HC03_EST_VC23_Households not receiving food stamps; Estimate; WORK STATUS - Families - No workers in past 12 months_100scale',\n",
       " 'ACS_09_S2201_HC01_EST_VC24_Total; Estimate; WORK STATUS - Families - 1 worker in past 12 months_100scale',\n",
       " 'ACS_09_S2201_HC02_EST_VC24_Households receiving food stamps; Estimate; WORK STATUS - Families - 1 worker in past 12 months_100scale',\n",
       " 'ACS_09_S2201_HC03_EST_VC24_Households not receiving food stamps; Estimate; WORK STATUS - Families - 1 worker in past 12 months_100scale',\n",
       " 'ACS_09_S2201_HC01_EST_VC25_Total; Estimate; WORK STATUS - Families - 2 or more workers in past 12 months_100scale',\n",
       " 'ACS_09_S2201_HC02_EST_VC25_Households receiving food stamps; Estimate; WORK STATUS - Families - 2 or more workers in past 12 months_100scale',\n",
       " 'ACS_09_S2201_HC03_EST_VC25_Households not receiving food stamps; Estimate; WORK STATUS - Families - 2 or more workers in past 12 months_100scale',\n",
       " 'ACS_09_S2201_HC01_EST_VC27_Total; Estimate; PERCENT IMPUTED - Food stamp/SNAP recipiency_100scale']"
      ]
     },
     "execution_count": 124,
     "metadata": {},
     "output_type": "execute_result"
    }
   ],
   "source": [
    "list(gentrification.columns.unique())"
   ]
  },
  {
   "cell_type": "code",
   "execution_count": 11,
   "metadata": {
    "collapsed": false
   },
   "outputs": [],
   "source": [
    "gentrification.columns = [x.strip().replace(' ', '_') for x in gentrification.columns]"
   ]
  },
  {
   "cell_type": "code",
   "execution_count": 12,
   "metadata": {
    "collapsed": false
   },
   "outputs": [],
   "source": [
    "gentrification.columns = [x.strip().replace( ';' , '_') for x in gentrification.columns]"
   ]
  },
  {
   "cell_type": "code",
   "execution_count": 13,
   "metadata": {
    "collapsed": false
   },
   "outputs": [],
   "source": [
    "gentrification.columns = [x.strip().replace( '-' , '') for x in gentrification.columns]"
   ]
  },
  {
   "cell_type": "code",
   "execution_count": 14,
   "metadata": {
    "collapsed": true
   },
   "outputs": [],
   "source": [
    "gentrification.columns = [x.strip().replace( ':' , '') for x in gentrification.columns]"
   ]
  },
  {
   "cell_type": "code",
   "execution_count": 15,
   "metadata": {
    "collapsed": false
   },
   "outputs": [],
   "source": [
    "gentrification.columns = [x.strip().replace( '(' , '') and x.strip().replace( ')' , '') for x in gentrification.columns]"
   ]
  },
  {
   "cell_type": "code",
   "execution_count": 9,
   "metadata": {
    "collapsed": false
   },
   "outputs": [
    {
     "data": {
      "text/plain": [
       "dtype('bool')"
      ]
     },
     "execution_count": 9,
     "metadata": {},
     "output_type": "execute_result"
    }
   ],
   "source": [
    "gentrification.GENTRIFIED.dtype"
   ]
  },
  {
   "cell_type": "code",
   "execution_count": 10,
   "metadata": {
    "collapsed": true
   },
   "outputs": [],
   "source": [
    "gentrification.GENTRIFIED = gentrification.GENTRIFIED.apply(lambda x: x.astype(np.int64))"
   ]
  },
  {
   "cell_type": "code",
   "execution_count": 17,
   "metadata": {
    "collapsed": true
   },
   "outputs": [],
   "source": [
    "median_features = gentrification.dropna().median()\n",
    "mean_features = gentrification.dropna().mean()"
   ]
  },
  {
   "cell_type": "code",
   "execution_count": 20,
   "metadata": {
    "collapsed": false
   },
   "outputs": [],
   "source": [
    "# imputed_features = gentrification.fillna(median_features)\n",
    "imputed_mean_features = gentrification.fillna(mean_features)"
   ]
  },
  {
   "cell_type": "code",
   "execution_count": 22,
   "metadata": {
    "collapsed": false
   },
   "outputs": [],
   "source": [
    "target = imputed_mean_features.GENTRIFIED.values #target array contains 613 counts"
   ]
  },
  {
   "cell_type": "code",
   "execution_count": 28,
   "metadata": {
    "collapsed": false
   },
   "outputs": [],
   "source": [
    "# imputed_mean_features = imputed_features.loc[:, (imputed_features != 0).any(axis=0)]\n",
    "imputed_mean_features = imputed_mean_features.loc[:, (imputed_mean_features != 0).any(axis=0)]"
   ]
  },
  {
   "cell_type": "code",
   "execution_count": 154,
   "metadata": {
    "collapsed": false
   },
   "outputs": [
    {
     "data": {
      "text/plain": [
       "(613, 494)"
      ]
     },
     "execution_count": 154,
     "metadata": {},
     "output_type": "execute_result"
    }
   ],
   "source": [
    "imputed_features.shape"
   ]
  },
  {
   "cell_type": "code",
   "execution_count": 29,
   "metadata": {
    "collapsed": false
   },
   "outputs": [],
   "source": [
    "imputed_mean_features.drop(imputed_mean_features.columns[[0]], axis=1, inplace=True) #drop Geography column"
   ]
  },
  {
   "cell_type": "code",
   "execution_count": 30,
   "metadata": {
    "collapsed": false
   },
   "outputs": [
    {
     "data": {
      "text/html": [
       "<div>\n",
       "<table border=\"1\" class=\"dataframe\">\n",
       "  <thead>\n",
       "    <tr style=\"text-align: right;\">\n",
       "      <th></th>\n",
       "      <th>GENTRIFIED</th>\n",
       "      <th>ACS_09_B08303_HD01_VD01_Estimate__Total_100scale</th>\n",
       "      <th>ACS_09_B08303_HD01_VD02_Estimate__Less_than_5_minutes_100scale</th>\n",
       "      <th>ACS_09_B08303_HD01_VD03_Estimate__5_to_9_minutes_100scale</th>\n",
       "      <th>ACS_09_B08303_HD01_VD04_Estimate__10_to_14_minutes_100scale</th>\n",
       "      <th>ACS_09_B08303_HD01_VD05_Estimate__15_to_19_minutes_100scale</th>\n",
       "      <th>ACS_09_B08303_HD01_VD06_Estimate__20_to_24_minutes_100scale</th>\n",
       "      <th>ACS_09_B08303_HD01_VD07_Estimate__25_to_29_minutes_100scale</th>\n",
       "      <th>ACS_09_B08303_HD01_VD08_Estimate__30_to_34_minutes_100scale</th>\n",
       "      <th>ACS_09_B08303_HD01_VD09_Estimate__35_to_39_minutes_100scale</th>\n",
       "      <th>...</th>\n",
       "      <th>ACS_09_S2201_HC01_EST_VC23_Total__Estimate__WORK_STATUS__Families__No_workers_in_past_12_months_100scale</th>\n",
       "      <th>ACS_09_S2201_HC02_EST_VC23_Households_receiving_food_stamps__Estimate__WORK_STATUS__Families__No_workers_in_past_12_months_100scale</th>\n",
       "      <th>ACS_09_S2201_HC03_EST_VC23_Households_not_receiving_food_stamps__Estimate__WORK_STATUS__Families__No_workers_in_past_12_months_100scale</th>\n",
       "      <th>ACS_09_S2201_HC01_EST_VC24_Total__Estimate__WORK_STATUS__Families__1_worker_in_past_12_months_100scale</th>\n",
       "      <th>ACS_09_S2201_HC02_EST_VC24_Households_receiving_food_stamps__Estimate__WORK_STATUS__Families__1_worker_in_past_12_months_100scale</th>\n",
       "      <th>ACS_09_S2201_HC03_EST_VC24_Households_not_receiving_food_stamps__Estimate__WORK_STATUS__Families__1_worker_in_past_12_months_100scale</th>\n",
       "      <th>ACS_09_S2201_HC01_EST_VC25_Total__Estimate__WORK_STATUS__Families__2_or_more_workers_in_past_12_months_100scale</th>\n",
       "      <th>ACS_09_S2201_HC02_EST_VC25_Households_receiving_food_stamps__Estimate__WORK_STATUS__Families__2_or_more_workers_in_past_12_months_100scale</th>\n",
       "      <th>ACS_09_S2201_HC03_EST_VC25_Households_not_receiving_food_stamps__Estimate__WORK_STATUS__Families__2_or_more_workers_in_past_12_months_100scale</th>\n",
       "      <th>ACS_09_S2201_HC01_EST_VC27_Total__Estimate__PERCENT_IMPUTED__Food_stamp/SNAP_recipiency_100scale</th>\n",
       "    </tr>\n",
       "  </thead>\n",
       "  <tbody>\n",
       "    <tr>\n",
       "      <th>0</th>\n",
       "      <td>0</td>\n",
       "      <td>27.11</td>\n",
       "      <td>13.69</td>\n",
       "      <td>7.53</td>\n",
       "      <td>13.63</td>\n",
       "      <td>14.93</td>\n",
       "      <td>15.25</td>\n",
       "      <td>6.68</td>\n",
       "      <td>20.02</td>\n",
       "      <td>29.18</td>\n",
       "      <td>...</td>\n",
       "      <td>24.36</td>\n",
       "      <td>23.5</td>\n",
       "      <td>21.27</td>\n",
       "      <td>77.86</td>\n",
       "      <td>54.1</td>\n",
       "      <td>65.90</td>\n",
       "      <td>39.14</td>\n",
       "      <td>22.4</td>\n",
       "      <td>41.36</td>\n",
       "      <td>10.99</td>\n",
       "    </tr>\n",
       "    <tr>\n",
       "      <th>1</th>\n",
       "      <td>0</td>\n",
       "      <td>14.02</td>\n",
       "      <td>0.00</td>\n",
       "      <td>5.72</td>\n",
       "      <td>0.71</td>\n",
       "      <td>8.69</td>\n",
       "      <td>19.06</td>\n",
       "      <td>7.98</td>\n",
       "      <td>12.56</td>\n",
       "      <td>0.00</td>\n",
       "      <td>...</td>\n",
       "      <td>63.82</td>\n",
       "      <td>63.2</td>\n",
       "      <td>32.55</td>\n",
       "      <td>74.41</td>\n",
       "      <td>32.3</td>\n",
       "      <td>81.17</td>\n",
       "      <td>16.00</td>\n",
       "      <td>4.5</td>\n",
       "      <td>22.55</td>\n",
       "      <td>43.96</td>\n",
       "    </tr>\n",
       "    <tr>\n",
       "      <th>2</th>\n",
       "      <td>0</td>\n",
       "      <td>5.35</td>\n",
       "      <td>0.00</td>\n",
       "      <td>11.14</td>\n",
       "      <td>7.79</td>\n",
       "      <td>2.69</td>\n",
       "      <td>4.15</td>\n",
       "      <td>1.60</td>\n",
       "      <td>7.35</td>\n",
       "      <td>3.93</td>\n",
       "      <td>...</td>\n",
       "      <td>0.00</td>\n",
       "      <td>0.0</td>\n",
       "      <td>0.00</td>\n",
       "      <td>60.44</td>\n",
       "      <td>79.3</td>\n",
       "      <td>22.84</td>\n",
       "      <td>66.00</td>\n",
       "      <td>20.7</td>\n",
       "      <td>87.62</td>\n",
       "      <td>65.93</td>\n",
       "    </tr>\n",
       "  </tbody>\n",
       "</table>\n",
       "<p>3 rows × 493 columns</p>\n",
       "</div>"
      ],
      "text/plain": [
       "   GENTRIFIED  ACS_09_B08303_HD01_VD01_Estimate__Total_100scale  \\\n",
       "0           0                                             27.11   \n",
       "1           0                                             14.02   \n",
       "2           0                                              5.35   \n",
       "\n",
       "   ACS_09_B08303_HD01_VD02_Estimate__Less_than_5_minutes_100scale  \\\n",
       "0                                              13.69                \n",
       "1                                               0.00                \n",
       "2                                               0.00                \n",
       "\n",
       "   ACS_09_B08303_HD01_VD03_Estimate__5_to_9_minutes_100scale  \\\n",
       "0                                               7.53           \n",
       "1                                               5.72           \n",
       "2                                              11.14           \n",
       "\n",
       "   ACS_09_B08303_HD01_VD04_Estimate__10_to_14_minutes_100scale  \\\n",
       "0                                              13.63             \n",
       "1                                               0.71             \n",
       "2                                               7.79             \n",
       "\n",
       "   ACS_09_B08303_HD01_VD05_Estimate__15_to_19_minutes_100scale  \\\n",
       "0                                              14.93             \n",
       "1                                               8.69             \n",
       "2                                               2.69             \n",
       "\n",
       "   ACS_09_B08303_HD01_VD06_Estimate__20_to_24_minutes_100scale  \\\n",
       "0                                              15.25             \n",
       "1                                              19.06             \n",
       "2                                               4.15             \n",
       "\n",
       "   ACS_09_B08303_HD01_VD07_Estimate__25_to_29_minutes_100scale  \\\n",
       "0                                               6.68             \n",
       "1                                               7.98             \n",
       "2                                               1.60             \n",
       "\n",
       "   ACS_09_B08303_HD01_VD08_Estimate__30_to_34_minutes_100scale  \\\n",
       "0                                              20.02             \n",
       "1                                              12.56             \n",
       "2                                               7.35             \n",
       "\n",
       "   ACS_09_B08303_HD01_VD09_Estimate__35_to_39_minutes_100scale  \\\n",
       "0                                              29.18             \n",
       "1                                               0.00             \n",
       "2                                               3.93             \n",
       "\n",
       "                                                 ...                                                 \\\n",
       "0                                                ...                                                  \n",
       "1                                                ...                                                  \n",
       "2                                                ...                                                  \n",
       "\n",
       "   ACS_09_S2201_HC01_EST_VC23_Total__Estimate__WORK_STATUS__Families__No_workers_in_past_12_months_100scale  \\\n",
       "0                                              24.36                                                          \n",
       "1                                              63.82                                                          \n",
       "2                                               0.00                                                          \n",
       "\n",
       "   ACS_09_S2201_HC02_EST_VC23_Households_receiving_food_stamps__Estimate__WORK_STATUS__Families__No_workers_in_past_12_months_100scale  \\\n",
       "0                                               23.5                                                                                     \n",
       "1                                               63.2                                                                                     \n",
       "2                                                0.0                                                                                     \n",
       "\n",
       "   ACS_09_S2201_HC03_EST_VC23_Households_not_receiving_food_stamps__Estimate__WORK_STATUS__Families__No_workers_in_past_12_months_100scale  \\\n",
       "0                                              21.27                                                                                         \n",
       "1                                              32.55                                                                                         \n",
       "2                                               0.00                                                                                         \n",
       "\n",
       "   ACS_09_S2201_HC01_EST_VC24_Total__Estimate__WORK_STATUS__Families__1_worker_in_past_12_months_100scale  \\\n",
       "0                                              77.86                                                        \n",
       "1                                              74.41                                                        \n",
       "2                                              60.44                                                        \n",
       "\n",
       "   ACS_09_S2201_HC02_EST_VC24_Households_receiving_food_stamps__Estimate__WORK_STATUS__Families__1_worker_in_past_12_months_100scale  \\\n",
       "0                                               54.1                                                                                   \n",
       "1                                               32.3                                                                                   \n",
       "2                                               79.3                                                                                   \n",
       "\n",
       "   ACS_09_S2201_HC03_EST_VC24_Households_not_receiving_food_stamps__Estimate__WORK_STATUS__Families__1_worker_in_past_12_months_100scale  \\\n",
       "0                                              65.90                                                                                       \n",
       "1                                              81.17                                                                                       \n",
       "2                                              22.84                                                                                       \n",
       "\n",
       "   ACS_09_S2201_HC01_EST_VC25_Total__Estimate__WORK_STATUS__Families__2_or_more_workers_in_past_12_months_100scale  \\\n",
       "0                                              39.14                                                                 \n",
       "1                                              16.00                                                                 \n",
       "2                                              66.00                                                                 \n",
       "\n",
       "   ACS_09_S2201_HC02_EST_VC25_Households_receiving_food_stamps__Estimate__WORK_STATUS__Families__2_or_more_workers_in_past_12_months_100scale  \\\n",
       "0                                               22.4                                                                                            \n",
       "1                                                4.5                                                                                            \n",
       "2                                               20.7                                                                                            \n",
       "\n",
       "   ACS_09_S2201_HC03_EST_VC25_Households_not_receiving_food_stamps__Estimate__WORK_STATUS__Families__2_or_more_workers_in_past_12_months_100scale  \\\n",
       "0                                              41.36                                                                                                \n",
       "1                                              22.55                                                                                                \n",
       "2                                              87.62                                                                                                \n",
       "\n",
       "   ACS_09_S2201_HC01_EST_VC27_Total__Estimate__PERCENT_IMPUTED__Food_stamp/SNAP_recipiency_100scale  \n",
       "0                                              10.99                                                 \n",
       "1                                              43.96                                                 \n",
       "2                                              65.93                                                 \n",
       "\n",
       "[3 rows x 493 columns]"
      ]
     },
     "execution_count": 30,
     "metadata": {},
     "output_type": "execute_result"
    }
   ],
   "source": [
    "imputed_mean_features.head(3)"
   ]
  },
  {
   "cell_type": "code",
   "execution_count": 31,
   "metadata": {
    "collapsed": true
   },
   "outputs": [],
   "source": [
    "imputed_mean_features = imputed_mean_features.applymap(np.int64)"
   ]
  },
  {
   "cell_type": "code",
   "execution_count": 32,
   "metadata": {
    "collapsed": true
   },
   "outputs": [],
   "source": [
    "imputed_mean_features.to_csv(\"cleaned_mean_imputed_features.csv\", encoding='utf-8', index=False)"
   ]
  },
  {
   "cell_type": "code",
   "execution_count": 33,
   "metadata": {
    "collapsed": false
   },
   "outputs": [],
   "source": [
    "cleaned_features = pd.read_csv(\"cleaned_mean_imputed_features.csv\", encoding='utf-8')"
   ]
  },
  {
   "cell_type": "code",
   "execution_count": 34,
   "metadata": {
    "collapsed": true
   },
   "outputs": [],
   "source": [
    "cleaned_features.to_csv('all_features_mean.txt', encoding='utf-8', header=False, index=False) "
   ]
  },
  {
   "cell_type": "code",
   "execution_count": 35,
   "metadata": {
    "collapsed": false
   },
   "outputs": [],
   "source": [
    "features_array  = cleaned_features.values"
   ]
  },
  {
   "cell_type": "code",
   "execution_count": 36,
   "metadata": {
    "collapsed": false
   },
   "outputs": [],
   "source": [
    "target = cleaned_features.GENTRIFIED.values"
   ]
  },
  {
   "cell_type": "code",
   "execution_count": 37,
   "metadata": {
    "collapsed": true
   },
   "outputs": [],
   "source": [
    "from sklearn.cross_validation import train_test_split\n",
    "\n",
    "features_train, features_test, target_train, target_test = train_test_split(\n",
    "    features_array, target, test_size=0.20, random_state=0)"
   ]
  },
  {
   "cell_type": "code",
   "execution_count": 38,
   "metadata": {
    "collapsed": false
   },
   "outputs": [
    {
     "data": {
      "text/plain": [
       "LogisticRegression(C=1, class_weight=None, dual=False, fit_intercept=True,\n",
       "          intercept_scaling=1, max_iter=100, multi_class='ovr',\n",
       "          penalty='l2', random_state=None, solver='liblinear', tol=0.0001,\n",
       "          verbose=0)"
      ]
     },
     "execution_count": 38,
     "metadata": {},
     "output_type": "execute_result"
    }
   ],
   "source": [
    "from sklearn.linear_model import LogisticRegression\n",
    "\n",
    "logreg = LogisticRegression(C=1)\n",
    "logreg.fit(features_train, target_train)"
   ]
  },
  {
   "cell_type": "code",
   "execution_count": 39,
   "metadata": {
    "collapsed": true
   },
   "outputs": [],
   "source": [
    "target_predicted = logreg.predict(features_test)"
   ]
  },
  {
   "cell_type": "code",
   "execution_count": 40,
   "metadata": {
    "collapsed": false
   },
   "outputs": [
    {
     "data": {
      "text/plain": [
       "0.87804878048780488"
      ]
     },
     "execution_count": 40,
     "metadata": {},
     "output_type": "execute_result"
    }
   ],
   "source": [
    "from sklearn.metrics import accuracy_score\n",
    "\n",
    "accuracy_score(target_test, target_predicted)"
   ]
  },
  {
   "cell_type": "code",
   "execution_count": 41,
   "metadata": {
    "collapsed": false
   },
   "outputs": [
    {
     "data": {
      "text/plain": [
       "0.87804878048780488"
      ]
     },
     "execution_count": 41,
     "metadata": {},
     "output_type": "execute_result"
    }
   ],
   "source": [
    "logreg.score(features_test, target_test)"
   ]
  },
  {
   "cell_type": "code",
   "execution_count": 42,
   "metadata": {
    "collapsed": false
   },
   "outputs": [],
   "source": [
    "feature_names = cleaned_features.columns"
   ]
  },
  {
   "cell_type": "code",
   "execution_count": 43,
   "metadata": {
    "collapsed": false
   },
   "outputs": [
    {
     "data": {
      "text/plain": [
       "Index(['GENTRIFIED', 'ACS_09_B08303_HD01_VD01_Estimate__Total_100scale',\n",
       "       'ACS_09_B08303_HD01_VD02_Estimate__Less_than_5_minutes_100scale',\n",
       "       'ACS_09_B08303_HD01_VD03_Estimate__5_to_9_minutes_100scale',\n",
       "       'ACS_09_B08303_HD01_VD04_Estimate__10_to_14_minutes_100scale',\n",
       "       'ACS_09_B08303_HD01_VD05_Estimate__15_to_19_minutes_100scale',\n",
       "       'ACS_09_B08303_HD01_VD06_Estimate__20_to_24_minutes_100scale',\n",
       "       'ACS_09_B08303_HD01_VD07_Estimate__25_to_29_minutes_100scale',\n",
       "       'ACS_09_B08303_HD01_VD08_Estimate__30_to_34_minutes_100scale',\n",
       "       'ACS_09_B08303_HD01_VD09_Estimate__35_to_39_minutes_100scale', \n",
       "       ...\n",
       "       'ACS_09_S2201_HC01_EST_VC23_Total__Estimate__WORK_STATUS__Families__No_workers_in_past_12_months_100scale',\n",
       "       'ACS_09_S2201_HC02_EST_VC23_Households_receiving_food_stamps__Estimate__WORK_STATUS__Families__No_workers_in_past_12_months_100scale',\n",
       "       'ACS_09_S2201_HC03_EST_VC23_Households_not_receiving_food_stamps__Estimate__WORK_STATUS__Families__No_workers_in_past_12_months_100scale',\n",
       "       'ACS_09_S2201_HC01_EST_VC24_Total__Estimate__WORK_STATUS__Families__1_worker_in_past_12_months_100scale',\n",
       "       'ACS_09_S2201_HC02_EST_VC24_Households_receiving_food_stamps__Estimate__WORK_STATUS__Families__1_worker_in_past_12_months_100scale',\n",
       "       'ACS_09_S2201_HC03_EST_VC24_Households_not_receiving_food_stamps__Estimate__WORK_STATUS__Families__1_worker_in_past_12_months_100scale',\n",
       "       'ACS_09_S2201_HC01_EST_VC25_Total__Estimate__WORK_STATUS__Families__2_or_more_workers_in_past_12_months_100scale',\n",
       "       'ACS_09_S2201_HC02_EST_VC25_Households_receiving_food_stamps__Estimate__WORK_STATUS__Families__2_or_more_workers_in_past_12_months_100scale',\n",
       "       'ACS_09_S2201_HC03_EST_VC25_Households_not_receiving_food_stamps__Estimate__WORK_STATUS__Families__2_or_more_workers_in_past_12_months_100scale',\n",
       "       'ACS_09_S2201_HC01_EST_VC27_Total__Estimate__PERCENT_IMPUTED__Food_stamp/SNAP_recipiency_100scale'],\n",
       "      dtype='object', length=493)"
      ]
     },
     "execution_count": 43,
     "metadata": {},
     "output_type": "execute_result"
    }
   ],
   "source": [
    "feature_names"
   ]
  },
  {
   "cell_type": "code",
   "execution_count": 44,
   "metadata": {
    "collapsed": false
   },
   "outputs": [
    {
     "data": {
      "text/plain": [
       "array([[  8.88649603e-34,  -7.83804989e-34,   9.66616050e-34,\n",
       "          1.26174813e-33,  -1.00995792e-33,  -9.68387321e-34,\n",
       "         -8.70168294e-34,   1.15234250e-33,  -7.01448331e-34,\n",
       "         -2.47927222e-33,   9.37211024e-34,   1.31321036e-34,\n",
       "         -1.59539804e-33,  -4.28335085e-33,  -1.11604440e-33,\n",
       "         -1.27088701e-33,  -9.93829997e-34,  -5.02765492e-35,\n",
       "         -4.04018034e-34,   3.67420315e-34,   5.09136886e-34,\n",
       "         -7.10696433e-33,   8.18409736e-34,   3.37951767e-34,\n",
       "          1.21468464e-33,   7.29542532e-34,  -7.17391493e-34,\n",
       "          4.34067359e-34,  -1.52144359e-33,  -7.83797003e-34,\n",
       "         -9.91413981e-34,  -1.31151165e-33,  -7.38166762e-34,\n",
       "          1.99452047e-21,  -7.90668646e-35,   1.31680830e-33,\n",
       "         -2.53090094e-35,   7.30610259e-34,  -1.24653527e-33,\n",
       "         -3.03602199e-34,  -8.15677477e-34,  -9.18815738e-34,\n",
       "          3.74615538e-34,  -2.20660225e-33,  -1.12012411e-33,\n",
       "         -7.27871201e-35,  -3.46347407e-33,  -2.47188928e-33,\n",
       "         -1.98745061e-33,  -6.27852984e-21,   4.51461475e-20,\n",
       "         -2.87143813e-33,  -3.37668221e-33,  -7.20065172e-34,\n",
       "         -7.28683242e-34,  -8.76048166e-34,   1.24819503e-33,\n",
       "         -1.16379229e-33,  -1.12503812e-33,  -4.68535624e-34,\n",
       "          9.79082183e-34,  -1.09054186e-33,   6.37288263e-20,\n",
       "         -1.70731755e-33,   4.16024425e-34,   2.29822342e-33,\n",
       "         -2.19384143e-35,  -4.13664653e-34,  -3.13126802e-33,\n",
       "         -1.29085796e-33,   7.26105639e-36,  -1.33571281e-33,\n",
       "         -1.29873091e-33,  -1.60969929e-34,  -2.62381964e-33,\n",
       "         -6.36585650e-34,   2.34562858e-33,  -2.57336376e-34,\n",
       "          3.45733437e-33,  -8.79421209e-21,   8.42011840e-20,\n",
       "          4.55602012e-20,  -5.00036538e-20,   4.77988512e-20,\n",
       "          2.07153524e-33,   9.17165663e-34,   9.12228787e-34,\n",
       "          7.05506671e-35,  -2.36614731e-35,   3.91157963e-33,\n",
       "         -3.01263924e-33,   3.31644206e-33,   1.13496508e-33,\n",
       "         -1.10146469e-33,  -6.79969162e-21,   5.53263581e-20,\n",
       "         -1.94304698e-33,   1.64328671e-33,  -1.14948828e-33,\n",
       "          9.29483308e-34,   1.00029539e-33,  -1.76535495e-33,\n",
       "         -1.50263039e-33,  -1.09921608e-33,  -2.59002562e-33,\n",
       "          1.51360097e-33,  -1.90179412e-33,   2.48466213e-33,\n",
       "         -7.01177577e-34,   5.55630829e-34,  -9.04434337e-34,\n",
       "          1.82807111e-33,   9.04941140e-34,   9.71801679e-34,\n",
       "         -2.53917385e-33,   3.63400580e-33,   1.08528088e-33,\n",
       "         -2.31288157e-33,   3.09705283e-33,   1.97206374e-33,\n",
       "          1.06834667e-33,   2.40522118e-33,  -1.32764438e-33,\n",
       "         -1.53405088e-33,  -1.66378921e-33,  -8.64067784e-34,\n",
       "          3.94467803e-20,   3.97908206e-33,   5.80042395e-34,\n",
       "         -8.54812876e-34,   2.83890485e-35,   4.06018687e-34,\n",
       "         -8.72638794e-34,   2.73576752e-34,  -1.51115030e-33,\n",
       "         -1.73849180e-33,  -8.53108192e-34,  -7.81719963e-34,\n",
       "         -1.03769097e-33,  -7.35428388e-34,  -5.36989496e-33,\n",
       "         -3.08521155e-33,   4.01217189e-21,  -4.46708061e-20,\n",
       "          1.09502758e-33,  -1.66199200e-33,  -2.76331193e-33,\n",
       "         -1.24613233e-33,  -2.80155302e-33,   3.11660092e-34,\n",
       "         -1.27917252e-33,  -7.93360679e-34,  -3.72264800e-33,\n",
       "         -1.25673659e-33,  -1.80966032e-34,  -4.58919388e-34,\n",
       "         -4.39048770e-33,  -1.59345410e-33,   1.93863086e-21,\n",
       "         -1.35789024e-33,  -8.87438312e-34,   1.15962930e-34,\n",
       "         -1.14288350e-33,  -3.63598170e-33,   1.04681850e-33,\n",
       "         -4.34980206e-33,   2.38331621e-34,  -1.08645125e-33,\n",
       "         -1.93367469e-33,  -1.46190403e-33,   1.93863086e-21,\n",
       "         -3.30998023e-33,   3.75081494e-20,   3.41993738e-20,\n",
       "         -6.64852449e-34,   1.42799603e-33,  -4.05251059e-34,\n",
       "          8.68730947e-34,   1.46435806e-33,   1.44116405e-33,\n",
       "         -2.13923641e-33,  -4.21221197e-33,   8.75226867e-35,\n",
       "         -1.29764398e-33,  -2.83491900e-33,  -1.50933948e-33,\n",
       "         -8.57557079e-35,   7.70916835e-20,   3.12873528e-20,\n",
       "          1.39108741e-33,   3.88234704e-33,  -1.33643214e-33,\n",
       "          2.72552472e-33,  -6.13840393e-34,  -3.91245356e-33,\n",
       "         -1.82764936e-33,   7.42832572e-34,  -2.71377197e-34,\n",
       "         -8.51588475e-34,   2.19587444e-33,  -1.23205453e-34,\n",
       "          2.91810809e-34,  -4.12359469e-34,   1.11185469e-33,\n",
       "         -9.09020820e-34,  -4.12359469e-34,   7.56957764e-36,\n",
       "         -7.70699619e-34,  -4.12359469e-34,   4.46314539e-34,\n",
       "         -1.79835614e-33,  -4.12359469e-34,   1.98381329e-33,\n",
       "         -2.11957222e-33,  -6.94325939e-34,  -6.50183016e-34,\n",
       "         -9.79287448e-34,  -4.03955444e-33,  -3.61846570e-33,\n",
       "         -2.89553016e-33,  -2.67706291e-33,  -7.96603418e-34,\n",
       "          4.46314539e-34,   1.55788344e-34,  -1.53165199e-34,\n",
       "          2.65279428e-34,  -5.98971939e-34,   3.77061537e-33,\n",
       "          5.13219804e-35,   1.28485568e-33,  -1.23570972e-34,\n",
       "         -2.72777259e-33,  -2.47749168e-33,  -2.21726724e-19,\n",
       "          3.37015261e-34,  -2.40593646e-33,   9.06324451e-20,\n",
       "         -8.94807423e-20,  -2.21692543e-34,  -1.44367759e-33,\n",
       "          1.86261711e-20,  -3.13342765e-20,  -5.18006450e-34,\n",
       "         -3.10905186e-33,  -8.81953704e-19,   5.28397846e-20,\n",
       "         -1.09160795e-34,  -2.60751342e-33,  -2.04565555e-33,\n",
       "          7.20902976e-19,   1.22717867e-33,  -7.69515155e-34,\n",
       "          2.52992727e-20,   9.23974831e-21,  -2.77636366e-35,\n",
       "         -1.89347921e-33,   6.09097035e-20,   4.15828929e-20,\n",
       "         -2.87943311e-34,  -8.21716070e-21,  -3.84091888e-20,\n",
       "         -1.31514008e-19,   3.03106978e-34,   1.21132590e-33,\n",
       "          8.67643886e-21,  -5.33104777e-21,  -2.08205219e-33,\n",
       "         -4.43096847e-20,  -1.51186550e-19,   3.79627425e-19,\n",
       "         -3.76071047e-33,  -1.16491073e-33,  -1.46715219e-20,\n",
       "          4.34180578e-20,  -9.20847698e-34,  -1.19176747e-33,\n",
       "         -3.67002503e-20,  -4.71272056e-20,  -4.81038659e-33,\n",
       "         -2.54248322e-33,  -9.53348722e-22,   4.03152125e-20,\n",
       "          2.13445806e-33,   1.16063215e-34,  -2.25697328e-20,\n",
       "          4.30705319e-20,   1.02523091e-33,  -3.33957235e-33,\n",
       "         -3.73890163e-33,   9.14264739e-19,  -3.21175450e-33,\n",
       "         -9.74964124e-35,   5.30300177e-20,  -2.82943433e-20,\n",
       "         -2.95340549e-33,  -4.57620603e-33,  -2.14944023e-19,\n",
       "         -3.82757979e-20,   5.64903128e-34,   5.19520788e-34,\n",
       "          1.62846626e-19,   7.76199808e-22,  -1.53673909e-34,\n",
       "          1.68436631e-34,   1.86261711e-20,  -4.84895154e-20,\n",
       "          1.74071417e-33,  -1.16422211e-33,   3.72043575e-20,\n",
       "         -4.39866437e-20,   1.57381836e-33,   3.03623468e-34,\n",
       "          3.38494173e-20,   5.45509846e-20,  -4.84152681e-34,\n",
       "         -2.62005495e-33,  -2.36681774e-33,  -2.21726724e-19,\n",
       "         -8.55549825e-34,  -3.25834168e-33,   6.67009681e-19,\n",
       "          5.63114613e-20,  -9.23610730e-35,   1.98731641e-34,\n",
       "          5.95100880e-19,   2.15190378e-20,  -6.87818938e-34,\n",
       "         -1.76619357e-33,   6.11259905e-19,  -1.27272579e-20,\n",
       "         -1.31604950e-34,  -2.65541738e-33,  -2.27766736e-33,\n",
       "         -1.21143847e-18,   3.27416661e-34,  -1.67568160e-33,\n",
       "         -1.29410744e-33,  -4.02616036e-20,   6.10596803e-33,\n",
       "          1.43930621e-33,  -9.56268745e-34,   8.91304086e-34,\n",
       "         -1.36277855e-33,   1.86261711e-20,   1.86261711e-20,\n",
       "          1.86261711e-20,   1.86261711e-20,   1.86261711e-20,\n",
       "         -9.64640421e-34,   1.86261711e-20,  -1.27050976e-33,\n",
       "          9.39285292e-34,   1.86261711e-20,   1.25298267e-33,\n",
       "          1.96413708e-33,   1.86261711e-20,   1.74629052e-33,\n",
       "         -4.54729068e-34,   1.86261711e-20,   2.51815013e-34,\n",
       "         -1.16718214e-33,   1.86261711e-20,  -1.91698214e-33,\n",
       "         -9.60858263e-34,   1.86261711e-20,  -1.80302560e-33,\n",
       "         -1.98908740e-33,   1.86261711e-20,  -1.84445706e-33,\n",
       "          3.45365557e-33,   1.86261711e-20,   2.28957259e-33,\n",
       "          2.37725541e-33,   1.86261711e-20,   2.29916011e-33,\n",
       "          1.06113461e-33,   1.86261711e-20,   1.21056036e-33,\n",
       "         -8.32488589e-34,   1.86261711e-20,  -1.23043487e-33,\n",
       "         -6.30567851e-34,   1.86261711e-20,  -5.96349135e-34,\n",
       "         -1.33074974e-33,   1.86261711e-20,  -1.54686326e-33,\n",
       "         -5.29746737e-33,   1.86261711e-20,  -5.04944845e-33,\n",
       "         -3.32720087e-33,   1.86261711e-20,  -2.19759529e-33,\n",
       "         -5.52894399e-33,   1.86261711e-20,  -5.37348111e-33,\n",
       "          3.39393542e-33,   1.86261711e-20,   3.56041635e-33,\n",
       "         -4.35196270e-34,  -7.82724651e-19,  -7.27254834e-34,\n",
       "          6.64171403e-19,   4.04786036e-34,  -6.16253985e-20,\n",
       "         -9.16706380e-34,  -1.36279151e-33,   9.36919825e-34,\n",
       "         -1.70980992e-33,  -2.60969676e-33,   1.86261711e-20,\n",
       "         -2.72914326e-33,  -1.44713404e-33,   1.86261711e-20,\n",
       "         -1.08552965e-33,  -4.47258062e-34,   1.86261711e-20,\n",
       "         -3.36448925e-34,   2.84296672e-33,   1.86261711e-20,\n",
       "          2.64436543e-33,  -8.98257962e-34,   6.87445777e-34,\n",
       "         -1.09052728e-33,  -2.60915061e-33,   7.11203908e-19,\n",
       "         -2.26511887e-33,  -8.75389019e-34,   5.14242024e-34,\n",
       "         -1.07759081e-33,  -7.54345936e-36,   6.99474554e-20,\n",
       "          2.97854383e-34,   5.17409920e-34,   1.86261711e-20,\n",
       "         -4.12359469e-34,  -2.67369844e-33,   4.51545355e-34,\n",
       "         -1.37129378e-33,   3.23648745e-20,  -1.25313268e-33,\n",
       "         -3.48178699e-35,   3.23648745e-20,   1.15068791e-33,\n",
       "          4.46230490e-34,   3.23648745e-20,   2.76799632e-34,\n",
       "          5.13910077e-33,   3.23648745e-20,   5.27341890e-33,\n",
       "          3.02279502e-33,   3.23648745e-20,   2.71429557e-33,\n",
       "         -4.74739188e-34,   3.23648745e-20,  -3.01575124e-34,\n",
       "         -5.85820008e-34,   3.23648745e-20,   1.01310749e-33,\n",
       "          7.72021423e-34,   3.43035054e-20,   2.99342042e-34,\n",
       "         -7.27013657e-34,   6.82973582e-20,  -5.64704339e-34,\n",
       "         -4.22024426e-33,   3.23648745e-20,  -4.18968628e-33,\n",
       "         -5.04065573e-33,   3.23648745e-20,  -5.15881628e-33,\n",
       "         -4.85036253e-33,   3.23648745e-20,  -5.59188218e-33,\n",
       "          3.70820251e-33,   3.23648745e-20,   3.61689298e-33,\n",
       "          2.91810809e-34,   6.48747993e-19,   1.96647500e-34,\n",
       "         -9.03544218e-34,  -3.26556829e-33,  -1.39660628e-34,\n",
       "         -4.68009124e-34,   3.23648745e-20,  -8.09388620e-35,\n",
       "          2.53253213e-33,   3.23648745e-20,   1.79063538e-33,\n",
       "         -1.49121467e-33,   3.23648745e-20,  -8.37323210e-34,\n",
       "         -7.58769768e-34]])"
      ]
     },
     "execution_count": 44,
     "metadata": {},
     "output_type": "execute_result"
    }
   ],
   "source": [
    "logreg.coef_"
   ]
  },
  {
   "cell_type": "code",
   "execution_count": 45,
   "metadata": {
    "collapsed": false
   },
   "outputs": [
    {
     "name": "stdout",
     "output_type": "stream",
     "text": [
      "[[108   2]\n",
      " [ 13   0]]\n"
     ]
    }
   ],
   "source": [
    "from sklearn.metrics import confusion_matrix\n",
    "\n",
    "cm = confusion_matrix(target_test, target_predicted)\n",
    "print(cm)"
   ]
  },
  {
   "cell_type": "code",
   "execution_count": 47,
   "metadata": {
    "collapsed": false
   },
   "outputs": [
    {
     "data": {
      "image/png": "[encoded data removed]",
      "text/plain": [
       "<matplotlib.figure.Figure at 0x862ccc0>"
      ]
     },
     "metadata": {},
     "output_type": "display_data"
    }
   ],
   "source": [
    "%matplotlib inline\n",
    "\n",
    "import matplotlib.pyplot as plt\n",
    "\n",
    "def plot_confusion(cm, target_names = ['Gentrified', 'Not Gentrified'],\n",
    "                   title='Confusion matrix'):\n",
    "    plt.imshow(cm, interpolation='nearest', cmap=plt.cm.Blues)\n",
    "    plt.title(title)\n",
    "    plt.colorbar()\n",
    "\n",
    "    tick_marks = np.arange(len(target_names))\n",
    "    plt.xticks(tick_marks, target_names, rotation=60)\n",
    "    plt.yticks(tick_marks, target_names)\n",
    "    plt.ylabel('True label')\n",
    "    plt.xlabel('Predicted label')\n",
    "    # Convenience function to adjust plot parameters for a clear layout.\n",
    "    plt.tight_layout()\n",
    "    \n",
    "plot_confusion(cm)"
   ]
  },
  {
   "cell_type": "code",
   "execution_count": 48,
   "metadata": {
    "collapsed": false
   },
   "outputs": [
    {
     "data": {
      "text/plain": [
       "array([110,  13])"
      ]
     },
     "execution_count": 48,
     "metadata": {},
     "output_type": "execute_result"
    }
   ],
   "source": [
    "cm.sum(axis=1)"
   ]
  },
  {
   "cell_type": "code",
   "execution_count": 49,
   "metadata": {
    "collapsed": false
   },
   "outputs": [
    {
     "name": "stdout",
     "output_type": "stream",
     "text": [
      "[[ 0.98181818  0.01818182]\n",
      " [ 1.          0.        ]]\n"
     ]
    }
   ],
   "source": [
    "cm_normalized = cm.astype(np.float64) / cm.sum(axis=1)[:, np.newaxis]\n",
    "print(cm_normalized)"
   ]
  },
  {
   "cell_type": "code",
   "execution_count": 50,
   "metadata": {
    "collapsed": false
   },
   "outputs": [
    {
     "data": {
      "image/png": "[encoded data removed]",
      "text/plain": [
       "<matplotlib.figure.Figure at 0x85ffe10>"
      ]
     },
     "metadata": {},
     "output_type": "display_data"
    }
   ],
   "source": [
    "plot_confusion(cm_normalized, title=\"Normalized confusion matrix\")"
   ]
  },
  {
   "cell_type": "code",
   "execution_count": 51,
   "metadata": {
    "collapsed": false
   },
   "outputs": [
    {
     "name": "stdout",
     "output_type": "stream",
     "text": [
      "                precision    recall  f1-score   support\n",
      "\n",
      "    Gentrified       0.89      0.98      0.94       110\n",
      "Not Gentrified       0.00      0.00      0.00        13\n",
      "\n",
      "   avg / total       0.80      0.88      0.84       123\n",
      "\n"
     ]
    }
   ],
   "source": [
    "from sklearn.metrics import classification_report\n",
    "\n",
    "print(classification_report(target_test, target_predicted,\n",
    "                            target_names=['Gentrified', 'Not Gentrified']))"
   ]
  },
  {
   "cell_type": "code",
   "execution_count": 52,
   "metadata": {
    "collapsed": true
   },
   "outputs": [],
   "source": [
    "from sklearn.metrics import roc_curve\n",
    "from sklearn.metrics import auc\n",
    "\n",
    "def plot_roc_curve(target_test, target_predicted_proba):\n",
    "    fpr, tpr, thresholds = roc_curve(target_test, target_predicted_proba[:, 1])\n",
    "    \n",
    "    roc_auc = auc(fpr, tpr)\n",
    "    # Plot ROC curve\n",
    "    plt.plot(fpr, tpr, label='ROC curve (area = %0.3f)' % roc_auc)\n",
    "    plt.plot([0, 1], [0, 1], 'k--')  # random predictions curve\n",
    "    plt.xlim([0.0, 1.0])\n",
    "    plt.ylim([0.0, 1.0])\n",
    "    plt.xlabel('False Positive Rate or (1 - Specifity)')\n",
    "    plt.ylabel('True Positive Rate or (Sensitivity)')\n",
    "    plt.title('Receiver Operating Characteristic')\n",
    "    plt.legend(loc=\"lower right\")"
   ]
  },
  {
   "cell_type": "code",
   "execution_count": 53,
   "metadata": {
    "collapsed": false
   },
   "outputs": [
    {
     "data": {
      "image/png": "[encoded data removed]",
      "text/plain": [
       "<matplotlib.figure.Figure at 0xa2380b8>"
      ]
     },
     "metadata": {},
     "output_type": "display_data"
    }
   ],
   "source": [
    "target_predicted_prob = logreg.predict_proba(features_test)\n",
    "plot_roc_curve(target_test,target_predicted_prob)"
   ]
  },
  {
   "cell_type": "code",
   "execution_count": 54,
   "metadata": {
    "collapsed": true
   },
   "outputs": [],
   "source": [
    "from sklearn.cross_validation import cross_val_score\n",
    "\n",
    "scores = cross_val_score(logreg, features_array, target, cv=3)"
   ]
  },
  {
   "cell_type": "code",
   "execution_count": 55,
   "metadata": {
    "collapsed": false
   },
   "outputs": [
    {
     "data": {
      "text/plain": [
       "array([ 0.69268293,  0.64215686,  0.88235294])"
      ]
     },
     "execution_count": 55,
     "metadata": {},
     "output_type": "execute_result"
    }
   ],
   "source": [
    "scores"
   ]
  },
  {
   "cell_type": "code",
   "execution_count": 56,
   "metadata": {
    "collapsed": false
   },
   "outputs": [
    {
     "data": {
      "text/plain": [
       "(0.64215686274509809, 0.88235294117647056, 0.73906424358361233)"
      ]
     },
     "execution_count": 56,
     "metadata": {},
     "output_type": "execute_result"
    }
   ],
   "source": [
    "scores.min(), scores.max(), scores.mean()"
   ]
  },
  {
   "cell_type": "code",
   "execution_count": 57,
   "metadata": {
    "collapsed": false
   },
   "outputs": [
    {
     "data": {
      "text/plain": [
       "(0.40098881082487636, 0.47873347053674919, 0.55017386984600103)"
      ]
     },
     "execution_count": 57,
     "metadata": {},
     "output_type": "execute_result"
    }
   ],
   "source": [
    "scores = cross_val_score(logreg, features_array, target, cv=3,\n",
    "                         scoring='roc_auc')\n",
    "scores.min(), scores.mean(), scores.max()"
   ]
  },
  {
   "cell_type": "code",
   "execution_count": null,
   "metadata": {
    "collapsed": true
   },
   "outputs": [],
   "source": []
  }
 ],
 "metadata": {
  "kernelspec": {
   "display_name": "Python 3",
   "language": "python",
   "name": "python3"
  },
  "language_info": {
   "codemirror_mode": {
    "name": "ipython",
    "version": 3
   },
   "file_extension": ".py",
   "mimetype": "text/x-python",
   "name": "python",
   "nbconvert_exporter": "python",
   "pygments_lexer": "ipython3",
   "version": "3.4.3"
  }
 },
 "nbformat": 4,
 "nbformat_minor": 0
}
