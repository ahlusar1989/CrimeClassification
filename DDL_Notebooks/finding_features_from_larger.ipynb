{
 "cells": [
  {
   "cell_type": "code",
   "execution_count": 2,
   "metadata": {
    "collapsed": true
   },
   "outputs": [],
   "source": [
    "import pandas as pd\n",
    "import numpy as np"
   ]
  },
  {
   "cell_type": "code",
   "execution_count": 3,
   "metadata": {
    "collapsed": false
   },
   "outputs": [],
   "source": [
    "cleaned_features = pd.read_csv(\"larger_imputed_features.csv\", encoding='utf-8')"
   ]
  },
  {
   "cell_type": "code",
   "execution_count": 4,
   "metadata": {
    "collapsed": false
   },
   "outputs": [],
   "source": [
    "target = cleaned_features.GENTRIFIED.values"
   ]
  },
  {
   "cell_type": "code",
   "execution_count": 5,
   "metadata": {
    "collapsed": true
   },
   "outputs": [],
   "source": [
    "cleaned_features.drop('GENTRIFIED', axis=1, inplace=True)"
   ]
  },
  {
   "cell_type": "code",
   "execution_count": 6,
   "metadata": {
    "collapsed": false
   },
   "outputs": [],
   "source": [
    "novel_features = cleaned_features[['''ACS_09_S2101_HC03_EST_VC37_Nonveterans__Estimate__EDUCATIONAL_ATTAINMENT__Civilian_population_25_years_and_over__Bachelor's_degree_or_higher_100scale''',\n",
    "'ACS_09_B25018_HD01_VD01_Estimate__Median_number_of_rooms_100scale',\n",
    "'ACS_09_B25081_HD01_VD07_Estimate__Housing_units_with_a_mortgage,_contract_to_purchase,_or_similar_debt__No_second_mortgage_and_no_home_equity_loan_100scale',\n",
    "'ACS_09_S2201_HC02_EST_VC03_Households_receiving_food_stamps__Estimate__Households__With_children_under_18_years_100scale', \n",
    "'''ACS_09_S2101_HC01_EST_VC36_Total__Estimate__EDUCATIONAL_ATTAINMENT__Civilian_population_25_years_and_over__Some_college_or_associate's_degree_100scale''']]"
   ]
  },
  {
   "cell_type": "code",
   "execution_count": null,
   "metadata": {
    "collapsed": true
   },
   "outputs": [],
   "source": [
    "novel_features.to_csv('five_features.csv', encoding='utf-8', header=False)"
   ]
  },
  {
   "cell_type": "code",
   "execution_count": 7,
   "metadata": {
    "collapsed": false
   },
   "outputs": [
    {
     "data": {
      "text/plain": [
       "(3874, 5)"
      ]
     },
     "execution_count": 7,
     "metadata": {},
     "output_type": "execute_result"
    }
   ],
   "source": [
    "novel_features.shape"
   ]
  },
  {
   "cell_type": "code",
   "execution_count": 8,
   "metadata": {
    "collapsed": false
   },
   "outputs": [
    {
     "data": {
      "text/plain": [
       "Index(['ACS_09_S2101_HC03_EST_VC37_Nonveterans__Estimate__EDUCATIONAL_ATTAINMENT__Civilian_population_25_years_and_over__Bachelor's_degree_or_higher_100scale',\n",
       "       'ACS_09_B25018_HD01_VD01_Estimate__Median_number_of_rooms_100scale',\n",
       "       'ACS_09_B25081_HD01_VD07_Estimate__Housing_units_with_a_mortgage,_contract_to_purchase,_or_similar_debt__No_second_mortgage_and_no_home_equity_loan_100scale',\n",
       "       'ACS_09_S2201_HC02_EST_VC03_Households_receiving_food_stamps__Estimate__Households__With_children_under_18_years_100scale',\n",
       "       'ACS_09_S2101_HC01_EST_VC36_Total__Estimate__EDUCATIONAL_ATTAINMENT__Civilian_population_25_years_and_over__Some_college_or_associate's_degree_100scale'],\n",
       "      dtype='object')"
      ]
     },
     "execution_count": 8,
     "metadata": {},
     "output_type": "execute_result"
    }
   ],
   "source": [
    "novel_features.columns"
   ]
  },
  {
   "cell_type": "code",
   "execution_count": 9,
   "metadata": {
    "collapsed": false
   },
   "outputs": [
    {
     "data": {
      "text/plain": [
       "(3874,)"
      ]
     },
     "execution_count": 9,
     "metadata": {},
     "output_type": "execute_result"
    }
   ],
   "source": [
    "target.shape"
   ]
  },
  {
   "cell_type": "code",
   "execution_count": 10,
   "metadata": {
    "collapsed": false
   },
   "outputs": [],
   "source": [
    "features_array  = novel_features.values"
   ]
  },
  {
   "cell_type": "code",
   "execution_count": 11,
   "metadata": {
    "collapsed": true
   },
   "outputs": [],
   "source": [
    "clf = tree.DecisionTreeClassifier()\n",
    "clf = clf.fit(features_array, target)"
   ]
  },
  {
   "cell_type": "code",
   "execution_count": 13,
   "metadata": {
    "collapsed": false
   },
   "outputs": [],
   "source": [
    "import tempfile\n",
    "\n",
    "tree.export_graphviz(clf, out_file='tree.dot')     "
   ]
  },
  {
   "cell_type": "code",
   "execution_count": 18,
   "metadata": {
    "collapsed": true
   },
   "outputs": [],
   "source": [
    "import numpy as np\n",
    "\n",
    "from sklearn.tree import _tree\n",
    "\n",
    "\n",
    "def export_json(decision_tree, out_file=None, feature_names=None):\n",
    "    \"\"\"Export a decision tree in JSON format.\n",
    "\n",
    "    This function generates a JSON representation of the decision tree,\n",
    "    which is then written into `out_file`. Once exported, graphical renderings\n",
    "    can be generated using, for example::\n",
    "\n",
    "        $ dot -Tps tree.dot -o tree.ps      (PostScript format)\n",
    "        $ dot -Tpng tree.dot -o tree.png    (PNG format)\n",
    "\n",
    "    Parameters\n",
    "    ----------\n",
    "    decision_tree : decision tree classifier\n",
    "        The decision tree to be exported to JSON.\n",
    "\n",
    "    out : file object or string, optional (default=None)\n",
    "        Handle or name of the output file.\n",
    "\n",
    "    feature_names : list of strings, optional (default=None)\n",
    "        Names of each of the features.\n",
    "\n",
    "    Returns\n",
    "    -------\n",
    "    out_file : file object\n",
    "        The file object to which the tree was exported.  The user is\n",
    "        expected to `close()` this object when done with it.\n",
    "\n",
    "    Examples\n",
    "    --------\n",
    "    >>> from sklearn.datasets import load_iris\n",
    "    >>> from sklearn import tree\n",
    "\n",
    "    >>> clf = tree.DecisionTreeClassifier()\n",
    "    >>> iris = load_iris()\n",
    "\n",
    "    >>> clf = clf.fit(iris.data, iris.target)\n",
    "    >>> import tempfile\n",
    "    >>> out_file = tree.export_json(clf, out_file=tempfile.TemporaryFile())\n",
    "    >>> out_file.close()\n",
    "    \"\"\"\n",
    "    import numpy as np\n",
    "\n",
    "    from sklearn.tree import _tree\n",
    "\n",
    "    def arr_to_py(arr):\n",
    "        arr = arr.ravel()\n",
    "        wrapper = float\n",
    "        if np.issubdtype(arr.dtype, np.int):\n",
    "            wrapper = int\n",
    "        return map(wrapper, arr.tolist())\n",
    "\n",
    "\n",
    "    def node_to_str(tree, node_id):\n",
    "        node_repr = '\"error\": %.4f, \"samples\": %d, \"value\": %s' \\\n",
    "                    % (tree.init_error[node_id],\n",
    "                       tree.n_samples[node_id],\n",
    "                       arr_to_py(tree.value[node_id]))\n",
    "        if tree.children_left[node_id] != _tree.TREE_LEAF:\n",
    "            if feature_names is not None:\n",
    "                feature = feature_names[tree.feature[node_id]]\n",
    "            else:\n",
    "                feature = \"X[%s]\" % tree.feature[node_id]\n",
    "\n",
    "            label = '\"label\": \"%s <= %.2f\"' % (feature,\n",
    "                                               tree.threshold[node_id])\n",
    "            node_type = '\"type\": \"split\"'\n",
    "        else:\n",
    "            node_type = '\"type\": \"leaf\"'\n",
    "            label = '\"label\": \"Leaf - %d\"' % node_id\n",
    "        node_repr = \", \".join((node_repr, label, node_type))\n",
    "        return node_repr\n",
    "\n",
    "    def recurse(tree, node_id, parent=None):\n",
    "        if node_id == _tree.TREE_LEAF:\n",
    "            raise ValueError(\"Invalid node_id %s\" % _tree.TREE_LEAF)\n",
    "\n",
    "        left_child = tree.children_left[node_id]\n",
    "        right_child = tree.children_right[node_id]\n",
    "\n",
    "        # Open node with description\n",
    "        out_file.write('{%s' % node_to_str(tree, node_id))\n",
    "\n",
    "        # write children\n",
    "        if left_child != _tree.TREE_LEAF:  # and right_child != _tree.TREE_LEAF\n",
    "            out_file.write(', \"children\": [')\n",
    "            recurse(tree, left_child, node_id)\n",
    "            out_file.write(', ')\n",
    "            recurse(tree, right_child, node_id)\n",
    "            out_file.write(']')\n",
    "\n",
    "        # close node\n",
    "        out_file.write('}')\n",
    "\n",
    "    if out_file is None:\n",
    "        out_file = open(\"tree.json\", \"w\")\n",
    "    elif isinstance(out_file, basestring):\n",
    "        out_file = open(out_file, \"w\")\n",
    "\n",
    "    if isinstance(decision_tree, _tree.Tree):\n",
    "        recurse(decision_tree, 0)\n",
    "    else:\n",
    "        recurse(decision_tree.tree_, 0)\n",
    "\n",
    "    return out_file"
   ]
  },
  {
   "cell_type": "code",
   "execution_count": 32,
   "metadata": {
    "collapsed": true
   },
   "outputs": [],
   "source": [
    "from sklearn.datasets import load_iris\n",
    "from sklearn import tree\n",
    "\n",
    "clf = tree.DecisionTreeClassifier()\n",
    "\n",
    "clf = clf.fit(features_array, target)"
   ]
  },
  {
   "cell_type": "code",
   "execution_count": 42,
   "metadata": {
    "collapsed": false
   },
   "outputs": [
    {
     "data": {
      "text/plain": [
       "array([[ 1.,  0.],\n",
       "       [ 1.,  0.],\n",
       "       [ 1.,  0.],\n",
       "       [ 1.,  0.],\n",
       "       [ 1.,  0.],\n",
       "       [ 1.,  0.],\n",
       "       [ 0.,  1.],\n",
       "       [ 1.,  0.],\n",
       "       [ 1.,  0.],\n",
       "       [ 1.,  0.]])"
      ]
     },
     "execution_count": 42,
     "metadata": {},
     "output_type": "execute_result"
    }
   ],
   "source": [
    "clf.predict_proba(features_array[:10])"
   ]
  },
  {
   "cell_type": "code",
   "execution_count": 32,
   "metadata": {
    "collapsed": true
   },
   "outputs": [],
   "source": [
    "from sklearn.cross_validation import train_test_split\n",
    "\n",
    "features_train, features_test, target_train, target_test = train_test_split(\n",
    "    features_array, target, test_size=0.20, random_state=0)"
   ]
  },
  {
   "cell_type": "code",
   "execution_count": 33,
   "metadata": {
    "collapsed": false
   },
   "outputs": [
    {
     "data": {
      "text/plain": [
       "LogisticRegression(C=1, class_weight=None, dual=False, fit_intercept=True,\n",
       "          intercept_scaling=1, max_iter=100, multi_class='ovr',\n",
       "          penalty='l2', random_state=None, solver='liblinear', tol=0.0001,\n",
       "          verbose=0)"
      ]
     },
     "execution_count": 33,
     "metadata": {},
     "output_type": "execute_result"
    }
   ],
   "source": [
    "from sklearn.linear_model import LogisticRegression\n",
    "\n",
    "logreg = LogisticRegression(C=1)\n",
    "logreg.fit(features_train, target_train)"
   ]
  },
  {
   "cell_type": "code",
   "execution_count": 34,
   "metadata": {
    "collapsed": false
   },
   "outputs": [],
   "source": [
    "target_predicted = logreg.predict(features_test)"
   ]
  },
  {
   "cell_type": "code",
   "execution_count": 35,
   "metadata": {
    "collapsed": false
   },
   "outputs": [
    {
     "data": {
      "text/plain": [
       "0.88258064516129031"
      ]
     },
     "execution_count": 35,
     "metadata": {},
     "output_type": "execute_result"
    }
   ],
   "source": [
    "from sklearn.metrics import accuracy_score\n",
    "\n",
    "accuracy_score(target_test, target_predicted)"
   ]
  },
  {
   "cell_type": "code",
   "execution_count": 36,
   "metadata": {
    "collapsed": false
   },
   "outputs": [
    {
     "data": {
      "text/plain": [
       "0.88258064516129031"
      ]
     },
     "execution_count": 36,
     "metadata": {},
     "output_type": "execute_result"
    }
   ],
   "source": [
    "logreg.score(features_test, target_test)"
   ]
  },
  {
   "cell_type": "code",
   "execution_count": 40,
   "metadata": {
    "collapsed": false
   },
   "outputs": [
    {
     "data": {
      "text/plain": [
       "array([[ 0.02860722, -0.00864706, -0.02134449, -0.00069299, -0.00900869]])"
      ]
     },
     "execution_count": 40,
     "metadata": {},
     "output_type": "execute_result"
    }
   ],
   "source": [
    "logreg.coef_"
   ]
  },
  {
   "cell_type": "code",
   "execution_count": 41,
   "metadata": {
    "collapsed": false
   },
   "outputs": [
    {
     "name": "stdout",
     "output_type": "stream",
     "text": [
      "[[680   2]\n",
      " [ 89   4]]\n"
     ]
    }
   ],
   "source": [
    "from sklearn.metrics import confusion_matrix\n",
    "\n",
    "cm = confusion_matrix(target_test, target_predicted)\n",
    "print(cm)"
   ]
  },
  {
   "cell_type": "code",
   "execution_count": 42,
   "metadata": {
    "collapsed": false
   },
   "outputs": [
    {
     "data": {
      "image/png": "[encoded data removed]",
      "text/plain": [
       "<matplotlib.figure.Figure at 0x92bf400>"
      ]
     },
     "metadata": {},
     "output_type": "display_data"
    }
   ],
   "source": [
    "% matplotlib inline\n",
    "import matplotlib.pyplot as plt\n",
    "\n",
    "def plot_confusion(cm, target_names = ['Gentrified', 'Not Gentrified'],\n",
    "                   title='Confusion matrix'):\n",
    "    plt.imshow(cm, interpolation='nearest', cmap=plt.cm.Blues)\n",
    "    plt.title(title)\n",
    "    plt.colorbar()\n",
    "\n",
    "    tick_marks = np.arange(len(target_names))\n",
    "    plt.xticks(tick_marks, target_names, rotation=60)\n",
    "    plt.yticks(tick_marks, target_names)\n",
    "    plt.ylabel('True label')\n",
    "    plt.xlabel('Predicted label')\n",
    "    # Convenience function to adjust plot parameters for a clear layout.\n",
    "    plt.tight_layout()\n",
    "    \n",
    "plot_confusion(cm)"
   ]
  },
  {
   "cell_type": "code",
   "execution_count": 43,
   "metadata": {
    "collapsed": false
   },
   "outputs": [
    {
     "data": {
      "text/plain": [
       "array([682,  93])"
      ]
     },
     "execution_count": 43,
     "metadata": {},
     "output_type": "execute_result"
    }
   ],
   "source": [
    "cm.sum(axis=1)"
   ]
  },
  {
   "cell_type": "code",
   "execution_count": 44,
   "metadata": {
    "collapsed": false
   },
   "outputs": [
    {
     "name": "stdout",
     "output_type": "stream",
     "text": [
      "[[ 0.99706745  0.00293255]\n",
      " [ 0.95698925  0.04301075]]\n"
     ]
    }
   ],
   "source": [
    "cm_normalized = cm.astype(np.float64) / cm.sum(axis=1)[:, np.newaxis]\n",
    "print(cm_normalized)"
   ]
  },
  {
   "cell_type": "code",
   "execution_count": 45,
   "metadata": {
    "collapsed": false
   },
   "outputs": [
    {
     "data": {
      "image/png": "[encoded data removed]",
      "text/plain": [
       "<matplotlib.figure.Figure at 0x928f630>"
      ]
     },
     "metadata": {},
     "output_type": "display_data"
    }
   ],
   "source": [
    "plot_confusion(cm_normalized, title=\"Normalized confusion matrix\")"
   ]
  },
  {
   "cell_type": "code",
   "execution_count": 46,
   "metadata": {
    "collapsed": false
   },
   "outputs": [
    {
     "name": "stdout",
     "output_type": "stream",
     "text": [
      "                precision    recall  f1-score   support\n",
      "\n",
      "    Gentrified       0.88      1.00      0.94       682\n",
      "Not Gentrified       0.67      0.04      0.08        93\n",
      "\n",
      "   avg / total       0.86      0.88      0.83       775\n",
      "\n"
     ]
    }
   ],
   "source": [
    "from sklearn.metrics import classification_report\n",
    "\n",
    "print(classification_report(target_test, target_predicted,\n",
    "                            target_names=['Gentrified', 'Not Gentrified']))"
   ]
  },
  {
   "cell_type": "code",
   "execution_count": 47,
   "metadata": {
    "collapsed": true
   },
   "outputs": [],
   "source": [
    "from sklearn.metrics import roc_curve\n",
    "from sklearn.metrics import auc\n",
    "\n",
    "def plot_roc_curve(target_test, target_predicted_proba):\n",
    "    fpr, tpr, thresholds = roc_curve(target_test, target_predicted_proba[:, 1])\n",
    "    \n",
    "    roc_auc = auc(fpr, tpr)\n",
    "    # Plot ROC curve\n",
    "    plt.plot(fpr, tpr, label='ROC curve (area = %0.3f)' % roc_auc)\n",
    "    plt.plot([0, 1], [0, 1], 'k--')  # random predictions curve\n",
    "    plt.xlim([0.0, 1.0])\n",
    "    plt.ylim([0.0, 1.0])\n",
    "    plt.xlabel('False Positive Rate or (1 - Specifity)')\n",
    "    plt.ylabel('True Positive Rate or (Sensitivity)')\n",
    "    plt.title('Receiver Operating Characteristic')\n",
    "    plt.legend(loc=\"lower right\")"
   ]
  },
  {
   "cell_type": "code",
   "execution_count": 48,
   "metadata": {
    "collapsed": false
   },
   "outputs": [
    {
     "data": {
      "image/png": "[encoded data removed]",
      "text/plain": [
       "<matplotlib.figure.Figure at 0x9b09da0>"
      ]
     },
     "metadata": {},
     "output_type": "display_data"
    }
   ],
   "source": [
    "target_predicted_prob = logreg.predict_proba(features_test)\n",
    "plot_roc_curve(target_test,target_predicted_prob)"
   ]
  },
  {
   "cell_type": "code",
   "execution_count": 49,
   "metadata": {
    "collapsed": true
   },
   "outputs": [],
   "source": [
    "from sklearn.cross_validation import cross_val_score\n",
    "\n",
    "scores = cross_val_score(logreg, features_array, target, cv=3)"
   ]
  },
  {
   "cell_type": "code",
   "execution_count": 50,
   "metadata": {
    "collapsed": false
   },
   "outputs": [
    {
     "data": {
      "text/plain": [
       "array([ 0.88390093,  0.88226181,  0.88458559])"
      ]
     },
     "execution_count": 50,
     "metadata": {},
     "output_type": "execute_result"
    }
   ],
   "source": [
    "scores"
   ]
  },
  {
   "cell_type": "code",
   "execution_count": 51,
   "metadata": {
    "collapsed": false
   },
   "outputs": [
    {
     "data": {
      "text/plain": [
       "(0.88226181254841207, 0.8845855925639039, 0.88358277796829521)"
      ]
     },
     "execution_count": 51,
     "metadata": {},
     "output_type": "execute_result"
    }
   ],
   "source": [
    "scores.min(), scores.max(), scores.mean()"
   ]
  },
  {
   "cell_type": "code",
   "execution_count": 52,
   "metadata": {
    "collapsed": false
   },
   "outputs": [
    {
     "data": {
      "text/plain": [
       "(0.62430799609774446, 0.64628657054746819, 0.67355046486206938)"
      ]
     },
     "execution_count": 52,
     "metadata": {},
     "output_type": "execute_result"
    }
   ],
   "source": [
    "scores = cross_val_score(logreg, features_array, target, cv=3,\n",
    "                         scoring='roc_auc')\n",
    "scores.min(), scores.mean(), scores.max()"
   ]
  },
  {
   "cell_type": "code",
   "execution_count": 81,
   "metadata": {
    "collapsed": false
   },
   "outputs": [
    {
     "data": {
      "text/plain": [
       "<matplotlib.text.Text at 0x9aeda20>"
      ]
     },
     "execution_count": 81,
     "metadata": {},
     "output_type": "execute_result"
    },
    {
     "data": {
      "image/png": "[encoded data removed]",
      "text/plain": [
       "<matplotlib.figure.Figure at 0x9bbc390>"
      ]
     },
     "metadata": {},
     "output_type": "display_data"
    }
   ],
   "source": [
    "%matplotlib inline\n",
    "\n",
    "import matplotlib.pyplot as plt\n",
    "from sklearn.metrics import log_loss\n",
    "\n",
    "\n",
    "errors = []\n",
    "growing_rf = RandomForestClassifier(n_estimators=50, n_jobs=-1,  \n",
    "                                    warm_start=True, random_state=1000, min_samples_leaf=100)\n",
    "for i in range(40):\n",
    "    growing_rf.fit(features_train, target_train)\n",
    "    growing_rf.n_estimators += 10\n",
    "    errors.append(log_loss(target, growing_rf.predict_proba(features_array)))\n",
    "\n",
    "_ = plt.plot(errors, '-r')\n",
    "plt.xlabel('Number of Trees')\n",
    "plt.ylabel('Error')"
   ]
  },
  {
   "cell_type": "code",
   "execution_count": 69,
   "metadata": {
    "collapsed": false
   },
   "outputs": [
    {
     "name": "stdout",
     "output_type": "stream",
     "text": [
      "Wall time: 16.5 s\n"
     ]
    }
   ],
   "source": [
    "%%time\n",
    "from sklearn.ensemble import GradientBoostingClassifier\n",
    "from sklearn.grid_search import GridSearchCV\n",
    "\n",
    "gb = GradientBoostingClassifier(n_estimators=100, subsample=.8)\n",
    "\n",
    "params = {\n",
    "    'learning_rate': [0.05, 0.1, 0.5],\n",
    "    'max_features': [0.5, 1],\n",
    "    'max_depth': [3, 4, 5],\n",
    "}\n",
    "gs = GridSearchCV(gb, params, cv=5, scoring='roc_auc', n_jobs=4)\n",
    "gs.fit(features_array, target)"
   ]
  },
  {
   "cell_type": "code",
   "execution_count": 73,
   "metadata": {
    "collapsed": false
   },
   "outputs": [
    {
     "data": {
      "text/plain": [
       "[mean: 0.65702, std: 0.03771, params: {'max_depth': 4, 'max_features': 1, 'learning_rate': 0.05},\n",
       " mean: 0.65533, std: 0.03289, params: {'max_depth': 3, 'max_features': 1, 'learning_rate': 0.05},\n",
       " mean: 0.65362, std: 0.02368, params: {'max_depth': 3, 'max_features': 0.5, 'learning_rate': 0.05},\n",
       " mean: 0.65055, std: 0.02040, params: {'max_depth': 3, 'max_features': 0.5, 'learning_rate': 0.1},\n",
       " mean: 0.64993, std: 0.02936, params: {'max_depth': 3, 'max_features': 1, 'learning_rate': 0.1},\n",
       " mean: 0.64611, std: 0.01371, params: {'max_depth': 4, 'max_features': 0.5, 'learning_rate': 0.05},\n",
       " mean: 0.63950, std: 0.03087, params: {'max_depth': 5, 'max_features': 0.5, 'learning_rate': 0.05},\n",
       " mean: 0.63296, std: 0.03521, params: {'max_depth': 4, 'max_features': 1, 'learning_rate': 0.1},\n",
       " mean: 0.63226, std: 0.03128, params: {'max_depth': 5, 'max_features': 1, 'learning_rate': 0.05},\n",
       " mean: 0.62628, std: 0.02130, params: {'max_depth': 4, 'max_features': 0.5, 'learning_rate': 0.1},\n",
       " mean: 0.61949, std: 0.02983, params: {'max_depth': 5, 'max_features': 1, 'learning_rate': 0.1},\n",
       " mean: 0.61487, std: 0.03051, params: {'max_depth': 5, 'max_features': 0.5, 'learning_rate': 0.1},\n",
       " mean: 0.60690, std: 0.03922, params: {'max_depth': 3, 'max_features': 0.5, 'learning_rate': 0.5},\n",
       " mean: 0.59218, std: 0.02589, params: {'max_depth': 3, 'max_features': 1, 'learning_rate': 0.5},\n",
       " mean: 0.57856, std: 0.02873, params: {'max_depth': 5, 'max_features': 1, 'learning_rate': 0.5},\n",
       " mean: 0.57070, std: 0.00871, params: {'max_depth': 5, 'max_features': 0.5, 'learning_rate': 0.5},\n",
       " mean: 0.56134, std: 0.01892, params: {'max_depth': 4, 'max_features': 0.5, 'learning_rate': 0.5},\n",
       " mean: 0.55691, std: 0.01644, params: {'max_depth': 4, 'max_features': 1, 'learning_rate': 0.5}]"
      ]
     },
     "execution_count": 73,
     "metadata": {},
     "output_type": "execute_result"
    }
   ],
   "source": [
    "sorted(gs.grid_scores_, key = lambda x: x.mean_validation_score, reverse=True)"
   ]
  },
  {
   "cell_type": "code",
   "execution_count": 82,
   "metadata": {
    "collapsed": false
   },
   "outputs": [
    {
     "data": {
      "image/png": "[encoded data removed]",
      "text/plain": [
       "<matplotlib.figure.Figure at 0xd0f70f0>"
      ]
     },
     "metadata": {},
     "output_type": "display_data"
    }
   ],
   "source": [
    "import matplotlib.pyplot as plt\n",
    "import numpy as np\n",
    "from sklearn.svm import SVC\n",
    "from sklearn.learning_curve import validation_curve\n",
    "\n",
    "X, y = features_array, target\n",
    "\n",
    "param_range = np.logspace(-6, -1, 5)\n",
    "train_scores, test_scores = validation_curve(\n",
    "    SVC(), X, y, param_name=\"gamma\", param_range=param_range,\n",
    "    cv=10, scoring=\"accuracy\", n_jobs=1)\n",
    "\n",
    "train_scores_mean = np.mean(train_scores, axis=1)\n",
    "train_scores_std = np.std(train_scores, axis=1)\n",
    "test_scores_mean = np.mean(test_scores, axis=1)\n",
    "test_scores_std = np.std(test_scores, axis=1)\n",
    "\n",
    "plt.title(\"Validation Curve with SVM\")\n",
    "plt.xlabel(\"$\\gamma$\")\n",
    "plt.ylabel(\"Score\")\n",
    "plt.ylim(0.0, 1.1)\n",
    "plt.semilogx(param_range, train_scores_mean, label=\"Training score\", color=\"r\")\n",
    "plt.fill_between(param_range, train_scores_mean - train_scores_std,\n",
    "                 train_scores_mean + train_scores_std, alpha=0.2, color=\"r\")\n",
    "plt.semilogx(param_range, test_scores_mean, label=\"Cross-validation score\",\n",
    "             color=\"g\")\n",
    "plt.fill_between(param_range, test_scores_mean - test_scores_std,\n",
    "                 test_scores_mean + test_scores_std, alpha=0.2, color=\"g\")\n",
    "plt.legend(loc=\"best\")\n",
    "plt.show()"
   ]
  },
  {
   "cell_type": "code",
   "execution_count": 102,
   "metadata": {
    "collapsed": false
   },
   "outputs": [
    {
     "data": {
      "text/plain": [
       "RandomForestRegressor(bootstrap=True, criterion='mse', max_depth=None,\n",
       "           max_features='auto', max_leaf_nodes=None, min_samples_leaf=1,\n",
       "           min_samples_split=2, min_weight_fraction_leaf=0.0,\n",
       "           n_estimators=10, n_jobs=1, oob_score=False, random_state=None,\n",
       "           verbose=0, warm_start=False)"
      ]
     },
     "execution_count": 102,
     "metadata": {},
     "output_type": "execute_result"
    }
   ],
   "source": [
    "from treeinterpreter import treeinterpreter as ti\n",
    "from sklearn.tree import DecisionTreeRegressor\n",
    "from sklearn.ensemble import RandomForestRegressor\n",
    "import numpy as np\n",
    "\n",
    "rf = RandomForestRegressor()\n",
    "rf.fit(features_array[:300], target[:300])"
   ]
  },
  {
   "cell_type": "code",
   "execution_count": 89,
   "metadata": {
    "collapsed": false
   },
   "outputs": [
    {
     "name": "stdout",
     "output_type": "stream",
     "text": [
      "Instance 0 prediction: [ 0.]\n",
      "Instance 1 prediction: [ 0.]\n"
     ]
    }
   ],
   "source": [
    "instances = features_array[[300, 309]]\n",
    "print(\"Instance 0 prediction:\", rf.predict(instances[0]))\n",
    "print(\"Instance 1 prediction:\", rf.predict(instances[1]))"
   ]
  }
 ],
 "metadata": {
  "kernelspec": {
   "display_name": "Python 3",
   "language": "python",
   "name": "python3"
  },
  "language_info": {
   "codemirror_mode": {
    "name": "ipython",
    "version": 3
   },
   "file_extension": ".py",
   "mimetype": "text/x-python",
   "name": "python",
   "nbconvert_exporter": "python",
   "pygments_lexer": "ipython3",
   "version": "3.4.3"
  }
 },
 "nbformat": 4,
 "nbformat_minor": 0
}
