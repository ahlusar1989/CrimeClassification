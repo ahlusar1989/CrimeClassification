{
 "cells": [
  {
   "cell_type": "code",
   "execution_count": 1,
   "metadata": {
    "collapsed": true
   },
   "outputs": [],
   "source": [
    "import pandas as pd\n",
    "import numpy as np"
   ]
  },
  {
   "cell_type": "code",
   "execution_count": 2,
   "metadata": {
    "collapsed": true
   },
   "outputs": [],
   "source": [
    "gentrification = pd.read_csv('2009_ACS_normalized_data.csv', encoding='utf-8')"
   ]
  },
  {
   "cell_type": "code",
   "execution_count": 3,
   "metadata": {
    "collapsed": false
   },
   "outputs": [
    {
     "data": {
      "text/plain": [
       "494"
      ]
     },
     "execution_count": 3,
     "metadata": {},
     "output_type": "execute_result"
    }
   ],
   "source": [
    "gentrification.columns.size"
   ]
  },
  {
   "cell_type": "code",
   "execution_count": 4,
   "metadata": {
    "collapsed": false
   },
   "outputs": [
    {
     "data": {
      "text/plain": [
       "(613, 494)"
      ]
     },
     "execution_count": 4,
     "metadata": {},
     "output_type": "execute_result"
    }
   ],
   "source": [
    "gentrification.shape"
   ]
  },
  {
   "cell_type": "code",
   "execution_count": 124,
   "metadata": {
    "collapsed": false
   },
   "outputs": [
    {
     "data": {
      "text/plain": [
       "['Geography',\n",
       " 'GENTRIFIED',\n",
       " 'ACS_09_B08303_HD01_VD01_Estimate; Total:_100scale',\n",
       " 'ACS_09_B08303_HD01_VD02_Estimate; Less than 5 minutes_100scale',\n",
       " 'ACS_09_B08303_HD01_VD03_Estimate; 5 to 9 minutes_100scale',\n",
       " 'ACS_09_B08303_HD01_VD04_Estimate; 10 to 14 minutes_100scale',\n",
       " 'ACS_09_B08303_HD01_VD05_Estimate; 15 to 19 minutes_100scale',\n",
       " 'ACS_09_B08303_HD01_VD06_Estimate; 20 to 24 minutes_100scale',\n",
       " 'ACS_09_B08303_HD01_VD07_Estimate; 25 to 29 minutes_100scale',\n",
       " 'ACS_09_B08303_HD01_VD08_Estimate; 30 to 34 minutes_100scale',\n",
       " 'ACS_09_B08303_HD01_VD09_Estimate; 35 to 39 minutes_100scale',\n",
       " 'ACS_09_B08303_HD01_VD10_Estimate; 40 to 44 minutes_100scale',\n",
       " 'ACS_09_B08303_HD01_VD11_Estimate; 45 to 59 minutes_100scale',\n",
       " 'ACS_09_B08303_HD01_VD12_Estimate; 60 to 89 minutes_100scale',\n",
       " 'ACS_09_B08303_HD01_VD13_Estimate; 90 or more minutes_100scale',\n",
       " 'ACS_09_B12002_HD01_VD01_Estimate; Total:_100scale',\n",
       " 'ACS_09_B12002_HD01_VD02_Estimate; Male:_100scale',\n",
       " 'ACS_09_B12002_HD01_VD03_Estimate; Male: - Never married:_100scale',\n",
       " 'ACS_09_B12002_HD01_VD04_Estimate; Male: - Never married: - 15 to 17 years_100scale',\n",
       " 'ACS_09_B12002_HD01_VD05_Estimate; Male: - Never married: - 18 and 19 years_100scale',\n",
       " 'ACS_09_B12002_HD01_VD06_Estimate; Male: - Never married: - 20 to 24 years_100scale',\n",
       " 'ACS_09_B12002_HD01_VD07_Estimate; Male: - Never married: - 25 to 29 years_100scale',\n",
       " 'ACS_09_B12002_HD01_VD08_Estimate; Male: - Never married: - 30 to 34 years_100scale',\n",
       " 'ACS_09_B12002_HD01_VD09_Estimate; Male: - Never married: - 35 to 39 years_100scale',\n",
       " 'ACS_09_B12002_HD01_VD10_Estimate; Male: - Never married: - 40 to 44 years_100scale',\n",
       " 'ACS_09_B12002_HD01_VD11_Estimate; Male: - Never married: - 45 to 49 years_100scale',\n",
       " 'ACS_09_B12002_HD01_VD12_Estimate; Male: - Never married: - 50 to 54 years_100scale',\n",
       " 'ACS_09_B12002_HD01_VD13_Estimate; Male: - Never married: - 55 to 59 years_100scale',\n",
       " 'ACS_09_B12002_HD01_VD14_Estimate; Male: - Never married: - 60 to 64 years_100scale',\n",
       " 'ACS_09_B12002_HD01_VD15_Estimate; Male: - Never married: - 65 to 74 years_100scale',\n",
       " 'ACS_09_B12002_HD01_VD16_Estimate; Male: - Never married: - 75 to 84 years_100scale',\n",
       " 'ACS_09_B12002_HD01_VD17_Estimate; Male: - Never married: - 85 years and over_100scale',\n",
       " 'ACS_09_B12002_HD01_VD18_Estimate; Male: - Now married:_100scale',\n",
       " 'ACS_09_B12002_HD01_VD19_Estimate; Male: - Now married: - Married, spouse present:_100scale',\n",
       " 'ACS_09_B12002_HD01_VD20_Estimate; Male: - Now married: - Married, spouse present: - 15 to 17 years_100scale',\n",
       " 'ACS_09_B12002_HD01_VD21_Estimate; Male: - Now married: - Married, spouse present: - 18 and 19 years_100scale',\n",
       " 'ACS_09_B12002_HD01_VD22_Estimate; Male: - Now married: - Married, spouse present: - 20 to 24 years_100scale',\n",
       " 'ACS_09_B12002_HD01_VD23_Estimate; Male: - Now married: - Married, spouse present: - 25 to 29 years_100scale',\n",
       " 'ACS_09_B12002_HD01_VD24_Estimate; Male: - Now married: - Married, spouse present: - 30 to 34 years_100scale',\n",
       " 'ACS_09_B12002_HD01_VD25_Estimate; Male: - Now married: - Married, spouse present: - 35 to 39 years_100scale',\n",
       " 'ACS_09_B12002_HD01_VD26_Estimate; Male: - Now married: - Married, spouse present: - 40 to 44 years_100scale',\n",
       " 'ACS_09_B12002_HD01_VD27_Estimate; Male: - Now married: - Married, spouse present: - 45 to 49 years_100scale',\n",
       " 'ACS_09_B12002_HD01_VD28_Estimate; Male: - Now married: - Married, spouse present: - 50 to 54 years_100scale',\n",
       " 'ACS_09_B12002_HD01_VD29_Estimate; Male: - Now married: - Married, spouse present: - 55 to 59 years_100scale',\n",
       " 'ACS_09_B12002_HD01_VD30_Estimate; Male: - Now married: - Married, spouse present: - 60 to 64 years_100scale',\n",
       " 'ACS_09_B12002_HD01_VD31_Estimate; Male: - Now married: - Married, spouse present: - 65 to 74 years_100scale',\n",
       " 'ACS_09_B12002_HD01_VD32_Estimate; Male: - Now married: - Married, spouse present: - 75 to 84 years_100scale',\n",
       " 'ACS_09_B12002_HD01_VD33_Estimate; Male: - Now married: - Married, spouse present: - 85 years and over_100scale',\n",
       " 'ACS_09_B12002_HD01_VD34_Estimate; Male: - Now married: - Married, spouse absent:_100scale',\n",
       " 'ACS_09_B12002_HD01_VD35_Estimate; Male: - Now married: - Married, spouse absent: - Separated:_100scale',\n",
       " 'ACS_09_B12002_HD01_VD36_Estimate; Male: - Now married: - Married, spouse absent: - Separated: - 15 to 17 years_100scale',\n",
       " 'ACS_09_B12002_HD01_VD37_Estimate; Male: - Now married: - Married, spouse absent: - Separated: - 18 and 19 years_100scale',\n",
       " 'ACS_09_B12002_HD01_VD38_Estimate; Male: - Now married: - Married, spouse absent: - Separated: - 20 to 24 years_100scale',\n",
       " 'ACS_09_B12002_HD01_VD39_Estimate; Male: - Now married: - Married, spouse absent: - Separated: - 25 to 29 years_100scale',\n",
       " 'ACS_09_B12002_HD01_VD40_Estimate; Male: - Now married: - Married, spouse absent: - Separated: - 30 to 34 years_100scale',\n",
       " 'ACS_09_B12002_HD01_VD41_Estimate; Male: - Now married: - Married, spouse absent: - Separated: - 35 to 39 years_100scale',\n",
       " 'ACS_09_B12002_HD01_VD42_Estimate; Male: - Now married: - Married, spouse absent: - Separated: - 40 to 44 years_100scale',\n",
       " 'ACS_09_B12002_HD01_VD43_Estimate; Male: - Now married: - Married, spouse absent: - Separated: - 45 to 49 years_100scale',\n",
       " 'ACS_09_B12002_HD01_VD44_Estimate; Male: - Now married: - Married, spouse absent: - Separated: - 50 to 54 years_100scale',\n",
       " 'ACS_09_B12002_HD01_VD45_Estimate; Male: - Now married: - Married, spouse absent: - Separated: - 55 to 59 years_100scale',\n",
       " 'ACS_09_B12002_HD01_VD46_Estimate; Male: - Now married: - Married, spouse absent: - Separated: - 60 to 64 years_100scale',\n",
       " 'ACS_09_B12002_HD01_VD47_Estimate; Male: - Now married: - Married, spouse absent: - Separated: - 65 to 74 years_100scale',\n",
       " 'ACS_09_B12002_HD01_VD48_Estimate; Male: - Now married: - Married, spouse absent: - Separated: - 75 to 84 years_100scale',\n",
       " 'ACS_09_B12002_HD01_VD49_Estimate; Male: - Now married: - Married, spouse absent: - Separated: - 85 years and over_100scale',\n",
       " 'ACS_09_B12002_HD01_VD50_Estimate; Male: - Now married: - Married, spouse absent: - Other:_100scale',\n",
       " 'ACS_09_B12002_HD01_VD51_Estimate; Male: - Now married: - Married, spouse absent: - Other: - 15 to 17 years_100scale',\n",
       " 'ACS_09_B12002_HD01_VD52_Estimate; Male: - Now married: - Married, spouse absent: - Other: - 18 and 19 years_100scale',\n",
       " 'ACS_09_B12002_HD01_VD53_Estimate; Male: - Now married: - Married, spouse absent: - Other: - 20 to 24 years_100scale',\n",
       " 'ACS_09_B12002_HD01_VD54_Estimate; Male: - Now married: - Married, spouse absent: - Other: - 25 to 29 years_100scale',\n",
       " 'ACS_09_B12002_HD01_VD55_Estimate; Male: - Now married: - Married, spouse absent: - Other: - 30 to 34 years_100scale',\n",
       " 'ACS_09_B12002_HD01_VD56_Estimate; Male: - Now married: - Married, spouse absent: - Other: - 35 to 39 years_100scale',\n",
       " 'ACS_09_B12002_HD01_VD57_Estimate; Male: - Now married: - Married, spouse absent: - Other: - 40 to 44 years_100scale',\n",
       " 'ACS_09_B12002_HD01_VD58_Estimate; Male: - Now married: - Married, spouse absent: - Other: - 45 to 49 years_100scale',\n",
       " 'ACS_09_B12002_HD01_VD59_Estimate; Male: - Now married: - Married, spouse absent: - Other: - 50 to 54 years_100scale',\n",
       " 'ACS_09_B12002_HD01_VD60_Estimate; Male: - Now married: - Married, spouse absent: - Other: - 55 to 59 years_100scale',\n",
       " 'ACS_09_B12002_HD01_VD61_Estimate; Male: - Now married: - Married, spouse absent: - Other: - 60 to 64 years_100scale',\n",
       " 'ACS_09_B12002_HD01_VD62_Estimate; Male: - Now married: - Married, spouse absent: - Other: - 65 to 74 years_100scale',\n",
       " 'ACS_09_B12002_HD01_VD63_Estimate; Male: - Now married: - Married, spouse absent: - Other: - 75 to 84 years_100scale',\n",
       " 'ACS_09_B12002_HD01_VD64_Estimate; Male: - Now married: - Married, spouse absent: - Other: - 85 years and over_100scale',\n",
       " 'ACS_09_B12002_HD01_VD65_Estimate; Male: - Widowed:_100scale',\n",
       " 'ACS_09_B12002_HD01_VD66_Estimate; Male: - Widowed: - 15 to 17 years_100scale',\n",
       " 'ACS_09_B12002_HD01_VD67_Estimate; Male: - Widowed: - 18 and 19 years_100scale',\n",
       " 'ACS_09_B12002_HD01_VD68_Estimate; Male: - Widowed: - 20 to 24 years_100scale',\n",
       " 'ACS_09_B12002_HD01_VD69_Estimate; Male: - Widowed: - 25 to 29 years_100scale',\n",
       " 'ACS_09_B12002_HD01_VD70_Estimate; Male: - Widowed: - 30 to 34 years_100scale',\n",
       " 'ACS_09_B12002_HD01_VD71_Estimate; Male: - Widowed: - 35 to 39 years_100scale',\n",
       " 'ACS_09_B12002_HD01_VD72_Estimate; Male: - Widowed: - 40 to 44 years_100scale',\n",
       " 'ACS_09_B12002_HD01_VD73_Estimate; Male: - Widowed: - 45 to 49 years_100scale',\n",
       " 'ACS_09_B12002_HD01_VD74_Estimate; Male: - Widowed: - 50 to 54 years_100scale',\n",
       " 'ACS_09_B12002_HD01_VD75_Estimate; Male: - Widowed: - 55 to 59 years_100scale',\n",
       " 'ACS_09_B12002_HD01_VD76_Estimate; Male: - Widowed: - 60 to 64 years_100scale',\n",
       " 'ACS_09_B12002_HD01_VD77_Estimate; Male: - Widowed: - 65 to 74 years_100scale',\n",
       " 'ACS_09_B12002_HD01_VD78_Estimate; Male: - Widowed: - 75 to 84 years_100scale',\n",
       " 'ACS_09_B12002_HD01_VD79_Estimate; Male: - Widowed: - 85 years and over_100scale',\n",
       " 'ACS_09_B12002_HD01_VD80_Estimate; Male: - Divorced:_100scale',\n",
       " 'ACS_09_B12002_HD01_VD81_Estimate; Male: - Divorced: - 15 to 17 years_100scale',\n",
       " 'ACS_09_B12002_HD01_VD82_Estimate; Male: - Divorced: - 18 and 19 years_100scale',\n",
       " 'ACS_09_B12002_HD01_VD83_Estimate; Male: - Divorced: - 20 to 24 years_100scale',\n",
       " 'ACS_09_B12002_HD01_VD84_Estimate; Male: - Divorced: - 25 to 29 years_100scale',\n",
       " 'ACS_09_B12002_HD01_VD85_Estimate; Male: - Divorced: - 30 to 34 years_100scale',\n",
       " 'ACS_09_B12002_HD01_VD86_Estimate; Male: - Divorced: - 35 to 39 years_100scale',\n",
       " 'ACS_09_B12002_HD01_VD87_Estimate; Male: - Divorced: - 40 to 44 years_100scale',\n",
       " 'ACS_09_B12002_HD01_VD88_Estimate; Male: - Divorced: - 45 to 49 years_100scale',\n",
       " 'ACS_09_B12002_HD01_VD89_Estimate; Male: - Divorced: - 50 to 54 years_100scale',\n",
       " 'ACS_09_B12002_HD01_VD90_Estimate; Male: - Divorced: - 55 to 59 years_100scale',\n",
       " 'ACS_09_B12002_HD01_VD91_Estimate; Male: - Divorced: - 60 to 64 years_100scale',\n",
       " 'ACS_09_B12002_HD01_VD92_Estimate; Male: - Divorced: - 65 to 74 years_100scale',\n",
       " 'ACS_09_B12002_HD01_VD93_Estimate; Male: - Divorced: - 75 to 84 years_100scale',\n",
       " 'ACS_09_B12002_HD01_VD94_Estimate; Male: - Divorced: - 85 years and over_100scale',\n",
       " 'ACS_09_B12002_HD01_VD95_Estimate; Female:_100scale',\n",
       " 'ACS_09_B12002_HD01_VD96_Estimate; Female: - Never married:_100scale',\n",
       " 'ACS_09_B12002_HD01_VD97_Estimate; Female: - Never married: - 15 to 17 years_100scale',\n",
       " 'ACS_09_B12002_HD01_VD98_Estimate; Female: - Never married: - 18 and 19 years_100scale',\n",
       " 'ACS_09_B12002_HD01_VD99_Estimate; Female: - Never married: - 20 to 24 years_100scale',\n",
       " 'ACS_09_B12002_HD01_VD100_Estimate; Female: - Never married: - 25 to 29 years_100scale',\n",
       " 'ACS_09_B12002_HD01_VD101_Estimate; Female: - Never married: - 30 to 34 years_100scale',\n",
       " 'ACS_09_B12002_HD01_VD102_Estimate; Female: - Never married: - 35 to 39 years_100scale',\n",
       " 'ACS_09_B12002_HD01_VD103_Estimate; Female: - Never married: - 40 to 44 years_100scale',\n",
       " 'ACS_09_B12002_HD01_VD104_Estimate; Female: - Never married: - 45 to 49 years_100scale',\n",
       " 'ACS_09_B12002_HD01_VD105_Estimate; Female: - Never married: - 50 to 54 years_100scale',\n",
       " 'ACS_09_B12002_HD01_VD106_Estimate; Female: - Never married: - 55 to 59 years_100scale',\n",
       " 'ACS_09_B12002_HD01_VD107_Estimate; Female: - Never married: - 60 to 64 years_100scale',\n",
       " 'ACS_09_B12002_HD01_VD108_Estimate; Female: - Never married: - 65 to 74 years_100scale',\n",
       " 'ACS_09_B12002_HD01_VD109_Estimate; Female: - Never married: - 75 to 84 years_100scale',\n",
       " 'ACS_09_B12002_HD01_VD110_Estimate; Female: - Never married: - 85 years and over_100scale',\n",
       " 'ACS_09_B12002_HD01_VD111_Estimate; Female: - Now married:_100scale',\n",
       " 'ACS_09_B12002_HD01_VD112_Estimate; Female: - Now married: - Married, spouse present:_100scale',\n",
       " 'ACS_09_B12002_HD01_VD113_Estimate; Female: - Now married: - Married, spouse present: - 15 to 17 years_100scale',\n",
       " 'ACS_09_B12002_HD01_VD114_Estimate; Female: - Now married: - Married, spouse present: - 18 and 19 years_100scale',\n",
       " 'ACS_09_B12002_HD01_VD115_Estimate; Female: - Now married: - Married, spouse present: - 20 to 24 years_100scale',\n",
       " 'ACS_09_B12002_HD01_VD116_Estimate; Female: - Now married: - Married, spouse present: - 25 to 29 years_100scale',\n",
       " 'ACS_09_B12002_HD01_VD117_Estimate; Female: - Now married: - Married, spouse present: - 30 to 34 years_100scale',\n",
       " 'ACS_09_B12002_HD01_VD118_Estimate; Female: - Now married: - Married, spouse present: - 35 to 39 years_100scale',\n",
       " 'ACS_09_B12002_HD01_VD119_Estimate; Female: - Now married: - Married, spouse present: - 40 to 44 years_100scale',\n",
       " 'ACS_09_B12002_HD01_VD120_Estimate; Female: - Now married: - Married, spouse present: - 45 to 49 years_100scale',\n",
       " 'ACS_09_B12002_HD01_VD121_Estimate; Female: - Now married: - Married, spouse present: - 50 to 54 years_100scale',\n",
       " 'ACS_09_B12002_HD01_VD122_Estimate; Female: - Now married: - Married, spouse present: - 55 to 59 years_100scale',\n",
       " 'ACS_09_B12002_HD01_VD123_Estimate; Female: - Now married: - Married, spouse present: - 60 to 64 years_100scale',\n",
       " 'ACS_09_B12002_HD01_VD124_Estimate; Female: - Now married: - Married, spouse present: - 65 to 74 years_100scale',\n",
       " 'ACS_09_B12002_HD01_VD125_Estimate; Female: - Now married: - Married, spouse present: - 75 to 84 years_100scale',\n",
       " 'ACS_09_B12002_HD01_VD126_Estimate; Female: - Now married: - Married, spouse present: - 85 years and over_100scale',\n",
       " 'ACS_09_B12002_HD01_VD127_Estimate; Female: - Now married: - Married, spouse absent:_100scale',\n",
       " 'ACS_09_B12002_HD01_VD128_Estimate; Female: - Now married: - Married, spouse absent: - Separated:_100scale',\n",
       " 'ACS_09_B12002_HD01_VD129_Estimate; Female: - Now married: - Married, spouse absent: - Separated: - 15 to 17 years_100scale',\n",
       " 'ACS_09_B12002_HD01_VD130_Estimate; Female: - Now married: - Married, spouse absent: - Separated: - 18 and 19 years_100scale',\n",
       " 'ACS_09_B12002_HD01_VD131_Estimate; Female: - Now married: - Married, spouse absent: - Separated: - 20 to 24 years_100scale',\n",
       " 'ACS_09_B12002_HD01_VD132_Estimate; Female: - Now married: - Married, spouse absent: - Separated: - 25 to 29 years_100scale',\n",
       " 'ACS_09_B12002_HD01_VD133_Estimate; Female: - Now married: - Married, spouse absent: - Separated: - 30 to 34 years_100scale',\n",
       " 'ACS_09_B12002_HD01_VD134_Estimate; Female: - Now married: - Married, spouse absent: - Separated: - 35 to 39 years_100scale',\n",
       " 'ACS_09_B12002_HD01_VD135_Estimate; Female: - Now married: - Married, spouse absent: - Separated: - 40 to 44 years_100scale',\n",
       " 'ACS_09_B12002_HD01_VD136_Estimate; Female: - Now married: - Married, spouse absent: - Separated: - 45 to 49 years_100scale',\n",
       " 'ACS_09_B12002_HD01_VD137_Estimate; Female: - Now married: - Married, spouse absent: - Separated: - 50 to 54 years_100scale',\n",
       " 'ACS_09_B12002_HD01_VD138_Estimate; Female: - Now married: - Married, spouse absent: - Separated: - 55 to 59 years_100scale',\n",
       " 'ACS_09_B12002_HD01_VD139_Estimate; Female: - Now married: - Married, spouse absent: - Separated: - 60 to 64 years_100scale',\n",
       " 'ACS_09_B12002_HD01_VD140_Estimate; Female: - Now married: - Married, spouse absent: - Separated: - 65 to 74 years_100scale',\n",
       " 'ACS_09_B12002_HD01_VD141_Estimate; Female: - Now married: - Married, spouse absent: - Separated: - 75 to 84 years_100scale',\n",
       " 'ACS_09_B12002_HD01_VD142_Estimate; Female: - Now married: - Married, spouse absent: - Separated: - 85 years and over_100scale',\n",
       " 'ACS_09_B12002_HD01_VD143_Estimate; Female: - Now married: - Married, spouse absent: - Other:_100scale',\n",
       " 'ACS_09_B12002_HD01_VD144_Estimate; Female: - Now married: - Married, spouse absent: - Other: - 15 to 17 years_100scale',\n",
       " 'ACS_09_B12002_HD01_VD145_Estimate; Female: - Now married: - Married, spouse absent: - Other: - 18 and 19 years_100scale',\n",
       " 'ACS_09_B12002_HD01_VD146_Estimate; Female: - Now married: - Married, spouse absent: - Other: - 20 to 24 years_100scale',\n",
       " 'ACS_09_B12002_HD01_VD147_Estimate; Female: - Now married: - Married, spouse absent: - Other: - 25 to 29 years_100scale',\n",
       " 'ACS_09_B12002_HD01_VD148_Estimate; Female: - Now married: - Married, spouse absent: - Other: - 30 to 34 years_100scale',\n",
       " 'ACS_09_B12002_HD01_VD149_Estimate; Female: - Now married: - Married, spouse absent: - Other: - 35 to 39 years_100scale',\n",
       " 'ACS_09_B12002_HD01_VD150_Estimate; Female: - Now married: - Married, spouse absent: - Other: - 40 to 44 years_100scale',\n",
       " 'ACS_09_B12002_HD01_VD151_Estimate; Female: - Now married: - Married, spouse absent: - Other: - 45 to 49 years_100scale',\n",
       " 'ACS_09_B12002_HD01_VD152_Estimate; Female: - Now married: - Married, spouse absent: - Other: - 50 to 54 years_100scale',\n",
       " 'ACS_09_B12002_HD01_VD153_Estimate; Female: - Now married: - Married, spouse absent: - Other: - 55 to 59 years_100scale',\n",
       " 'ACS_09_B12002_HD01_VD154_Estimate; Female: - Now married: - Married, spouse absent: - Other: - 60 to 64 years_100scale',\n",
       " 'ACS_09_B12002_HD01_VD155_Estimate; Female: - Now married: - Married, spouse absent: - Other: - 65 to 74 years_100scale',\n",
       " 'ACS_09_B12002_HD01_VD156_Estimate; Female: - Now married: - Married, spouse absent: - Other: - 75 to 84 years_100scale',\n",
       " 'ACS_09_B12002_HD01_VD157_Estimate; Female: - Now married: - Married, spouse absent: - Other: - 85 years and over_100scale',\n",
       " 'ACS_09_B12002_HD01_VD158_Estimate; Female: - Widowed:_100scale',\n",
       " 'ACS_09_B12002_HD01_VD159_Estimate; Female: - Widowed: - 15 to 17 years_100scale',\n",
       " 'ACS_09_B12002_HD01_VD160_Estimate; Female: - Widowed: - 18 and 19 years_100scale',\n",
       " 'ACS_09_B12002_HD01_VD161_Estimate; Female: - Widowed: - 20 to 24 years_100scale',\n",
       " 'ACS_09_B12002_HD01_VD162_Estimate; Female: - Widowed: - 25 to 29 years_100scale',\n",
       " 'ACS_09_B12002_HD01_VD163_Estimate; Female: - Widowed: - 30 to 34 years_100scale',\n",
       " 'ACS_09_B12002_HD01_VD164_Estimate; Female: - Widowed: - 35 to 39 years_100scale',\n",
       " 'ACS_09_B12002_HD01_VD165_Estimate; Female: - Widowed: - 40 to 44 years_100scale',\n",
       " 'ACS_09_B12002_HD01_VD166_Estimate; Female: - Widowed: - 45 to 49 years_100scale',\n",
       " 'ACS_09_B12002_HD01_VD167_Estimate; Female: - Widowed: - 50 to 54 years_100scale',\n",
       " 'ACS_09_B12002_HD01_VD168_Estimate; Female: - Widowed: - 55 to 59 years_100scale',\n",
       " 'ACS_09_B12002_HD01_VD169_Estimate; Female: - Widowed: - 60 to 64 years_100scale',\n",
       " 'ACS_09_B12002_HD01_VD170_Estimate; Female: - Widowed: - 65 to 74 years_100scale',\n",
       " 'ACS_09_B12002_HD01_VD171_Estimate; Female: - Widowed: - 75 to 84 years_100scale',\n",
       " 'ACS_09_B12002_HD01_VD172_Estimate; Female: - Widowed: - 85 years and over_100scale',\n",
       " 'ACS_09_B12002_HD01_VD173_Estimate; Female: - Divorced:_100scale',\n",
       " 'ACS_09_B12002_HD01_VD174_Estimate; Female: - Divorced: - 15 to 17 years_100scale',\n",
       " 'ACS_09_B12002_HD01_VD175_Estimate; Female: - Divorced: - 18 and 19 years_100scale',\n",
       " 'ACS_09_B12002_HD01_VD176_Estimate; Female: - Divorced: - 20 to 24 years_100scale',\n",
       " 'ACS_09_B12002_HD01_VD177_Estimate; Female: - Divorced: - 25 to 29 years_100scale',\n",
       " 'ACS_09_B12002_HD01_VD178_Estimate; Female: - Divorced: - 30 to 34 years_100scale',\n",
       " 'ACS_09_B12002_HD01_VD179_Estimate; Female: - Divorced: - 35 to 39 years_100scale',\n",
       " 'ACS_09_B12002_HD01_VD180_Estimate; Female: - Divorced: - 40 to 44 years_100scale',\n",
       " 'ACS_09_B12002_HD01_VD181_Estimate; Female: - Divorced: - 45 to 49 years_100scale',\n",
       " 'ACS_09_B12002_HD01_VD182_Estimate; Female: - Divorced: - 50 to 54 years_100scale',\n",
       " 'ACS_09_B12002_HD01_VD183_Estimate; Female: - Divorced: - 55 to 59 years_100scale',\n",
       " 'ACS_09_B12002_HD01_VD184_Estimate; Female: - Divorced: - 60 to 64 years_100scale',\n",
       " 'ACS_09_B12002_HD01_VD185_Estimate; Female: - Divorced: - 65 to 74 years_100scale',\n",
       " 'ACS_09_B12002_HD01_VD186_Estimate; Female: - Divorced: - 75 to 84 years_100scale',\n",
       " 'ACS_09_B12002_HD01_VD187_Estimate; Female: - Divorced: - 85 years and over_100scale',\n",
       " 'ACS_09_B19013_HD01_VD01_Estimate; Median household income in the past 12 months (in 2009 inflation-adjusted dollars)_100scale',\n",
       " 'ACS_09_B19054_HD01_VD01_Estimate; Total:_100scale',\n",
       " 'ACS_09_B19054_HD01_VD02_Estimate; With interest, dividends, or net rental income_100scale',\n",
       " 'ACS_09_B19054_HD01_VD03_Estimate; No interest, dividends, or net rental income_100scale',\n",
       " 'ACS_09_B19055_HD01_VD01_Estimate; Total:_100scale',\n",
       " 'ACS_09_B19055_HD01_VD02_Estimate; With Social Security income_100scale',\n",
       " 'ACS_09_B19055_HD01_VD03_Estimate; No Social Security income_100scale',\n",
       " 'ACS_09_B25003_HD01_VD01_Estimate; Total:_100scale',\n",
       " 'ACS_09_B25003_HD01_VD02_Estimate; Owner occupied_100scale',\n",
       " 'ACS_09_B25003_HD01_VD03_Estimate; Renter occupied_100scale',\n",
       " 'ACS_09_B25006_HD01_VD01_Estimate; Total:_100scale',\n",
       " 'ACS_09_B25006_HD01_VD02_Estimate; Householder who is White alone_100scale',\n",
       " 'ACS_09_B25006_HD01_VD03_Estimate; Householder who is Black or African American alone_100scale',\n",
       " 'ACS_09_B25006_HD01_VD04_Estimate; Householder who is American Indian and Alaska Native alone_100scale',\n",
       " 'ACS_09_B25006_HD01_VD05_Estimate; Householder who is Asian alone_100scale',\n",
       " 'ACS_09_B25006_HD01_VD06_Estimate; Householder who is Native Hawaiian and Other Pacific Islander alone_100scale',\n",
       " 'ACS_09_B25006_HD01_VD07_Estimate; Householder who is Some other race alone_100scale',\n",
       " 'ACS_09_B25006_HD01_VD08_Estimate; Householder who is Two or more races:_100scale',\n",
       " 'ACS_09_B25006_HD01_VD09_Estimate; Householder who is Two or more races: - Householder who is Two races including Some other race_100scale',\n",
       " 'ACS_09_B25006_HD01_VD10_Estimate; Householder who is Two or more races: - Householder who is Two races excluding Some other race, and three or more races_100scale',\n",
       " 'ACS_09_B25018_HD01_VD01_Estimate; Median number of rooms_100scale',\n",
       " 'ACS_09_B25081_HD01_VD01_Estimate; Total:_100scale',\n",
       " 'ACS_09_B25081_HD01_VD02_Estimate; Housing units with a mortgage, contract to purchase, or similar debt:_100scale',\n",
       " 'ACS_09_B25081_HD01_VD03_Estimate; Housing units with a mortgage, contract to purchase, or similar debt: - With either a second mortgage or home equity loan, but not both:_100scale',\n",
       " 'ACS_09_B25081_HD01_VD04_Estimate; Housing units with a mortgage, contract to purchase, or similar debt: - With either a second mortgage or home equity loan, but not both: - Second mortgage only_100scale',\n",
       " 'ACS_09_B25081_HD01_VD05_Estimate; Housing units with a mortgage, contract to purchase, or similar debt: - With either a second mortgage or home equity loan, but not both: - Home equity loan only_100scale',\n",
       " 'ACS_09_B25081_HD01_VD06_Estimate; Housing units with a mortgage, contract to purchase, or similar debt: - Both second mortgage and home equity loan_100scale',\n",
       " 'ACS_09_B25081_HD01_VD07_Estimate; Housing units with a mortgage, contract to purchase, or similar debt: - No second mortgage and no home equity loan_100scale',\n",
       " 'ACS_09_B25081_HD01_VD08_Estimate; Housing units without a mortgage_100scale',\n",
       " 'ACS_09_S1301_HC01_EST_VC01_Total; Estimate; Women 15 to 50 years_100scale',\n",
       " 'ACS_09_S1301_HC03_EST_VC01_Women with births in the past 12 months - Number; Estimate; Women 15 to 50 years_100scale',\n",
       " 'ACS_09_S1301_HC04_EST_VC01_Women with births in the past 12 months - Rate per 1,000 women; Estimate; Women 15 to 50 years_100scale',\n",
       " 'ACS_09_S1301_HC05_EST_VC01_Percent  of women who had a birth in the past 12 months who were unmarried; Estimate; Women 15 to 50 years_100scale',\n",
       " 'ACS_09_S1301_HC01_EST_VC02_Total; Estimate; Women 15 to 50 years - 15 to 19 years_100scale',\n",
       " 'ACS_09_S1301_HC03_EST_VC02_Women with births in the past 12 months - Number; Estimate; Women 15 to 50 years - 15 to 19 years_100scale',\n",
       " 'ACS_09_S1301_HC04_EST_VC02_Women with births in the past 12 months - Rate per 1,000 women; Estimate; Women 15 to 50 years - 15 to 19 years_100scale',\n",
       " 'ACS_09_S1301_HC05_EST_VC02_Percent  of women who had a birth in the past 12 months who were unmarried; Estimate; Women 15 to 50 years - 15 to 19 years_100scale',\n",
       " 'ACS_09_S1301_HC01_EST_VC03_Total; Estimate; Women 15 to 50 years - 20 to 34 years_100scale',\n",
       " 'ACS_09_S1301_HC03_EST_VC03_Women with births in the past 12 months - Number; Estimate; Women 15 to 50 years - 20 to 34 years_100scale',\n",
       " 'ACS_09_S1301_HC04_EST_VC03_Women with births in the past 12 months - Rate per 1,000 women; Estimate; Women 15 to 50 years - 20 to 34 years_100scale',\n",
       " 'ACS_09_S1301_HC05_EST_VC03_Percent  of women who had a birth in the past 12 months who were unmarried; Estimate; Women 15 to 50 years - 20 to 34 years_100scale',\n",
       " 'ACS_09_S1301_HC01_EST_VC04_Total; Estimate; Women 15 to 50 years - 35 to 50 years_100scale',\n",
       " 'ACS_09_S1301_HC03_EST_VC04_Women with births in the past 12 months - Number; Estimate; Women 15 to 50 years - 35 to 50 years_100scale',\n",
       " 'ACS_09_S1301_HC04_EST_VC04_Women with births in the past 12 months - Rate per 1,000 women; Estimate; Women 15 to 50 years - 35 to 50 years_100scale',\n",
       " 'ACS_09_S1301_HC05_EST_VC04_Percent  of women who had a birth in the past 12 months who were unmarried; Estimate; Women 15 to 50 years - 35 to 50 years_100scale',\n",
       " 'ACS_09_S1301_HC01_EST_VC06_Total; Estimate; Women 15 to 50 years - RACE AND HISPANIC OR LATINO ORIGIN - One race_100scale',\n",
       " 'ACS_09_S1301_HC03_EST_VC06_Women with births in the past 12 months - Number; Estimate; Women 15 to 50 years - RACE AND HISPANIC OR LATINO ORIGIN - One race_100scale',\n",
       " 'ACS_09_S1301_HC04_EST_VC06_Women with births in the past 12 months - Rate per 1,000 women; Estimate; Women 15 to 50 years - RACE AND HISPANIC OR LATINO ORIGIN - One race_100scale',\n",
       " 'ACS_09_S1301_HC05_EST_VC06_Percent  of women who had a birth in the past 12 months who were unmarried; Estimate; Women 15 to 50 years - RACE AND HISPANIC OR LATINO ORIGIN - One race_100scale',\n",
       " 'ACS_09_S1301_HC01_EST_VC07_Total; Estimate; Women 15 to 50 years - RACE AND HISPANIC OR LATINO ORIGIN - One race - White_100scale',\n",
       " 'ACS_09_S1301_HC03_EST_VC07_Women with births in the past 12 months - Number; Estimate; Women 15 to 50 years - RACE AND HISPANIC OR LATINO ORIGIN - One race - White_100scale',\n",
       " 'ACS_09_S1301_HC04_EST_VC07_Women with births in the past 12 months - Rate per 1,000 women; Estimate; Women 15 to 50 years - RACE AND HISPANIC OR LATINO ORIGIN - One race - White_100scale',\n",
       " 'ACS_09_S1301_HC05_EST_VC07_Percent  of women who had a birth in the past 12 months who were unmarried; Estimate; Women 15 to 50 years - RACE AND HISPANIC OR LATINO ORIGIN - One race - White_100scale',\n",
       " 'ACS_09_S1301_HC01_EST_VC08_Total; Estimate; Women 15 to 50 years - RACE AND HISPANIC OR LATINO ORIGIN - One race - Black or African American_100scale',\n",
       " 'ACS_09_S1301_HC03_EST_VC08_Women with births in the past 12 months - Number; Estimate; Women 15 to 50 years - RACE AND HISPANIC OR LATINO ORIGIN - One race - Black or African American_100scale',\n",
       " 'ACS_09_S1301_HC04_EST_VC08_Women with births in the past 12 months - Rate per 1,000 women; Estimate; Women 15 to 50 years - RACE AND HISPANIC OR LATINO ORIGIN - One race - Black or African American_100scale',\n",
       " 'ACS_09_S1301_HC05_EST_VC08_Percent  of women who had a birth in the past 12 months who were unmarried; Estimate; Women 15 to 50 years - RACE AND HISPANIC OR LATINO ORIGIN - One race - Black or African American_100scale',\n",
       " 'ACS_09_S1301_HC01_EST_VC09_Total; Estimate; Women 15 to 50 years - RACE AND HISPANIC OR LATINO ORIGIN - One race - American Indian and Alaska Native_100scale',\n",
       " 'ACS_09_S1301_HC03_EST_VC09_Women with births in the past 12 months - Number; Estimate; Women 15 to 50 years - RACE AND HISPANIC OR LATINO ORIGIN - One race - American Indian and Alaska Native_100scale',\n",
       " 'ACS_09_S1301_HC04_EST_VC09_Women with births in the past 12 months - Rate per 1,000 women; Estimate; Women 15 to 50 years - RACE AND HISPANIC OR LATINO ORIGIN - One race - American Indian and Alaska Native_100scale',\n",
       " 'ACS_09_S1301_HC05_EST_VC09_Percent  of women who had a birth in the past 12 months who were unmarried; Estimate; Women 15 to 50 years - RACE AND HISPANIC OR LATINO ORIGIN - One race - American Indian and Alaska Native_100scale',\n",
       " 'ACS_09_S1301_HC01_EST_VC10_Total; Estimate; Women 15 to 50 years - RACE AND HISPANIC OR LATINO ORIGIN - One race - Asian_100scale',\n",
       " 'ACS_09_S1301_HC03_EST_VC10_Women with births in the past 12 months - Number; Estimate; Women 15 to 50 years - RACE AND HISPANIC OR LATINO ORIGIN - One race - Asian_100scale',\n",
       " 'ACS_09_S1301_HC04_EST_VC10_Women with births in the past 12 months - Rate per 1,000 women; Estimate; Women 15 to 50 years - RACE AND HISPANIC OR LATINO ORIGIN - One race - Asian_100scale',\n",
       " 'ACS_09_S1301_HC05_EST_VC10_Percent  of women who had a birth in the past 12 months who were unmarried; Estimate; Women 15 to 50 years - RACE AND HISPANIC OR LATINO ORIGIN - One race - Asian_100scale',\n",
       " 'ACS_09_S1301_HC01_EST_VC11_Total; Estimate; Women 15 to 50 years - RACE AND HISPANIC OR LATINO ORIGIN - One race - Native Hawaiian and Other Pacific Islander_100scale',\n",
       " 'ACS_09_S1301_HC03_EST_VC11_Women with births in the past 12 months - Number; Estimate; Women 15 to 50 years - RACE AND HISPANIC OR LATINO ORIGIN - One race - Native Hawaiian and Other Pacific Islander_100scale',\n",
       " 'ACS_09_S1301_HC04_EST_VC11_Women with births in the past 12 months - Rate per 1,000 women; Estimate; Women 15 to 50 years - RACE AND HISPANIC OR LATINO ORIGIN - One race - Native Hawaiian and Other Pacific Islander_100scale',\n",
       " 'ACS_09_S1301_HC05_EST_VC11_Percent  of women who had a birth in the past 12 months who were unmarried; Estimate; Women 15 to 50 years - RACE AND HISPANIC OR LATINO ORIGIN - One race - Native Hawaiian and Other Pacific Islander_100scale',\n",
       " 'ACS_09_S1301_HC01_EST_VC12_Total; Estimate; Women 15 to 50 years - RACE AND HISPANIC OR LATINO ORIGIN - One race - Some other race_100scale',\n",
       " 'ACS_09_S1301_HC03_EST_VC12_Women with births in the past 12 months - Number; Estimate; Women 15 to 50 years - RACE AND HISPANIC OR LATINO ORIGIN - One race - Some other race_100scale',\n",
       " 'ACS_09_S1301_HC04_EST_VC12_Women with births in the past 12 months - Rate per 1,000 women; Estimate; Women 15 to 50 years - RACE AND HISPANIC OR LATINO ORIGIN - One race - Some other race_100scale',\n",
       " 'ACS_09_S1301_HC05_EST_VC12_Percent  of women who had a birth in the past 12 months who were unmarried; Estimate; Women 15 to 50 years - RACE AND HISPANIC OR LATINO ORIGIN - One race - Some other race_100scale',\n",
       " 'ACS_09_S1301_HC01_EST_VC13_Total; Estimate; Women 15 to 50 years - RACE AND HISPANIC OR LATINO ORIGIN - Two or more races_100scale',\n",
       " 'ACS_09_S1301_HC03_EST_VC13_Women with births in the past 12 months - Number; Estimate; Women 15 to 50 years - RACE AND HISPANIC OR LATINO ORIGIN - Two or more races_100scale',\n",
       " 'ACS_09_S1301_HC04_EST_VC13_Women with births in the past 12 months - Rate per 1,000 women; Estimate; Women 15 to 50 years - RACE AND HISPANIC OR LATINO ORIGIN - Two or more races_100scale',\n",
       " 'ACS_09_S1301_HC05_EST_VC13_Percent  of women who had a birth in the past 12 months who were unmarried; Estimate; Women 15 to 50 years - RACE AND HISPANIC OR LATINO ORIGIN - Two or more races_100scale',\n",
       " 'ACS_09_S1301_HC01_EST_VC14_Total; Estimate; Women 15 to 50 years - RACE AND HISPANIC OR LATINO ORIGIN - Hispanic or Latino origin (of any race)_100scale',\n",
       " 'ACS_09_S1301_HC03_EST_VC14_Women with births in the past 12 months - Number; Estimate; Women 15 to 50 years - RACE AND HISPANIC OR LATINO ORIGIN - Hispanic or Latino origin (of any race)_100scale',\n",
       " 'ACS_09_S1301_HC04_EST_VC14_Women with births in the past 12 months - Rate per 1,000 women; Estimate; Women 15 to 50 years - RACE AND HISPANIC OR LATINO ORIGIN - Hispanic or Latino origin (of any race)_100scale',\n",
       " 'ACS_09_S1301_HC05_EST_VC14_Percent  of women who had a birth in the past 12 months who were unmarried; Estimate; Women 15 to 50 years - RACE AND HISPANIC OR LATINO ORIGIN - Hispanic or Latino origin (of any race)_100scale',\n",
       " 'ACS_09_S1301_HC01_EST_VC15_Total; Estimate; Women 15 to 50 years - RACE AND HISPANIC OR LATINO ORIGIN - White alone, not Hispanic or Latino_100scale',\n",
       " 'ACS_09_S1301_HC03_EST_VC15_Women with births in the past 12 months - Number; Estimate; Women 15 to 50 years - RACE AND HISPANIC OR LATINO ORIGIN - White alone, not Hispanic or Latino_100scale',\n",
       " 'ACS_09_S1301_HC04_EST_VC15_Women with births in the past 12 months - Rate per 1,000 women; Estimate; Women 15 to 50 years - RACE AND HISPANIC OR LATINO ORIGIN - White alone, not Hispanic or Latino_100scale',\n",
       " 'ACS_09_S1301_HC05_EST_VC15_Percent  of women who had a birth in the past 12 months who were unmarried; Estimate; Women 15 to 50 years - RACE AND HISPANIC OR LATINO ORIGIN - White alone, not Hispanic or Latino_100scale',\n",
       " 'ACS_09_S1301_HC01_EST_VC17_Total; Estimate; Women 15 to 50 years - CITIZENSHIP STATUS - Native_100scale',\n",
       " 'ACS_09_S1301_HC03_EST_VC17_Women with births in the past 12 months - Number; Estimate; Women 15 to 50 years - CITIZENSHIP STATUS - Native_100scale',\n",
       " 'ACS_09_S1301_HC04_EST_VC17_Women with births in the past 12 months - Rate per 1,000 women; Estimate; Women 15 to 50 years - CITIZENSHIP STATUS - Native_100scale',\n",
       " 'ACS_09_S1301_HC05_EST_VC17_Percent  of women who had a birth in the past 12 months who were unmarried; Estimate; Women 15 to 50 years - CITIZENSHIP STATUS - Native_100scale',\n",
       " 'ACS_09_S1301_HC01_EST_VC18_Total; Estimate; Women 15 to 50 years - CITIZENSHIP STATUS - Foreign born_100scale',\n",
       " 'ACS_09_S1301_HC03_EST_VC18_Women with births in the past 12 months - Number; Estimate; Women 15 to 50 years - CITIZENSHIP STATUS - Foreign born_100scale',\n",
       " 'ACS_09_S1301_HC04_EST_VC18_Women with births in the past 12 months - Rate per 1,000 women; Estimate; Women 15 to 50 years - CITIZENSHIP STATUS - Foreign born_100scale',\n",
       " 'ACS_09_S1301_HC05_EST_VC18_Percent  of women who had a birth in the past 12 months who were unmarried; Estimate; Women 15 to 50 years - CITIZENSHIP STATUS - Foreign born_100scale',\n",
       " 'ACS_09_S1301_HC01_EST_VC20_Total; Estimate; Women 15 to 50 years - EDUCATIONAL ATTAINMENT - Less than high school graduate_100scale',\n",
       " 'ACS_09_S1301_HC03_EST_VC20_Women with births in the past 12 months - Number; Estimate; Women 15 to 50 years - EDUCATIONAL ATTAINMENT - Less than high school graduate_100scale',\n",
       " 'ACS_09_S1301_HC04_EST_VC20_Women with births in the past 12 months - Rate per 1,000 women; Estimate; Women 15 to 50 years - EDUCATIONAL ATTAINMENT - Less than high school graduate_100scale',\n",
       " 'ACS_09_S1301_HC05_EST_VC20_Percent  of women who had a birth in the past 12 months who were unmarried; Estimate; Women 15 to 50 years - EDUCATIONAL ATTAINMENT - Less than high school graduate_100scale',\n",
       " 'ACS_09_S1301_HC01_EST_VC21_Total; Estimate; Women 15 to 50 years - EDUCATIONAL ATTAINMENT - High school graduate (includes equivalency)_100scale',\n",
       " 'ACS_09_S1301_HC03_EST_VC21_Women with births in the past 12 months - Number; Estimate; Women 15 to 50 years - EDUCATIONAL ATTAINMENT - High school graduate (includes equivalency)_100scale',\n",
       " 'ACS_09_S1301_HC04_EST_VC21_Women with births in the past 12 months - Rate per 1,000 women; Estimate; Women 15 to 50 years - EDUCATIONAL ATTAINMENT - High school graduate (includes equivalency)_100scale',\n",
       " 'ACS_09_S1301_HC05_EST_VC21_Percent  of women who had a birth in the past 12 months who were unmarried; Estimate; Women 15 to 50 years - EDUCATIONAL ATTAINMENT - High school graduate (includes equivalency)_100scale',\n",
       " \"ACS_09_S1301_HC01_EST_VC22_Total; Estimate; Women 15 to 50 years - EDUCATIONAL ATTAINMENT - Some college or associate's degree_100scale\",\n",
       " \"ACS_09_S1301_HC03_EST_VC22_Women with births in the past 12 months - Number; Estimate; Women 15 to 50 years - EDUCATIONAL ATTAINMENT - Some college or associate's degree_100scale\",\n",
       " \"ACS_09_S1301_HC04_EST_VC22_Women with births in the past 12 months - Rate per 1,000 women; Estimate; Women 15 to 50 years - EDUCATIONAL ATTAINMENT - Some college or associate's degree_100scale\",\n",
       " \"ACS_09_S1301_HC05_EST_VC22_Percent  of women who had a birth in the past 12 months who were unmarried; Estimate; Women 15 to 50 years - EDUCATIONAL ATTAINMENT - Some college or associate's degree_100scale\",\n",
       " \"ACS_09_S1301_HC01_EST_VC23_Total; Estimate; Women 15 to 50 years - EDUCATIONAL ATTAINMENT - Bachelor's degree_100scale\",\n",
       " \"ACS_09_S1301_HC03_EST_VC23_Women with births in the past 12 months - Number; Estimate; Women 15 to 50 years - EDUCATIONAL ATTAINMENT - Bachelor's degree_100scale\",\n",
       " \"ACS_09_S1301_HC04_EST_VC23_Women with births in the past 12 months - Rate per 1,000 women; Estimate; Women 15 to 50 years - EDUCATIONAL ATTAINMENT - Bachelor's degree_100scale\",\n",
       " \"ACS_09_S1301_HC05_EST_VC23_Percent  of women who had a birth in the past 12 months who were unmarried; Estimate; Women 15 to 50 years - EDUCATIONAL ATTAINMENT - Bachelor's degree_100scale\",\n",
       " 'ACS_09_S1301_HC01_EST_VC24_Total; Estimate; Women 15 to 50 years - EDUCATIONAL ATTAINMENT - Graduate or professional degree_100scale',\n",
       " 'ACS_09_S1301_HC03_EST_VC24_Women with births in the past 12 months - Number; Estimate; Women 15 to 50 years - EDUCATIONAL ATTAINMENT - Graduate or professional degree_100scale',\n",
       " 'ACS_09_S1301_HC04_EST_VC24_Women with births in the past 12 months - Rate per 1,000 women; Estimate; Women 15 to 50 years - EDUCATIONAL ATTAINMENT - Graduate or professional degree_100scale',\n",
       " 'ACS_09_S1301_HC05_EST_VC24_Percent  of women who had a birth in the past 12 months who were unmarried; Estimate; Women 15 to 50 years - EDUCATIONAL ATTAINMENT - Graduate or professional degree_100scale',\n",
       " 'ACS_09_S1301_HC01_EST_VC26_Total; Estimate; POVERTY STATUS IN THE PAST 12 MONTHS - Women 15 to 50 years for whom poverty status is determined_100scale',\n",
       " 'ACS_09_S1301_HC03_EST_VC26_Women with births in the past 12 months - Number; Estimate; POVERTY STATUS IN THE PAST 12 MONTHS - Women 15 to 50 years for whom poverty status is determined_100scale',\n",
       " 'ACS_09_S1301_HC04_EST_VC26_Women with births in the past 12 months - Rate per 1,000 women; Estimate; POVERTY STATUS IN THE PAST 12 MONTHS - Women 15 to 50 years for whom poverty status is determined_100scale',\n",
       " 'ACS_09_S1301_HC05_EST_VC26_Percent  of women who had a birth in the past 12 months who were unmarried; Estimate; POVERTY STATUS IN THE PAST 12 MONTHS - Women 15 to 50 years for whom poverty status is determined_100scale',\n",
       " 'ACS_09_S1301_HC01_EST_VC27_Total; Estimate; POVERTY STATUS IN THE PAST 12 MONTHS - Women 15 to 50 years for whom poverty status is determined - Below 100 percent of poverty level_100scale',\n",
       " 'ACS_09_S1301_HC03_EST_VC27_Women with births in the past 12 months - Number; Estimate; POVERTY STATUS IN THE PAST 12 MONTHS - Women 15 to 50 years for whom poverty status is determined - Below 100 percent of poverty level_100scale',\n",
       " 'ACS_09_S1301_HC04_EST_VC27_Women with births in the past 12 months - Rate per 1,000 women; Estimate; POVERTY STATUS IN THE PAST 12 MONTHS - Women 15 to 50 years for whom poverty status is determined - Below 100 percent of poverty level_100scale',\n",
       " 'ACS_09_S1301_HC05_EST_VC27_Percent  of women who had a birth in the past 12 months who were unmarried; Estimate; POVERTY STATUS IN THE PAST 12 MONTHS - Women 15 to 50 years for whom poverty status is determined - Below 100 percent of poverty level_100scale',\n",
       " 'ACS_09_S1301_HC01_EST_VC28_Total; Estimate; POVERTY STATUS IN THE PAST 12 MONTHS - Women 15 to 50 years for whom poverty status is determined - 100 to 199 percent of poverty level_100scale',\n",
       " 'ACS_09_S1301_HC03_EST_VC28_Women with births in the past 12 months - Number; Estimate; POVERTY STATUS IN THE PAST 12 MONTHS - Women 15 to 50 years for whom poverty status is determined - 100 to 199 percent of poverty level_100scale',\n",
       " 'ACS_09_S1301_HC04_EST_VC28_Women with births in the past 12 months - Rate per 1,000 women; Estimate; POVERTY STATUS IN THE PAST 12 MONTHS - Women 15 to 50 years for whom poverty status is determined - 100 to 199 percent of poverty level_100scale',\n",
       " 'ACS_09_S1301_HC05_EST_VC28_Percent  of women who had a birth in the past 12 months who were unmarried; Estimate; POVERTY STATUS IN THE PAST 12 MONTHS - Women 15 to 50 years for whom poverty status is determined - 100 to 199 percent of poverty level_100scale',\n",
       " 'ACS_09_S1301_HC01_EST_VC29_Total; Estimate; POVERTY STATUS IN THE PAST 12 MONTHS - Women 15 to 50 years for whom poverty status is determined - 200 percent or more above poverty level_100scale',\n",
       " 'ACS_09_S1301_HC03_EST_VC29_Women with births in the past 12 months - Number; Estimate; POVERTY STATUS IN THE PAST 12 MONTHS - Women 15 to 50 years for whom poverty status is determined - 200 percent or more above poverty level_100scale',\n",
       " 'ACS_09_S1301_HC04_EST_VC29_Women with births in the past 12 months - Rate per 1,000 women; Estimate; POVERTY STATUS IN THE PAST 12 MONTHS - Women 15 to 50 years for whom poverty status is determined - 200 percent or more above poverty level_100scale',\n",
       " 'ACS_09_S1301_HC05_EST_VC29_Percent  of women who had a birth in the past 12 months who were unmarried; Estimate; POVERTY STATUS IN THE PAST 12 MONTHS - Women 15 to 50 years for whom poverty status is determined - 200 percent or more above poverty level_100scale',\n",
       " 'ACS_09_S1301_HC01_EST_VC31_Total; Estimate; LABOR FORCE STATUS - Women 16 to 50 years_100scale',\n",
       " 'ACS_09_S1301_HC03_EST_VC31_Women with births in the past 12 months - Number; Estimate; LABOR FORCE STATUS - Women 16 to 50 years_100scale',\n",
       " 'ACS_09_S1301_HC04_EST_VC31_Women with births in the past 12 months - Rate per 1,000 women; Estimate; LABOR FORCE STATUS - Women 16 to 50 years_100scale',\n",
       " 'ACS_09_S1301_HC05_EST_VC31_Percent  of women who had a birth in the past 12 months who were unmarried; Estimate; LABOR FORCE STATUS - Women 16 to 50 years_100scale',\n",
       " 'ACS_09_S1301_HC01_EST_VC32_Total; Estimate; LABOR FORCE STATUS - Women 16 to 50 years - In labor force_100scale',\n",
       " 'ACS_09_S1301_HC03_EST_VC32_Women with births in the past 12 months - Number; Estimate; LABOR FORCE STATUS - Women 16 to 50 years - In labor force_100scale',\n",
       " 'ACS_09_S1301_HC04_EST_VC32_Women with births in the past 12 months - Rate per 1,000 women; Estimate; LABOR FORCE STATUS - Women 16 to 50 years - In labor force_100scale',\n",
       " 'ACS_09_S1301_HC05_EST_VC32_Percent  of women who had a birth in the past 12 months who were unmarried; Estimate; LABOR FORCE STATUS - Women 16 to 50 years - In labor force_100scale',\n",
       " 'ACS_09_S1301_HC01_EST_VC34_Total; Estimate; PERCENT IMPUTED - Marital status_100scale',\n",
       " 'ACS_09_S1301_HC01_EST_VC35_Total; Estimate; PERCENT IMPUTED - Fertility_100scale',\n",
       " 'ACS_09_S2101_HC01_EST_VC01_Total; Estimate; Civilian population 18 years and over_100scale',\n",
       " 'ACS_09_S2101_HC02_EST_VC01_Veterans; Estimate; Civilian population 18 years and over_100scale',\n",
       " 'ACS_09_S2101_HC03_EST_VC01_Nonveterans; Estimate; Civilian population 18 years and over_100scale',\n",
       " 'ACS_09_S2101_HC02_EST_VC03_Veterans; Estimate; Civilian population 18 years and over - PERIOD OF SERVICE - Gulf War (9/2001 or later) veterans_100scale',\n",
       " 'ACS_09_S2101_HC02_EST_VC04_Veterans; Estimate; Civilian population 18 years and over - PERIOD OF SERVICE - Gulf War (8/1990 to 8/2001) veterans_100scale',\n",
       " 'ACS_09_S2101_HC02_EST_VC05_Veterans; Estimate; Civilian population 18 years and over - PERIOD OF SERVICE - Vietnam era veterans_100scale',\n",
       " 'ACS_09_S2101_HC02_EST_VC06_Veterans; Estimate; Civilian population 18 years and over - PERIOD OF SERVICE - Korean War veterans_100scale',\n",
       " 'ACS_09_S2101_HC02_EST_VC07_Veterans; Estimate; Civilian population 18 years and over - PERIOD OF SERVICE - World War II veterans_100scale',\n",
       " 'ACS_09_S2101_HC01_EST_VC09_Total; Estimate; Civilian population 18 years and over - SEX - Male_100scale',\n",
       " 'ACS_09_S2101_HC02_EST_VC09_Veterans; Estimate; Civilian population 18 years and over - SEX - Male_100scale',\n",
       " 'ACS_09_S2101_HC03_EST_VC09_Nonveterans; Estimate; Civilian population 18 years and over - SEX - Male_100scale',\n",
       " 'ACS_09_S2101_HC01_EST_VC10_Total; Estimate; Civilian population 18 years and over - SEX - Female_100scale',\n",
       " 'ACS_09_S2101_HC02_EST_VC10_Veterans; Estimate; Civilian population 18 years and over - SEX - Female_100scale',\n",
       " 'ACS_09_S2101_HC03_EST_VC10_Nonveterans; Estimate; Civilian population 18 years and over - SEX - Female_100scale',\n",
       " 'ACS_09_S2101_HC01_EST_VC12_Total; Estimate; Civilian population 18 years and over - AGE - 18 to 34 years_100scale',\n",
       " 'ACS_09_S2101_HC02_EST_VC12_Veterans; Estimate; Civilian population 18 years and over - AGE - 18 to 34 years_100scale',\n",
       " 'ACS_09_S2101_HC03_EST_VC12_Nonveterans; Estimate; Civilian population 18 years and over - AGE - 18 to 34 years_100scale',\n",
       " 'ACS_09_S2101_HC01_EST_VC13_Total; Estimate; Civilian population 18 years and over - AGE - 35 to 54 years_100scale',\n",
       " 'ACS_09_S2101_HC02_EST_VC13_Veterans; Estimate; Civilian population 18 years and over - AGE - 35 to 54 years_100scale',\n",
       " 'ACS_09_S2101_HC03_EST_VC13_Nonveterans; Estimate; Civilian population 18 years and over - AGE - 35 to 54 years_100scale',\n",
       " 'ACS_09_S2101_HC01_EST_VC14_Total; Estimate; Civilian population 18 years and over - AGE - 55 to 64 years_100scale',\n",
       " 'ACS_09_S2101_HC02_EST_VC14_Veterans; Estimate; Civilian population 18 years and over - AGE - 55 to 64 years_100scale',\n",
       " 'ACS_09_S2101_HC03_EST_VC14_Nonveterans; Estimate; Civilian population 18 years and over - AGE - 55 to 64 years_100scale',\n",
       " 'ACS_09_S2101_HC01_EST_VC15_Total; Estimate; Civilian population 18 years and over - AGE - 65 to 74 years_100scale',\n",
       " 'ACS_09_S2101_HC02_EST_VC15_Veterans; Estimate; Civilian population 18 years and over - AGE - 65 to 74 years_100scale',\n",
       " 'ACS_09_S2101_HC03_EST_VC15_Nonveterans; Estimate; Civilian population 18 years and over - AGE - 65 to 74 years_100scale',\n",
       " 'ACS_09_S2101_HC01_EST_VC16_Total; Estimate; Civilian population 18 years and over - AGE - 75 years and over_100scale',\n",
       " 'ACS_09_S2101_HC02_EST_VC16_Veterans; Estimate; Civilian population 18 years and over - AGE - 75 years and over_100scale',\n",
       " 'ACS_09_S2101_HC03_EST_VC16_Nonveterans; Estimate; Civilian population 18 years and over - AGE - 75 years and over_100scale',\n",
       " 'ACS_09_S2101_HC01_EST_VC18_Total; Estimate; Civilian population 18 years and over - RACE AND HISPANIC OR LATINO ORIGIN - One race_100scale',\n",
       " 'ACS_09_S2101_HC02_EST_VC18_Veterans; Estimate; Civilian population 18 years and over - RACE AND HISPANIC OR LATINO ORIGIN - One race_100scale',\n",
       " 'ACS_09_S2101_HC03_EST_VC18_Nonveterans; Estimate; Civilian population 18 years and over - RACE AND HISPANIC OR LATINO ORIGIN - One race_100scale',\n",
       " 'ACS_09_S2101_HC01_EST_VC19_Total; Estimate; Civilian population 18 years and over - RACE AND HISPANIC OR LATINO ORIGIN - One race - White_100scale',\n",
       " 'ACS_09_S2101_HC02_EST_VC19_Veterans; Estimate; Civilian population 18 years and over - RACE AND HISPANIC OR LATINO ORIGIN - One race - White_100scale',\n",
       " 'ACS_09_S2101_HC03_EST_VC19_Nonveterans; Estimate; Civilian population 18 years and over - RACE AND HISPANIC OR LATINO ORIGIN - One race - White_100scale',\n",
       " 'ACS_09_S2101_HC01_EST_VC20_Total; Estimate; Civilian population 18 years and over - RACE AND HISPANIC OR LATINO ORIGIN - One race - Black or African American_100scale',\n",
       " 'ACS_09_S2101_HC02_EST_VC20_Veterans; Estimate; Civilian population 18 years and over - RACE AND HISPANIC OR LATINO ORIGIN - One race - Black or African American_100scale',\n",
       " 'ACS_09_S2101_HC03_EST_VC20_Nonveterans; Estimate; Civilian population 18 years and over - RACE AND HISPANIC OR LATINO ORIGIN - One race - Black or African American_100scale',\n",
       " 'ACS_09_S2101_HC01_EST_VC21_Total; Estimate; Civilian population 18 years and over - RACE AND HISPANIC OR LATINO ORIGIN - One race - American Indian and Alaska Native_100scale',\n",
       " 'ACS_09_S2101_HC02_EST_VC21_Veterans; Estimate; Civilian population 18 years and over - RACE AND HISPANIC OR LATINO ORIGIN - One race - American Indian and Alaska Native_100scale',\n",
       " 'ACS_09_S2101_HC03_EST_VC21_Nonveterans; Estimate; Civilian population 18 years and over - RACE AND HISPANIC OR LATINO ORIGIN - One race - American Indian and Alaska Native_100scale',\n",
       " 'ACS_09_S2101_HC01_EST_VC22_Total; Estimate; Civilian population 18 years and over - RACE AND HISPANIC OR LATINO ORIGIN - One race - Asian_100scale',\n",
       " 'ACS_09_S2101_HC02_EST_VC22_Veterans; Estimate; Civilian population 18 years and over - RACE AND HISPANIC OR LATINO ORIGIN - One race - Asian_100scale',\n",
       " 'ACS_09_S2101_HC03_EST_VC22_Nonveterans; Estimate; Civilian population 18 years and over - RACE AND HISPANIC OR LATINO ORIGIN - One race - Asian_100scale',\n",
       " 'ACS_09_S2101_HC01_EST_VC23_Total; Estimate; Civilian population 18 years and over - RACE AND HISPANIC OR LATINO ORIGIN - One race - Native Hawaiian and Other Pacific Islander_100scale',\n",
       " 'ACS_09_S2101_HC02_EST_VC23_Veterans; Estimate; Civilian population 18 years and over - RACE AND HISPANIC OR LATINO ORIGIN - One race - Native Hawaiian and Other Pacific Islander_100scale',\n",
       " 'ACS_09_S2101_HC03_EST_VC23_Nonveterans; Estimate; Civilian population 18 years and over - RACE AND HISPANIC OR LATINO ORIGIN - One race - Native Hawaiian and Other Pacific Islander_100scale',\n",
       " 'ACS_09_S2101_HC01_EST_VC24_Total; Estimate; Civilian population 18 years and over - RACE AND HISPANIC OR LATINO ORIGIN - One race - Some other race_100scale',\n",
       " 'ACS_09_S2101_HC02_EST_VC24_Veterans; Estimate; Civilian population 18 years and over - RACE AND HISPANIC OR LATINO ORIGIN - One race - Some other race_100scale',\n",
       " 'ACS_09_S2101_HC03_EST_VC24_Nonveterans; Estimate; Civilian population 18 years and over - RACE AND HISPANIC OR LATINO ORIGIN - One race - Some other race_100scale',\n",
       " 'ACS_09_S2101_HC01_EST_VC25_Total; Estimate; Civilian population 18 years and over - RACE AND HISPANIC OR LATINO ORIGIN - Two or more races_100scale',\n",
       " 'ACS_09_S2101_HC02_EST_VC25_Veterans; Estimate; Civilian population 18 years and over - RACE AND HISPANIC OR LATINO ORIGIN - Two or more races_100scale',\n",
       " 'ACS_09_S2101_HC03_EST_VC25_Nonveterans; Estimate; Civilian population 18 years and over - RACE AND HISPANIC OR LATINO ORIGIN - Two or more races_100scale',\n",
       " 'ACS_09_S2101_HC01_EST_VC26_Total; Estimate; Civilian population 18 years and over - RACE AND HISPANIC OR LATINO ORIGIN - Hispanic or Latino (of any race)_100scale',\n",
       " 'ACS_09_S2101_HC02_EST_VC26_Veterans; Estimate; Civilian population 18 years and over - RACE AND HISPANIC OR LATINO ORIGIN - Hispanic or Latino (of any race)_100scale',\n",
       " 'ACS_09_S2101_HC03_EST_VC26_Nonveterans; Estimate; Civilian population 18 years and over - RACE AND HISPANIC OR LATINO ORIGIN - Hispanic or Latino (of any race)_100scale',\n",
       " 'ACS_09_S2101_HC01_EST_VC27_Total; Estimate; Civilian population 18 years and over - RACE AND HISPANIC OR LATINO ORIGIN - White alone, not Hispanic or Latino_100scale',\n",
       " 'ACS_09_S2101_HC02_EST_VC27_Veterans; Estimate; Civilian population 18 years and over - RACE AND HISPANIC OR LATINO ORIGIN - White alone, not Hispanic or Latino_100scale',\n",
       " 'ACS_09_S2101_HC03_EST_VC27_Nonveterans; Estimate; Civilian population 18 years and over - RACE AND HISPANIC OR LATINO ORIGIN - White alone, not Hispanic or Latino_100scale',\n",
       " 'ACS_09_S2101_HC01_EST_VC29_Total; Estimate; MEDIAN INCOME IN THE PAST 12 MONTHS (In 2009 Inflation-Adjusted Dollars) - Civilian population 18 years and over with income_100scale',\n",
       " 'ACS_09_S2101_HC02_EST_VC29_Veterans; Estimate; MEDIAN INCOME IN THE PAST 12 MONTHS (In 2009 Inflation-Adjusted Dollars) - Civilian population 18 years and over with income_100scale',\n",
       " 'ACS_09_S2101_HC03_EST_VC29_Nonveterans; Estimate; MEDIAN INCOME IN THE PAST 12 MONTHS (In 2009 Inflation-Adjusted Dollars) - Civilian population 18 years and over with income_100scale',\n",
       " 'ACS_09_S2101_HC02_EST_VC30_Veterans; Estimate; MEDIAN INCOME IN THE PAST 12 MONTHS (In 2009 Inflation-Adjusted Dollars) - Civilian population 18 years and over with income - Male_100scale',\n",
       " 'ACS_09_S2101_HC03_EST_VC30_Nonveterans; Estimate; MEDIAN INCOME IN THE PAST 12 MONTHS (In 2009 Inflation-Adjusted Dollars) - Civilian population 18 years and over with income - Male_100scale',\n",
       " 'ACS_09_S2101_HC02_EST_VC31_Veterans; Estimate; MEDIAN INCOME IN THE PAST 12 MONTHS (In 2009 Inflation-Adjusted Dollars) - Civilian population 18 years and over with income - Female_100scale',\n",
       " 'ACS_09_S2101_HC03_EST_VC31_Nonveterans; Estimate; MEDIAN INCOME IN THE PAST 12 MONTHS (In 2009 Inflation-Adjusted Dollars) - Civilian population 18 years and over with income - Female_100scale',\n",
       " 'ACS_09_S2101_HC01_EST_VC33_Total; Estimate; EDUCATIONAL ATTAINMENT - Civilian population 25 years and over_100scale',\n",
       " 'ACS_09_S2101_HC02_EST_VC33_Veterans; Estimate; EDUCATIONAL ATTAINMENT - Civilian population 25 years and over_100scale',\n",
       " 'ACS_09_S2101_HC03_EST_VC33_Nonveterans; Estimate; EDUCATIONAL ATTAINMENT - Civilian population 25 years and over_100scale',\n",
       " 'ACS_09_S2101_HC01_EST_VC34_Total; Estimate; EDUCATIONAL ATTAINMENT - Civilian population 25 years and over - Less than high school graduate_100scale',\n",
       " 'ACS_09_S2101_HC02_EST_VC34_Veterans; Estimate; EDUCATIONAL ATTAINMENT - Civilian population 25 years and over - Less than high school graduate_100scale',\n",
       " 'ACS_09_S2101_HC03_EST_VC34_Nonveterans; Estimate; EDUCATIONAL ATTAINMENT - Civilian population 25 years and over - Less than high school graduate_100scale',\n",
       " 'ACS_09_S2101_HC01_EST_VC35_Total; Estimate; EDUCATIONAL ATTAINMENT - Civilian population 25 years and over - High school graduate (includes equivalency)_100scale',\n",
       " 'ACS_09_S2101_HC02_EST_VC35_Veterans; Estimate; EDUCATIONAL ATTAINMENT - Civilian population 25 years and over - High school graduate (includes equivalency)_100scale',\n",
       " 'ACS_09_S2101_HC03_EST_VC35_Nonveterans; Estimate; EDUCATIONAL ATTAINMENT - Civilian population 25 years and over - High school graduate (includes equivalency)_100scale',\n",
       " \"ACS_09_S2101_HC01_EST_VC36_Total; Estimate; EDUCATIONAL ATTAINMENT - Civilian population 25 years and over - Some college or associate's degree_100scale\",\n",
       " \"ACS_09_S2101_HC02_EST_VC36_Veterans; Estimate; EDUCATIONAL ATTAINMENT - Civilian population 25 years and over - Some college or associate's degree_100scale\",\n",
       " \"ACS_09_S2101_HC03_EST_VC36_Nonveterans; Estimate; EDUCATIONAL ATTAINMENT - Civilian population 25 years and over - Some college or associate's degree_100scale\",\n",
       " \"ACS_09_S2101_HC01_EST_VC37_Total; Estimate; EDUCATIONAL ATTAINMENT - Civilian population 25 years and over - Bachelor's degree or higher_100scale\",\n",
       " \"ACS_09_S2101_HC02_EST_VC37_Veterans; Estimate; EDUCATIONAL ATTAINMENT - Civilian population 25 years and over - Bachelor's degree or higher_100scale\",\n",
       " \"ACS_09_S2101_HC03_EST_VC37_Nonveterans; Estimate; EDUCATIONAL ATTAINMENT - Civilian population 25 years and over - Bachelor's degree or higher_100scale\",\n",
       " 'ACS_09_S2101_HC01_EST_VC39_Total; Estimate; EMPLOYMENT STATUS - Civilian population 18 to 64 years_100scale',\n",
       " 'ACS_09_S2101_HC02_EST_VC39_Veterans; Estimate; EMPLOYMENT STATUS - Civilian population 18 to 64 years_100scale',\n",
       " 'ACS_09_S2101_HC03_EST_VC39_Nonveterans; Estimate; EMPLOYMENT STATUS - Civilian population 18 to 64 years_100scale',\n",
       " 'ACS_09_S2101_HC01_EST_VC40_Total; Estimate; EMPLOYMENT STATUS - Civilian population 18 to 64 years - Labor force participation rate_100scale',\n",
       " 'ACS_09_S2101_HC02_EST_VC40_Veterans; Estimate; EMPLOYMENT STATUS - Civilian population 18 to 64 years - Labor force participation rate_100scale',\n",
       " 'ACS_09_S2101_HC03_EST_VC40_Nonveterans; Estimate; EMPLOYMENT STATUS - Civilian population 18 to 64 years - Labor force participation rate_100scale',\n",
       " 'ACS_09_S2101_HC01_EST_VC41_Total; Estimate; EMPLOYMENT STATUS - Civilian labor force 18 to 64 years_100scale',\n",
       " 'ACS_09_S2101_HC02_EST_VC41_Veterans; Estimate; EMPLOYMENT STATUS - Civilian labor force 18 to 64 years_100scale',\n",
       " 'ACS_09_S2101_HC03_EST_VC41_Nonveterans; Estimate; EMPLOYMENT STATUS - Civilian labor force 18 to 64 years_100scale',\n",
       " 'ACS_09_S2101_HC01_EST_VC42_Total; Estimate; EMPLOYMENT STATUS - Civilian labor force 18 to 64 years - Unemployment rate_100scale',\n",
       " 'ACS_09_S2101_HC02_EST_VC42_Veterans; Estimate; EMPLOYMENT STATUS - Civilian labor force 18 to 64 years - Unemployment rate_100scale',\n",
       " 'ACS_09_S2101_HC03_EST_VC42_Nonveterans; Estimate; EMPLOYMENT STATUS - Civilian labor force 18 to 64 years - Unemployment rate_100scale',\n",
       " 'ACS_09_S2101_HC01_EST_VC50_Total; Estimate; PERCENT IMPUTED - Veteran status for the population 18 years and over_100scale',\n",
       " 'ACS_09_S2101_HC01_EST_VC51_Total; Estimate; PERCENT IMPUTED - Period of service for the civilian veteran population 18 years and over_100scale',\n",
       " 'ACS_09_S2201_HC01_EST_VC01_Total; Estimate; Households_100scale',\n",
       " 'ACS_09_S2201_HC02_EST_VC01_Households receiving food stamps; Estimate; Households_100scale',\n",
       " 'ACS_09_S2201_HC03_EST_VC01_Households not receiving food stamps; Estimate; Households_100scale',\n",
       " 'ACS_09_S2201_HC01_EST_VC02_Total; Estimate; Households - With one or more people 60 years and over_100scale',\n",
       " 'ACS_09_S2201_HC02_EST_VC02_Households receiving food stamps; Estimate; Households - With one or more people 60 years and over_100scale',\n",
       " 'ACS_09_S2201_HC03_EST_VC02_Households not receiving food stamps; Estimate; Households - With one or more people 60 years and over_100scale',\n",
       " 'ACS_09_S2201_HC01_EST_VC03_Total; Estimate; Households - With children under 18 years_100scale',\n",
       " 'ACS_09_S2201_HC02_EST_VC03_Households receiving food stamps; Estimate; Households - With children under 18 years_100scale',\n",
       " 'ACS_09_S2201_HC03_EST_VC03_Households not receiving food stamps; Estimate; Households - With children under 18 years_100scale',\n",
       " 'ACS_09_S2201_HC01_EST_VC05_Total; Estimate; Households - POVERTY STATUS IN THE PAST 12 MONTHS - Below poverty level_100scale',\n",
       " 'ACS_09_S2201_HC02_EST_VC05_Households receiving food stamps; Estimate; Households - POVERTY STATUS IN THE PAST 12 MONTHS - Below poverty level_100scale',\n",
       " 'ACS_09_S2201_HC03_EST_VC05_Households not receiving food stamps; Estimate; Households - POVERTY STATUS IN THE PAST 12 MONTHS - Below poverty level_100scale',\n",
       " 'ACS_09_S2201_HC01_EST_VC09_Total; Estimate; Households - RACE AND HISPANIC OR LATINO ORIGIN OF HOUSEHOLDER - One race_100scale',\n",
       " 'ACS_09_S2201_HC02_EST_VC09_Households receiving food stamps; Estimate; Households - RACE AND HISPANIC OR LATINO ORIGIN OF HOUSEHOLDER - One race_100scale',\n",
       " 'ACS_09_S2201_HC03_EST_VC09_Households not receiving food stamps; Estimate; Households - RACE AND HISPANIC OR LATINO ORIGIN OF HOUSEHOLDER - One race_100scale',\n",
       " 'ACS_09_S2201_HC01_EST_VC10_Total; Estimate; Households - RACE AND HISPANIC OR LATINO ORIGIN OF HOUSEHOLDER - One race - White_100scale',\n",
       " 'ACS_09_S2201_HC02_EST_VC10_Households receiving food stamps; Estimate; Households - RACE AND HISPANIC OR LATINO ORIGIN OF HOUSEHOLDER - One race - White_100scale',\n",
       " 'ACS_09_S2201_HC03_EST_VC10_Households not receiving food stamps; Estimate; Households - RACE AND HISPANIC OR LATINO ORIGIN OF HOUSEHOLDER - One race - White_100scale',\n",
       " 'ACS_09_S2201_HC01_EST_VC11_Total; Estimate; Households - RACE AND HISPANIC OR LATINO ORIGIN OF HOUSEHOLDER - One race - Black or African American_100scale',\n",
       " 'ACS_09_S2201_HC02_EST_VC11_Households receiving food stamps; Estimate; Households - RACE AND HISPANIC OR LATINO ORIGIN OF HOUSEHOLDER - One race - Black or African American_100scale',\n",
       " 'ACS_09_S2201_HC03_EST_VC11_Households not receiving food stamps; Estimate; Households - RACE AND HISPANIC OR LATINO ORIGIN OF HOUSEHOLDER - One race - Black or African American_100scale',\n",
       " 'ACS_09_S2201_HC01_EST_VC12_Total; Estimate; Households - RACE AND HISPANIC OR LATINO ORIGIN OF HOUSEHOLDER - One race - American Indian and Alaska Native_100scale',\n",
       " 'ACS_09_S2201_HC02_EST_VC12_Households receiving food stamps; Estimate; Households - RACE AND HISPANIC OR LATINO ORIGIN OF HOUSEHOLDER - One race - American Indian and Alaska Native_100scale',\n",
       " 'ACS_09_S2201_HC03_EST_VC12_Households not receiving food stamps; Estimate; Households - RACE AND HISPANIC OR LATINO ORIGIN OF HOUSEHOLDER - One race - American Indian and Alaska Native_100scale',\n",
       " 'ACS_09_S2201_HC01_EST_VC13_Total; Estimate; Households - RACE AND HISPANIC OR LATINO ORIGIN OF HOUSEHOLDER - One race - Asian_100scale',\n",
       " 'ACS_09_S2201_HC02_EST_VC13_Households receiving food stamps; Estimate; Households - RACE AND HISPANIC OR LATINO ORIGIN OF HOUSEHOLDER - One race - Asian_100scale',\n",
       " 'ACS_09_S2201_HC03_EST_VC13_Households not receiving food stamps; Estimate; Households - RACE AND HISPANIC OR LATINO ORIGIN OF HOUSEHOLDER - One race - Asian_100scale',\n",
       " 'ACS_09_S2201_HC01_EST_VC14_Total; Estimate; Households - RACE AND HISPANIC OR LATINO ORIGIN OF HOUSEHOLDER - One race - Native Hawaiian and Other Pacific Islander_100scale',\n",
       " 'ACS_09_S2201_HC02_EST_VC14_Households receiving food stamps; Estimate; Households - RACE AND HISPANIC OR LATINO ORIGIN OF HOUSEHOLDER - One race - Native Hawaiian and Other Pacific Islander_100scale',\n",
       " 'ACS_09_S2201_HC03_EST_VC14_Households not receiving food stamps; Estimate; Households - RACE AND HISPANIC OR LATINO ORIGIN OF HOUSEHOLDER - One race - Native Hawaiian and Other Pacific Islander_100scale',\n",
       " 'ACS_09_S2201_HC01_EST_VC15_Total; Estimate; Households - RACE AND HISPANIC OR LATINO ORIGIN OF HOUSEHOLDER - One race - Some other race_100scale',\n",
       " 'ACS_09_S2201_HC02_EST_VC15_Households receiving food stamps; Estimate; Households - RACE AND HISPANIC OR LATINO ORIGIN OF HOUSEHOLDER - One race - Some other race_100scale',\n",
       " 'ACS_09_S2201_HC03_EST_VC15_Households not receiving food stamps; Estimate; Households - RACE AND HISPANIC OR LATINO ORIGIN OF HOUSEHOLDER - One race - Some other race_100scale',\n",
       " 'ACS_09_S2201_HC01_EST_VC16_Total; Estimate; Households - RACE AND HISPANIC OR LATINO ORIGIN OF HOUSEHOLDER - Two or more races_100scale',\n",
       " 'ACS_09_S2201_HC02_EST_VC16_Households receiving food stamps; Estimate; Households - RACE AND HISPANIC OR LATINO ORIGIN OF HOUSEHOLDER - Two or more races_100scale',\n",
       " 'ACS_09_S2201_HC03_EST_VC16_Households not receiving food stamps; Estimate; Households - RACE AND HISPANIC OR LATINO ORIGIN OF HOUSEHOLDER - Two or more races_100scale',\n",
       " 'ACS_09_S2201_HC01_EST_VC17_Total; Estimate; Households - RACE AND HISPANIC OR LATINO ORIGIN OF HOUSEHOLDER - Hispanic or Latino origin (of any race)_100scale',\n",
       " 'ACS_09_S2201_HC02_EST_VC17_Households receiving food stamps; Estimate; Households - RACE AND HISPANIC OR LATINO ORIGIN OF HOUSEHOLDER - Hispanic or Latino origin (of any race)_100scale',\n",
       " 'ACS_09_S2201_HC03_EST_VC17_Households not receiving food stamps; Estimate; Households - RACE AND HISPANIC OR LATINO ORIGIN OF HOUSEHOLDER - Hispanic or Latino origin (of any race)_100scale',\n",
       " 'ACS_09_S2201_HC01_EST_VC18_Total; Estimate; Households - RACE AND HISPANIC OR LATINO ORIGIN OF HOUSEHOLDER - White alone, not Hispanic or Latino_100scale',\n",
       " 'ACS_09_S2201_HC02_EST_VC18_Households receiving food stamps; Estimate; Households - RACE AND HISPANIC OR LATINO ORIGIN OF HOUSEHOLDER - White alone, not Hispanic or Latino_100scale',\n",
       " 'ACS_09_S2201_HC03_EST_VC18_Households not receiving food stamps; Estimate; Households - RACE AND HISPANIC OR LATINO ORIGIN OF HOUSEHOLDER - White alone, not Hispanic or Latino_100scale',\n",
       " 'ACS_09_S2201_HC01_EST_VC20_Total; Estimate; Households - HOUSEHOLD INCOME IN THE PAST 12 MONTHS (IN 2009 INFLATION-ADJUSTED DOLLARS) - Median income (dollars)_100scale',\n",
       " 'ACS_09_S2201_HC02_EST_VC20_Households receiving food stamps; Estimate; Households - HOUSEHOLD INCOME IN THE PAST 12 MONTHS (IN 2009 INFLATION-ADJUSTED DOLLARS) - Median income (dollars)_100scale',\n",
       " 'ACS_09_S2201_HC03_EST_VC20_Households not receiving food stamps; Estimate; Households - HOUSEHOLD INCOME IN THE PAST 12 MONTHS (IN 2009 INFLATION-ADJUSTED DOLLARS) - Median income (dollars)_100scale',\n",
       " 'ACS_09_S2201_HC01_EST_VC22_Total; Estimate; WORK STATUS - Families_100scale',\n",
       " 'ACS_09_S2201_HC02_EST_VC22_Households receiving food stamps; Estimate; WORK STATUS - Families_100scale',\n",
       " 'ACS_09_S2201_HC03_EST_VC22_Households not receiving food stamps; Estimate; WORK STATUS - Families_100scale',\n",
       " 'ACS_09_S2201_HC01_EST_VC23_Total; Estimate; WORK STATUS - Families - No workers in past 12 months_100scale',\n",
       " 'ACS_09_S2201_HC02_EST_VC23_Households receiving food stamps; Estimate; WORK STATUS - Families - No workers in past 12 months_100scale',\n",
       " 'ACS_09_S2201_HC03_EST_VC23_Households not receiving food stamps; Estimate; WORK STATUS - Families - No workers in past 12 months_100scale',\n",
       " 'ACS_09_S2201_HC01_EST_VC24_Total; Estimate; WORK STATUS - Families - 1 worker in past 12 months_100scale',\n",
       " 'ACS_09_S2201_HC02_EST_VC24_Households receiving food stamps; Estimate; WORK STATUS - Families - 1 worker in past 12 months_100scale',\n",
       " 'ACS_09_S2201_HC03_EST_VC24_Households not receiving food stamps; Estimate; WORK STATUS - Families - 1 worker in past 12 months_100scale',\n",
       " 'ACS_09_S2201_HC01_EST_VC25_Total; Estimate; WORK STATUS - Families - 2 or more workers in past 12 months_100scale',\n",
       " 'ACS_09_S2201_HC02_EST_VC25_Households receiving food stamps; Estimate; WORK STATUS - Families - 2 or more workers in past 12 months_100scale',\n",
       " 'ACS_09_S2201_HC03_EST_VC25_Households not receiving food stamps; Estimate; WORK STATUS - Families - 2 or more workers in past 12 months_100scale',\n",
       " 'ACS_09_S2201_HC01_EST_VC27_Total; Estimate; PERCENT IMPUTED - Food stamp/SNAP recipiency_100scale']"
      ]
     },
     "execution_count": 124,
     "metadata": {},
     "output_type": "execute_result"
    }
   ],
   "source": [
    "list(gentrification.columns.unique())"
   ]
  },
  {
   "cell_type": "code",
   "execution_count": 5,
   "metadata": {
    "collapsed": false
   },
   "outputs": [],
   "source": [
    "gentrification.columns = [x.strip().replace(' ', '_') for x in gentrification.columns]"
   ]
  },
  {
   "cell_type": "code",
   "execution_count": 6,
   "metadata": {
    "collapsed": false
   },
   "outputs": [],
   "source": [
    "gentrification.columns = [x.strip().replace( ';' , '_') for x in gentrification.columns]"
   ]
  },
  {
   "cell_type": "code",
   "execution_count": 7,
   "metadata": {
    "collapsed": false
   },
   "outputs": [],
   "source": [
    "gentrification.columns = [x.strip().replace( '-' , '') for x in gentrification.columns]"
   ]
  },
  {
   "cell_type": "code",
   "execution_count": 8,
   "metadata": {
    "collapsed": true
   },
   "outputs": [],
   "source": [
    "gentrification.columns = [x.strip().replace( ':' , '') for x in gentrification.columns]"
   ]
  },
  {
   "cell_type": "code",
   "execution_count": 9,
   "metadata": {
    "collapsed": false
   },
   "outputs": [],
   "source": [
    "gentrification.columns = [x.strip().replace( '(' , '') and x.strip().replace( ')' , '') for x in gentrification.columns]"
   ]
  },
  {
   "cell_type": "code",
   "execution_count": 10,
   "metadata": {
    "collapsed": false
   },
   "outputs": [
    {
     "data": {
      "text/plain": [
       "dtype('bool')"
      ]
     },
     "execution_count": 10,
     "metadata": {},
     "output_type": "execute_result"
    }
   ],
   "source": [
    "gentrification.GENTRIFIED.dtype"
   ]
  },
  {
   "cell_type": "code",
   "execution_count": 11,
   "metadata": {
    "collapsed": true
   },
   "outputs": [],
   "source": [
    "gentrification.GENTRIFIED = gentrification.GENTRIFIED.apply(lambda x: x.astype(np.int64))"
   ]
  },
  {
   "cell_type": "code",
   "execution_count": 12,
   "metadata": {
    "collapsed": true
   },
   "outputs": [],
   "source": [
    "median_features = gentrification.dropna().median()\n",
    "mean_features = gentrification.dropna().mean()"
   ]
  },
  {
   "cell_type": "code",
   "execution_count": 13,
   "metadata": {
    "collapsed": false
   },
   "outputs": [],
   "source": [
    "# imputed_features = gentrification.fillna(median_features)\n",
    "imputed_mean_features = gentrification.fillna(mean_features)"
   ]
  },
  {
   "cell_type": "code",
   "execution_count": 149,
   "metadata": {
    "collapsed": true
   },
   "outputs": [],
   "source": [
    "target = imputed_features.GENTRIFIED.values #target array contains 613 counts"
   ]
  },
  {
   "cell_type": "code",
   "execution_count": 150,
   "metadata": {
    "collapsed": true
   },
   "outputs": [],
   "source": [
    "imputed_features = imputed_features.loc[:, (imputed_features != 0).any(axis=0)]"
   ]
  },
  {
   "cell_type": "code",
   "execution_count": 154,
   "metadata": {
    "collapsed": false
   },
   "outputs": [
    {
     "data": {
      "text/plain": [
       "(613, 494)"
      ]
     },
     "execution_count": 154,
     "metadata": {},
     "output_type": "execute_result"
    }
   ],
   "source": [
    "imputed_features.shape"
   ]
  },
  {
   "cell_type": "code",
   "execution_count": 158,
   "metadata": {
    "collapsed": false
   },
   "outputs": [],
   "source": [
    "imputed_features.drop(imputed_features.columns[[0]], axis=1, inplace=True)"
   ]
  },
  {
   "cell_type": "code",
   "execution_count": 161,
   "metadata": {
    "collapsed": false
   },
   "outputs": [
    {
     "data": {
      "text/html": [
       "<div>\n",
       "<table border=\"1\" class=\"dataframe\">\n",
       "  <thead>\n",
       "    <tr style=\"text-align: right;\">\n",
       "      <th></th>\n",
       "      <th>GENTRIFIED</th>\n",
       "      <th>ACS_09_B08303_HD01_VD01_Estimate__Total_100scale</th>\n",
       "      <th>ACS_09_B08303_HD01_VD02_Estimate__Less_than_5_minutes_100scale</th>\n",
       "      <th>ACS_09_B08303_HD01_VD03_Estimate__5_to_9_minutes_100scale</th>\n",
       "      <th>ACS_09_B08303_HD01_VD04_Estimate__10_to_14_minutes_100scale</th>\n",
       "      <th>ACS_09_B08303_HD01_VD05_Estimate__15_to_19_minutes_100scale</th>\n",
       "      <th>ACS_09_B08303_HD01_VD06_Estimate__20_to_24_minutes_100scale</th>\n",
       "      <th>ACS_09_B08303_HD01_VD07_Estimate__25_to_29_minutes_100scale</th>\n",
       "      <th>ACS_09_B08303_HD01_VD08_Estimate__30_to_34_minutes_100scale</th>\n",
       "      <th>ACS_09_B08303_HD01_VD09_Estimate__35_to_39_minutes_100scale</th>\n",
       "      <th>...</th>\n",
       "      <th>ACS_09_S2201_HC01_EST_VC23_Total__Estimate__WORK_STATUS__Families__No_workers_in_past_12_months_100scale</th>\n",
       "      <th>ACS_09_S2201_HC02_EST_VC23_Households_receiving_food_stamps__Estimate__WORK_STATUS__Families__No_workers_in_past_12_months_100scale</th>\n",
       "      <th>ACS_09_S2201_HC03_EST_VC23_Households_not_receiving_food_stamps__Estimate__WORK_STATUS__Families__No_workers_in_past_12_months_100scale</th>\n",
       "      <th>ACS_09_S2201_HC01_EST_VC24_Total__Estimate__WORK_STATUS__Families__1_worker_in_past_12_months_100scale</th>\n",
       "      <th>ACS_09_S2201_HC02_EST_VC24_Households_receiving_food_stamps__Estimate__WORK_STATUS__Families__1_worker_in_past_12_months_100scale</th>\n",
       "      <th>ACS_09_S2201_HC03_EST_VC24_Households_not_receiving_food_stamps__Estimate__WORK_STATUS__Families__1_worker_in_past_12_months_100scale</th>\n",
       "      <th>ACS_09_S2201_HC01_EST_VC25_Total__Estimate__WORK_STATUS__Families__2_or_more_workers_in_past_12_months_100scale</th>\n",
       "      <th>ACS_09_S2201_HC02_EST_VC25_Households_receiving_food_stamps__Estimate__WORK_STATUS__Families__2_or_more_workers_in_past_12_months_100scale</th>\n",
       "      <th>ACS_09_S2201_HC03_EST_VC25_Households_not_receiving_food_stamps__Estimate__WORK_STATUS__Families__2_or_more_workers_in_past_12_months_100scale</th>\n",
       "      <th>ACS_09_S2201_HC01_EST_VC27_Total__Estimate__PERCENT_IMPUTED__Food_stamp/SNAP_recipiency_100scale</th>\n",
       "    </tr>\n",
       "  </thead>\n",
       "  <tbody>\n",
       "    <tr>\n",
       "      <th>0</th>\n",
       "      <td>0</td>\n",
       "      <td>27.11</td>\n",
       "      <td>13.69</td>\n",
       "      <td>7.53</td>\n",
       "      <td>13.63</td>\n",
       "      <td>14.93</td>\n",
       "      <td>15.25</td>\n",
       "      <td>6.68</td>\n",
       "      <td>20.02</td>\n",
       "      <td>29.18</td>\n",
       "      <td>...</td>\n",
       "      <td>24.36</td>\n",
       "      <td>23.5</td>\n",
       "      <td>21.27</td>\n",
       "      <td>77.86</td>\n",
       "      <td>54.1</td>\n",
       "      <td>65.90</td>\n",
       "      <td>39.14</td>\n",
       "      <td>22.4</td>\n",
       "      <td>41.36</td>\n",
       "      <td>10.99</td>\n",
       "    </tr>\n",
       "    <tr>\n",
       "      <th>1</th>\n",
       "      <td>0</td>\n",
       "      <td>14.02</td>\n",
       "      <td>0.00</td>\n",
       "      <td>5.72</td>\n",
       "      <td>0.71</td>\n",
       "      <td>8.69</td>\n",
       "      <td>19.06</td>\n",
       "      <td>7.98</td>\n",
       "      <td>12.56</td>\n",
       "      <td>0.00</td>\n",
       "      <td>...</td>\n",
       "      <td>63.82</td>\n",
       "      <td>63.2</td>\n",
       "      <td>32.55</td>\n",
       "      <td>74.41</td>\n",
       "      <td>32.3</td>\n",
       "      <td>81.17</td>\n",
       "      <td>16.00</td>\n",
       "      <td>4.5</td>\n",
       "      <td>22.55</td>\n",
       "      <td>43.96</td>\n",
       "    </tr>\n",
       "    <tr>\n",
       "      <th>2</th>\n",
       "      <td>0</td>\n",
       "      <td>5.35</td>\n",
       "      <td>0.00</td>\n",
       "      <td>11.14</td>\n",
       "      <td>7.79</td>\n",
       "      <td>2.69</td>\n",
       "      <td>4.15</td>\n",
       "      <td>1.60</td>\n",
       "      <td>7.35</td>\n",
       "      <td>3.93</td>\n",
       "      <td>...</td>\n",
       "      <td>0.00</td>\n",
       "      <td>0.0</td>\n",
       "      <td>0.00</td>\n",
       "      <td>60.44</td>\n",
       "      <td>79.3</td>\n",
       "      <td>22.84</td>\n",
       "      <td>66.00</td>\n",
       "      <td>20.7</td>\n",
       "      <td>87.62</td>\n",
       "      <td>65.93</td>\n",
       "    </tr>\n",
       "  </tbody>\n",
       "</table>\n",
       "<p>3 rows × 493 columns</p>\n",
       "</div>"
      ],
      "text/plain": [
       "   GENTRIFIED  ACS_09_B08303_HD01_VD01_Estimate__Total_100scale  \\\n",
       "0           0                                             27.11   \n",
       "1           0                                             14.02   \n",
       "2           0                                              5.35   \n",
       "\n",
       "   ACS_09_B08303_HD01_VD02_Estimate__Less_than_5_minutes_100scale  \\\n",
       "0                                              13.69                \n",
       "1                                               0.00                \n",
       "2                                               0.00                \n",
       "\n",
       "   ACS_09_B08303_HD01_VD03_Estimate__5_to_9_minutes_100scale  \\\n",
       "0                                               7.53           \n",
       "1                                               5.72           \n",
       "2                                              11.14           \n",
       "\n",
       "   ACS_09_B08303_HD01_VD04_Estimate__10_to_14_minutes_100scale  \\\n",
       "0                                              13.63             \n",
       "1                                               0.71             \n",
       "2                                               7.79             \n",
       "\n",
       "   ACS_09_B08303_HD01_VD05_Estimate__15_to_19_minutes_100scale  \\\n",
       "0                                              14.93             \n",
       "1                                               8.69             \n",
       "2                                               2.69             \n",
       "\n",
       "   ACS_09_B08303_HD01_VD06_Estimate__20_to_24_minutes_100scale  \\\n",
       "0                                              15.25             \n",
       "1                                              19.06             \n",
       "2                                               4.15             \n",
       "\n",
       "   ACS_09_B08303_HD01_VD07_Estimate__25_to_29_minutes_100scale  \\\n",
       "0                                               6.68             \n",
       "1                                               7.98             \n",
       "2                                               1.60             \n",
       "\n",
       "   ACS_09_B08303_HD01_VD08_Estimate__30_to_34_minutes_100scale  \\\n",
       "0                                              20.02             \n",
       "1                                              12.56             \n",
       "2                                               7.35             \n",
       "\n",
       "   ACS_09_B08303_HD01_VD09_Estimate__35_to_39_minutes_100scale  \\\n",
       "0                                              29.18             \n",
       "1                                               0.00             \n",
       "2                                               3.93             \n",
       "\n",
       "                                                 ...                                                 \\\n",
       "0                                                ...                                                  \n",
       "1                                                ...                                                  \n",
       "2                                                ...                                                  \n",
       "\n",
       "   ACS_09_S2201_HC01_EST_VC23_Total__Estimate__WORK_STATUS__Families__No_workers_in_past_12_months_100scale  \\\n",
       "0                                              24.36                                                          \n",
       "1                                              63.82                                                          \n",
       "2                                               0.00                                                          \n",
       "\n",
       "   ACS_09_S2201_HC02_EST_VC23_Households_receiving_food_stamps__Estimate__WORK_STATUS__Families__No_workers_in_past_12_months_100scale  \\\n",
       "0                                               23.5                                                                                     \n",
       "1                                               63.2                                                                                     \n",
       "2                                                0.0                                                                                     \n",
       "\n",
       "   ACS_09_S2201_HC03_EST_VC23_Households_not_receiving_food_stamps__Estimate__WORK_STATUS__Families__No_workers_in_past_12_months_100scale  \\\n",
       "0                                              21.27                                                                                         \n",
       "1                                              32.55                                                                                         \n",
       "2                                               0.00                                                                                         \n",
       "\n",
       "   ACS_09_S2201_HC01_EST_VC24_Total__Estimate__WORK_STATUS__Families__1_worker_in_past_12_months_100scale  \\\n",
       "0                                              77.86                                                        \n",
       "1                                              74.41                                                        \n",
       "2                                              60.44                                                        \n",
       "\n",
       "   ACS_09_S2201_HC02_EST_VC24_Households_receiving_food_stamps__Estimate__WORK_STATUS__Families__1_worker_in_past_12_months_100scale  \\\n",
       "0                                               54.1                                                                                   \n",
       "1                                               32.3                                                                                   \n",
       "2                                               79.3                                                                                   \n",
       "\n",
       "   ACS_09_S2201_HC03_EST_VC24_Households_not_receiving_food_stamps__Estimate__WORK_STATUS__Families__1_worker_in_past_12_months_100scale  \\\n",
       "0                                              65.90                                                                                       \n",
       "1                                              81.17                                                                                       \n",
       "2                                              22.84                                                                                       \n",
       "\n",
       "   ACS_09_S2201_HC01_EST_VC25_Total__Estimate__WORK_STATUS__Families__2_or_more_workers_in_past_12_months_100scale  \\\n",
       "0                                              39.14                                                                 \n",
       "1                                              16.00                                                                 \n",
       "2                                              66.00                                                                 \n",
       "\n",
       "   ACS_09_S2201_HC02_EST_VC25_Households_receiving_food_stamps__Estimate__WORK_STATUS__Families__2_or_more_workers_in_past_12_months_100scale  \\\n",
       "0                                               22.4                                                                                            \n",
       "1                                                4.5                                                                                            \n",
       "2                                               20.7                                                                                            \n",
       "\n",
       "   ACS_09_S2201_HC03_EST_VC25_Households_not_receiving_food_stamps__Estimate__WORK_STATUS__Families__2_or_more_workers_in_past_12_months_100scale  \\\n",
       "0                                              41.36                                                                                                \n",
       "1                                              22.55                                                                                                \n",
       "2                                              87.62                                                                                                \n",
       "\n",
       "   ACS_09_S2201_HC01_EST_VC27_Total__Estimate__PERCENT_IMPUTED__Food_stamp/SNAP_recipiency_100scale  \n",
       "0                                              10.99                                                 \n",
       "1                                              43.96                                                 \n",
       "2                                              65.93                                                 \n",
       "\n",
       "[3 rows x 493 columns]"
      ]
     },
     "execution_count": 161,
     "metadata": {},
     "output_type": "execute_result"
    }
   ],
   "source": [
    "imputed_features.head(3)"
   ]
  },
  {
   "cell_type": "code",
   "execution_count": 168,
   "metadata": {
    "collapsed": true
   },
   "outputs": [],
   "source": [
    "imputed_features = imputed_features.applymap(np.int64)"
   ]
  },
  {
   "cell_type": "code",
   "execution_count": 184,
   "metadata": {
    "collapsed": true
   },
   "outputs": [],
   "source": [
    "imputed_features.to_csv(\"cleaned_imputed_features.csv\", encoding='utf-8', index=False)"
   ]
  },
  {
   "cell_type": "code",
   "execution_count": 3,
   "metadata": {
    "collapsed": false
   },
   "outputs": [],
   "source": [
    "cleaned_features = pd.read_csv(\"cleaned_imputed_features.csv\", encoding='utf-8')"
   ]
  },
  {
   "cell_type": "code",
   "execution_count": 36,
   "metadata": {
    "collapsed": true
   },
   "outputs": [],
   "source": [
    "cleaned_features.to_csv('all_features.txt', encoding='utf-8', header=False, index=False) "
   ]
  },
  {
   "cell_type": "code",
   "execution_count": 11,
   "metadata": {
    "collapsed": false
   },
   "outputs": [],
   "source": [
    "features_array  = cleaned_features.values"
   ]
  },
  {
   "cell_type": "code",
   "execution_count": 12,
   "metadata": {
    "collapsed": false
   },
   "outputs": [],
   "source": [
    "target = cleaned_features.GENTRIFIED.values"
   ]
  },
  {
   "cell_type": "code",
   "execution_count": 13,
   "metadata": {
    "collapsed": true
   },
   "outputs": [],
   "source": [
    "from sklearn.cross_validation import train_test_split\n",
    "\n",
    "features_train, features_test, target_train, target_test = train_test_split(\n",
    "    features_array, target, test_size=0.20, random_state=0)"
   ]
  },
  {
   "cell_type": "code",
   "execution_count": 14,
   "metadata": {
    "collapsed": false
   },
   "outputs": [
    {
     "data": {
      "text/plain": [
       "LogisticRegression(C=1, class_weight=None, dual=False, fit_intercept=True,\n",
       "          intercept_scaling=1, max_iter=100, multi_class='ovr',\n",
       "          penalty='l2', random_state=None, solver='liblinear', tol=0.0001,\n",
       "          verbose=0)"
      ]
     },
     "execution_count": 14,
     "metadata": {},
     "output_type": "execute_result"
    }
   ],
   "source": [
    "from sklearn.linear_model import LogisticRegression\n",
    "\n",
    "logreg = LogisticRegression(C=1)\n",
    "logreg.fit(features_train, target_train)"
   ]
  },
  {
   "cell_type": "code",
   "execution_count": 15,
   "metadata": {
    "collapsed": true
   },
   "outputs": [],
   "source": [
    "target_predicted = logreg.predict(features_test)"
   ]
  },
  {
   "cell_type": "code",
   "execution_count": 16,
   "metadata": {
    "collapsed": false
   },
   "outputs": [
    {
     "data": {
      "text/plain": [
       "0.86991869918699183"
      ]
     },
     "execution_count": 16,
     "metadata": {},
     "output_type": "execute_result"
    }
   ],
   "source": [
    "from sklearn.metrics import accuracy_score\n",
    "\n",
    "accuracy_score(target_test, target_predicted)"
   ]
  },
  {
   "cell_type": "code",
   "execution_count": 17,
   "metadata": {
    "collapsed": false
   },
   "outputs": [
    {
     "data": {
      "text/plain": [
       "0.86991869918699183"
      ]
     },
     "execution_count": 17,
     "metadata": {},
     "output_type": "execute_result"
    }
   ],
   "source": [
    "logreg.score(features_test, target_test)"
   ]
  },
  {
   "cell_type": "code",
   "execution_count": 19,
   "metadata": {
    "collapsed": false
   },
   "outputs": [],
   "source": [
    "feature_names = cleaned_features.columns"
   ]
  },
  {
   "cell_type": "code",
   "execution_count": 20,
   "metadata": {
    "collapsed": false
   },
   "outputs": [
    {
     "data": {
      "text/plain": [
       "Index(['GENTRIFIED', 'ACS_09_B08303_HD01_VD01_Estimate__Total_100scale',\n",
       "       'ACS_09_B08303_HD01_VD02_Estimate__Less_than_5_minutes_100scale',\n",
       "       'ACS_09_B08303_HD01_VD03_Estimate__5_to_9_minutes_100scale',\n",
       "       'ACS_09_B08303_HD01_VD04_Estimate__10_to_14_minutes_100scale',\n",
       "       'ACS_09_B08303_HD01_VD05_Estimate__15_to_19_minutes_100scale',\n",
       "       'ACS_09_B08303_HD01_VD06_Estimate__20_to_24_minutes_100scale',\n",
       "       'ACS_09_B08303_HD01_VD07_Estimate__25_to_29_minutes_100scale',\n",
       "       'ACS_09_B08303_HD01_VD08_Estimate__30_to_34_minutes_100scale',\n",
       "       'ACS_09_B08303_HD01_VD09_Estimate__35_to_39_minutes_100scale', \n",
       "       ...\n",
       "       'ACS_09_S2201_HC01_EST_VC23_Total__Estimate__WORK_STATUS__Families__No_workers_in_past_12_months_100scale',\n",
       "       'ACS_09_S2201_HC02_EST_VC23_Households_receiving_food_stamps__Estimate__WORK_STATUS__Families__No_workers_in_past_12_months_100scale',\n",
       "       'ACS_09_S2201_HC03_EST_VC23_Households_not_receiving_food_stamps__Estimate__WORK_STATUS__Families__No_workers_in_past_12_months_100scale',\n",
       "       'ACS_09_S2201_HC01_EST_VC24_Total__Estimate__WORK_STATUS__Families__1_worker_in_past_12_months_100scale',\n",
       "       'ACS_09_S2201_HC02_EST_VC24_Households_receiving_food_stamps__Estimate__WORK_STATUS__Families__1_worker_in_past_12_months_100scale',\n",
       "       'ACS_09_S2201_HC03_EST_VC24_Households_not_receiving_food_stamps__Estimate__WORK_STATUS__Families__1_worker_in_past_12_months_100scale',\n",
       "       'ACS_09_S2201_HC01_EST_VC25_Total__Estimate__WORK_STATUS__Families__2_or_more_workers_in_past_12_months_100scale',\n",
       "       'ACS_09_S2201_HC02_EST_VC25_Households_receiving_food_stamps__Estimate__WORK_STATUS__Families__2_or_more_workers_in_past_12_months_100scale',\n",
       "       'ACS_09_S2201_HC03_EST_VC25_Households_not_receiving_food_stamps__Estimate__WORK_STATUS__Families__2_or_more_workers_in_past_12_months_100scale',\n",
       "       'ACS_09_S2201_HC01_EST_VC27_Total__Estimate__PERCENT_IMPUTED__Food_stamp/SNAP_recipiency_100scale'],\n",
       "      dtype='object', length=493)"
      ]
     },
     "execution_count": 20,
     "metadata": {},
     "output_type": "execute_result"
    }
   ],
   "source": [
    "feature_names"
   ]
  },
  {
   "cell_type": "code",
   "execution_count": 21,
   "metadata": {
    "collapsed": false
   },
   "outputs": [
    {
     "data": {
      "text/plain": [
       "array([[  3.21982701e-33,  -1.62127296e-33,  -1.74844278e-33,\n",
       "          5.48915337e-35,  -1.50615293e-33,  -9.31657849e-34,\n",
       "         -4.07545132e-33,   6.61032571e-33,  -1.15366703e-33,\n",
       "         -8.08109451e-33,   5.95202571e-33,   5.83722996e-33,\n",
       "         -7.36651507e-34,  -1.88765853e-32,  -2.53816638e-33,\n",
       "         -3.89754410e-33,  -7.43992103e-33,   6.04805518e-33,\n",
       "         -1.04039771e-32,  -5.75370514e-33,   4.41743157e-33,\n",
       "         -2.42844718e-32,   8.89479614e-34,  -6.89947059e-34,\n",
       "         -7.44871827e-34,  -7.26469507e-35,  -6.86565249e-33,\n",
       "         -3.18055995e-33,  -1.57679184e-34,  -4.88406471e-34,\n",
       "          4.88391218e-33,   1.09929149e-34,   1.36052381e-33,\n",
       "         -6.96488646e-21,  -2.04060289e-34,   4.95395641e-33,\n",
       "          3.33468085e-33,   7.28094136e-33,  -5.03363393e-33,\n",
       "         -6.10289163e-34,   3.09246317e-33,   1.50230929e-33,\n",
       "          4.48587076e-33,  -6.20264085e-33,  -2.60396681e-34,\n",
       "          5.39614677e-33,  -1.06197286e-32,  -3.41338606e-33,\n",
       "         -6.72803993e-33,   9.95897296e-22,   3.10502520e-20,\n",
       "         -2.19157690e-33,  -1.25574315e-32,  -5.34395291e-33,\n",
       "          5.05216931e-33,  -2.25097089e-33,   3.79204671e-33,\n",
       "         -1.23003177e-32,  -5.21882786e-33,  -1.12445257e-33,\n",
       "          1.17027686e-32,  -7.44240937e-33,   8.83662882e-20,\n",
       "          1.39818752e-34,   9.63603190e-35,   5.63917894e-33,\n",
       "         -1.27084065e-33,   1.98758408e-33,  -2.92161382e-33,\n",
       "          6.31213219e-34,  -1.25557465e-33,  -3.22862443e-33,\n",
       "         -3.07995805e-33,  -4.04810185e-33,  -7.27123630e-33,\n",
       "         -5.28718626e-33,   9.89601071e-33,  -6.04561608e-33,\n",
       "          1.23323506e-32,   1.54528690e-20,   1.18640035e-19,\n",
       "          3.81976417e-20,  -4.14681844e-20,   5.14803360e-20,\n",
       "          7.42432233e-33,   2.16019076e-33,   5.82983234e-33,\n",
       "          5.80167590e-33,   5.84770583e-33,   1.27212089e-32,\n",
       "         -1.13282571e-32,   1.16824746e-32,  -1.93896706e-33,\n",
       "         -3.09306501e-34,   8.48798249e-21,   1.09150064e-19,\n",
       "         -8.79954741e-33,   8.83235259e-33,  -1.89645642e-34,\n",
       "         -5.52218554e-34,   2.50591428e-33,  -1.69178252e-33,\n",
       "         -1.84089113e-33,  -3.09149833e-33,  -5.96096870e-33,\n",
       "          4.26770372e-33,  -3.53279795e-33,   9.70183300e-33,\n",
       "         -6.36790570e-34,  -2.27739910e-33,  -7.78820807e-33,\n",
       "         -4.31699398e-34,   2.11780580e-34,   7.51097577e-33,\n",
       "         -7.88436355e-33,   1.52767432e-32,   8.33042953e-33,\n",
       "         -9.65108253e-33,   9.07682340e-33,  -1.14582695e-34,\n",
       "          3.20499177e-33,   1.81713838e-32,  -4.08468947e-33,\n",
       "         -5.91960803e-33,  -1.13675503e-33,   1.01843039e-33,\n",
       "          9.29206893e-20,   1.09316862e-32,   1.15741025e-33,\n",
       "          2.85850894e-33,  -2.30406174e-34,   2.00016488e-33,\n",
       "          4.55441497e-34,   1.87395884e-33,  -4.18220243e-33,\n",
       "         -2.61438549e-33,   1.20157966e-33,   2.87570924e-33,\n",
       "          2.70281493e-33,  -1.30786076e-33,  -1.49725081e-32,\n",
       "         -4.89348308e-33,   4.45525847e-21,  -9.63177963e-20,\n",
       "          4.27399385e-33,  -1.16929794e-33,  -7.09941119e-33,\n",
       "         -2.82548648e-33,  -1.60196358e-33,   1.02328685e-33,\n",
       "          1.30027958e-33,  -6.56795257e-33,  -6.66056487e-33,\n",
       "         -2.94595957e-33,  -6.65808011e-33,  -1.67746902e-33,\n",
       "         -1.58418008e-32,  -6.72931587e-33,   4.48997145e-20,\n",
       "          4.01633524e-33,  -4.59985965e-33,  -6.96643789e-35,\n",
       "         -8.35615951e-33,  -1.72947700e-32,   5.74493902e-33,\n",
       "         -1.75816489e-32,   1.71206655e-33,  -2.68467039e-33,\n",
       "         -5.33152514e-33,  -3.88703028e-33,   4.48997145e-20,\n",
       "         -2.45910506e-33,   4.80209748e-20,   1.20427147e-19,\n",
       "         -1.97209004e-33,   4.38520380e-33,  -4.98175842e-34,\n",
       "          6.14146659e-33,   9.69435703e-33,  -3.42606435e-33,\n",
       "         -7.64561994e-33,  -1.41051769e-32,   2.04345899e-33,\n",
       "          1.79714509e-34,   2.22699976e-33,  -1.69180201e-33,\n",
       "          1.12995500e-33,   9.88527900e-20,   4.04075675e-20,\n",
       "          3.94920676e-33,   1.35775940e-32,  -2.34663141e-33,\n",
       "          3.48933787e-33,  -2.93403414e-33,  -1.19445820e-32,\n",
       "         -4.19026657e-33,   5.20588018e-33,  -5.18718428e-33,\n",
       "          7.58357635e-33,   7.79255167e-33,   2.58082482e-33,\n",
       "          1.07069109e-33,   2.44640110e-33,   4.31969765e-33,\n",
       "          1.74911405e-33,   2.44640110e-33,   7.59253902e-33,\n",
       "         -1.79082537e-34,   2.44640110e-33,   6.31850284e-33,\n",
       "         -3.91006301e-33,   2.44640110e-33,   7.35684990e-33,\n",
       "         -3.06419140e-33,   2.94719252e-33,   8.88387508e-34,\n",
       "         -3.11648881e-33,  -9.58133225e-33,  -9.86018493e-33,\n",
       "         -1.09142821e-32,  -5.59621592e-33,  -1.83007431e-33,\n",
       "          6.31850284e-33,   4.43202834e-33,   4.33694064e-33,\n",
       "          8.47433370e-33,   6.90401729e-34,   5.69485353e-33,\n",
       "          3.53556150e-33,   1.24674487e-32,  -2.08205198e-33,\n",
       "         -9.39870483e-33,  -1.00124551e-32,  -6.38250160e-19,\n",
       "         -5.98788494e-33,  -7.09095040e-33,   1.80368805e-20,\n",
       "         -7.79084911e-20,   8.15786947e-34,  -7.42059397e-33,\n",
       "          6.04108886e-21,   2.46925335e-20,  -1.75990845e-33,\n",
       "         -4.98126620e-33,  -1.58255631e-18,   7.22259758e-20,\n",
       "         -1.93845228e-33,  -9.23803364e-33,  -8.78598138e-33,\n",
       "          9.22611427e-19,   3.54671513e-33,  -4.36545737e-33,\n",
       "         -8.39912662e-19,   7.90801859e-20,  -3.98942369e-33,\n",
       "         -6.61796524e-33,   9.10873278e-21,   4.70539970e-20,\n",
       "         -2.91161878e-34,  -4.39038172e-20,  -7.13080835e-21,\n",
       "         -1.33547546e-19,   2.91568370e-33,   5.40500851e-33,\n",
       "          6.51330353e-21,   9.26110987e-21,  -9.08479579e-33,\n",
       "         -8.27882887e-20,  -1.36606214e-19,   2.45482854e-19,\n",
       "         -9.50435909e-33,  -3.26200107e-33,  -3.36880536e-20,\n",
       "          5.84758444e-20,  -4.24981240e-33,  -3.64691385e-33,\n",
       "         -3.50509697e-20,   9.64525899e-21,  -1.25118597e-32,\n",
       "         -4.76871772e-33,  -2.79795195e-20,   2.09804034e-20,\n",
       "          6.00051857e-33,  -1.76925718e-33,   8.74379978e-19,\n",
       "         -2.61042384e-20,  -3.96418909e-34,  -1.27423975e-32,\n",
       "         -1.32484881e-32,   1.04645824e-18,  -3.71515038e-33,\n",
       "          1.46191924e-33,   6.70461471e-20,  -9.04246543e-20,\n",
       "         -1.09878233e-32,  -1.13331518e-32,  -4.44213929e-19,\n",
       "         -5.42980081e-20,  -8.42635299e-34,  -1.93802079e-34,\n",
       "          2.50314844e-19,  -5.45614163e-20,  -4.02385714e-33,\n",
       "         -2.83910549e-33,   6.04108886e-21,  -4.14166452e-20,\n",
       "          7.46309894e-33,  -2.41266162e-33,   1.39858794e-19,\n",
       "         -5.53456588e-20,   6.53073514e-33,   1.08494588e-33,\n",
       "          3.91401109e-20,   3.63825351e-20,  -2.12079844e-33,\n",
       "         -9.15916987e-33,  -9.79109372e-33,  -6.38250160e-19,\n",
       "         -6.69559546e-33,  -1.00954213e-32,   1.13834238e-18,\n",
       "          2.93806743e-20,   7.41484281e-34,  -2.63938105e-33,\n",
       "          7.30606824e-19,  -2.10054876e-20,   2.27700119e-34,\n",
       "         -6.25162034e-33,   6.65570844e-19,   1.32096497e-20,\n",
       "         -1.86015355e-33,  -9.22229541e-33,  -9.89217660e-33,\n",
       "         -6.38250160e-19,  -3.65926540e-34,  -8.53356742e-33,\n",
       "         -6.10923361e-33,  -6.03724376e-20,   2.35156160e-32,\n",
       "          1.83278282e-33,  -2.17913624e-33,   6.71101021e-33,\n",
       "         -3.70642325e-33,   6.04108886e-21,   6.04108886e-21,\n",
       "          6.04108886e-21,   6.04108886e-21,   6.04108886e-21,\n",
       "         -5.17229422e-33,   6.04108886e-21,  -7.45964701e-33,\n",
       "          5.13638988e-33,   6.04108886e-21,   7.40012023e-33,\n",
       "         -1.04148572e-33,   6.04108886e-21,  -1.88775706e-33,\n",
       "         -1.44028185e-33,   6.04108886e-21,   9.74444177e-34,\n",
       "         -5.63171876e-33,   6.04108886e-21,  -7.90421079e-33,\n",
       "          7.68504513e-33,   6.04108886e-21,   5.23104415e-33,\n",
       "          4.11036329e-33,   6.04108886e-21,   4.70209979e-33,\n",
       "          1.22267900e-32,   6.04108886e-21,   7.52363371e-33,\n",
       "          1.05191323e-32,   6.04108886e-21,   1.05926500e-32,\n",
       "         -1.81206790e-33,   6.04108886e-21,  -1.90538909e-33,\n",
       "         -1.16113733e-34,   6.04108886e-21,  -5.09412110e-34,\n",
       "          2.18673189e-34,   6.04108886e-21,   3.17496749e-34,\n",
       "         -8.43637386e-33,   6.04108886e-21,  -8.84820674e-33,\n",
       "         -1.47670480e-32,   6.04108886e-21,  -1.44244203e-32,\n",
       "         -1.17445857e-32,   6.04108886e-21,  -7.16747923e-33,\n",
       "         -1.52945363e-32,   6.04108886e-21,  -1.48612219e-32,\n",
       "          1.24513090e-32,   6.04108886e-21,   1.30165246e-32,\n",
       "          2.21177520e-33,  -7.23740170e-20,   1.18149589e-33,\n",
       "          8.53579927e-19,   4.11809256e-33,  -8.53039363e-20,\n",
       "          7.55149647e-34,  -6.10389240e-35,   7.06473137e-33,\n",
       "         -1.23842125e-33,  -1.29235600e-32,   6.04108886e-21,\n",
       "         -1.31103032e-32,  -4.46711834e-33,   6.04108886e-21,\n",
       "         -4.14002188e-33,  -2.78668481e-34,   6.04108886e-21,\n",
       "         -4.20327073e-34,   1.17189470e-32,   6.04108886e-21,\n",
       "          1.13137150e-32,  -4.25584619e-33,   4.53882673e-33,\n",
       "         -4.81040129e-33,  -4.34064174e-33,   1.23182216e-19,\n",
       "         -2.85813309e-33,  -2.51829975e-33,   2.47062394e-33,\n",
       "         -3.08288033e-33,  -5.80609561e-33,   9.98622033e-19,\n",
       "         -6.71851674e-33,  -1.11306351e-33,   6.04108886e-21,\n",
       "          2.44640110e-33,  -9.45495388e-33,   5.96993591e-33,\n",
       "          4.10542128e-33,   2.80113296e-20,   1.21245160e-33,\n",
       "         -3.91301692e-33,   2.80113296e-20,   4.05606732e-33,\n",
       "         -5.33370307e-33,   2.80113296e-20,  -2.43450652e-33,\n",
       "          1.45313403e-32,   2.80113296e-20,   1.54604791e-32,\n",
       "          1.04160542e-32,   2.80113296e-20,   9.87571570e-33,\n",
       "         -3.44624637e-33,   2.80113296e-20,  -3.70880526e-33,\n",
       "          2.42787420e-33,   2.80113296e-20,   1.14333440e-32,\n",
       "          6.14594341e-33,   7.29110441e-20,   3.66810162e-33,\n",
       "         -2.92750937e-33,   8.79173939e-20,  -3.99973651e-33,\n",
       "         -8.97565027e-33,   2.80113296e-20,  -1.01460119e-32,\n",
       "         -1.43030733e-32,   2.80113296e-20,  -1.53010294e-32,\n",
       "         -1.17609036e-32,   2.80113296e-20,  -1.28124695e-32,\n",
       "          1.16844593e-32,   2.80113296e-20,   1.16707175e-32,\n",
       "          1.07069109e-33,   8.05930267e-19,   8.39215413e-35,\n",
       "          2.01198892e-34,  -9.21695527e-33,   3.04048944e-33,\n",
       "         -1.38472109e-33,   2.80113296e-20,  -4.27505137e-34,\n",
       "          7.18100061e-33,   2.80113296e-20,   7.06428451e-33,\n",
       "         -4.71894967e-33,   2.80113296e-20,  -4.37463363e-33,\n",
       "         -3.56672273e-33]])"
      ]
     },
     "execution_count": 21,
     "metadata": {},
     "output_type": "execute_result"
    }
   ],
   "source": [
    "logreg.coef_"
   ]
  },
  {
   "cell_type": "code",
   "execution_count": 24,
   "metadata": {
    "collapsed": false
   },
   "outputs": [
    {
     "name": "stdout",
     "output_type": "stream",
     "text": [
      "[[106   3]\n",
      " [ 13   1]]\n"
     ]
    }
   ],
   "source": [
    "from sklearn.metrics import confusion_matrix\n",
    "\n",
    "cm = confusion_matrix(target_test, target_predicted)\n",
    "print(cm)"
   ]
  },
  {
   "cell_type": "code",
   "execution_count": 28,
   "metadata": {
    "collapsed": false
   },
   "outputs": [
    {
     "data": {
      "image/png": "[encoded data removed]",
      "text/plain": [
       "<matplotlib.figure.Figure at 0x9ce7f28>"
      ]
     },
     "metadata": {},
     "output_type": "display_data"
    }
   ],
   "source": [
    "def plot_confusion(cm, target_names = ['Gentrified', 'Not Gentrified'],\n",
    "                   title='Confusion matrix'):\n",
    "    plt.imshow(cm, interpolation='nearest', cmap=plt.cm.Blues)\n",
    "    plt.title(title)\n",
    "    plt.colorbar()\n",
    "\n",
    "    tick_marks = np.arange(len(target_names))\n",
    "    plt.xticks(tick_marks, target_names, rotation=60)\n",
    "    plt.yticks(tick_marks, target_names)\n",
    "    plt.ylabel('True label')\n",
    "    plt.xlabel('Predicted label')\n",
    "    # Convenience function to adjust plot parameters for a clear layout.\n",
    "    plt.tight_layout()\n",
    "    \n",
    "plot_confusion(cm)"
   ]
  },
  {
   "cell_type": "code",
   "execution_count": 29,
   "metadata": {
    "collapsed": false
   },
   "outputs": [
    {
     "data": {
      "text/plain": [
       "array([109,  14])"
      ]
     },
     "execution_count": 29,
     "metadata": {},
     "output_type": "execute_result"
    }
   ],
   "source": [
    "cm.sum(axis=1)"
   ]
  },
  {
   "cell_type": "code",
   "execution_count": 30,
   "metadata": {
    "collapsed": false
   },
   "outputs": [
    {
     "name": "stdout",
     "output_type": "stream",
     "text": [
      "[[ 0.97247706  0.02752294]\n",
      " [ 0.92857143  0.07142857]]\n"
     ]
    }
   ],
   "source": [
    "cm_normalized = cm.astype(np.float64) / cm.sum(axis=1)[:, np.newaxis]\n",
    "print(cm_normalized)"
   ]
  },
  {
   "cell_type": "code",
   "execution_count": 31,
   "metadata": {
    "collapsed": false
   },
   "outputs": [
    {
     "data": {
      "image/png": "[encoded data removed]",
      "text/plain": [
       "<matplotlib.figure.Figure at 0x90e3be0>"
      ]
     },
     "metadata": {},
     "output_type": "display_data"
    }
   ],
   "source": [
    "plot_confusion(cm_normalized, title=\"Normalized confusion matrix\")"
   ]
  },
  {
   "cell_type": "code",
   "execution_count": 32,
   "metadata": {
    "collapsed": false
   },
   "outputs": [
    {
     "name": "stdout",
     "output_type": "stream",
     "text": [
      "                precision    recall  f1-score   support\n",
      "\n",
      "    Gentrified       0.89      0.97      0.93       109\n",
      "Not Gentrified       0.25      0.07      0.11        14\n",
      "\n",
      "   avg / total       0.82      0.87      0.84       123\n",
      "\n"
     ]
    }
   ],
   "source": [
    "from sklearn.metrics import classification_report\n",
    "\n",
    "print(classification_report(target_test, target_predicted,\n",
    "                            target_names=['Gentrified', 'Not Gentrified']))"
   ]
  },
  {
   "cell_type": "code",
   "execution_count": 37,
   "metadata": {
    "collapsed": true
   },
   "outputs": [],
   "source": [
    "from sklearn.metrics import roc_curve\n",
    "from sklearn.metrics import auc\n",
    "\n",
    "def plot_roc_curve(target_test, target_predicted_proba):\n",
    "    fpr, tpr, thresholds = roc_curve(target_test, target_predicted_proba[:, 1])\n",
    "    \n",
    "    roc_auc = auc(fpr, tpr)\n",
    "    # Plot ROC curve\n",
    "    plt.plot(fpr, tpr, label='ROC curve (area = %0.3f)' % roc_auc)\n",
    "    plt.plot([0, 1], [0, 1], 'k--')  # random predictions curve\n",
    "    plt.xlim([0.0, 1.0])\n",
    "    plt.ylim([0.0, 1.0])\n",
    "    plt.xlabel('False Positive Rate or (1 - Specifity)')\n",
    "    plt.ylabel('True Positive Rate or (Sensitivity)')\n",
    "    plt.title('Receiver Operating Characteristic')\n",
    "    plt.legend(loc=\"lower right\")"
   ]
  },
  {
   "cell_type": "code",
   "execution_count": 39,
   "metadata": {
    "collapsed": false
   },
   "outputs": [
    {
     "data": {
      "image/png": "[encoded data removed]",
      "text/plain": [
       "<matplotlib.figure.Figure at 0x9c139b0>"
      ]
     },
     "metadata": {},
     "output_type": "display_data"
    }
   ],
   "source": [
    "target_predicted_prob = logreg.predict_proba(features_test)\n",
    "plot_roc_curve(target_test,target_predicted_prob)"
   ]
  },
  {
   "cell_type": "code",
   "execution_count": 43,
   "metadata": {
    "collapsed": true
   },
   "outputs": [],
   "source": [
    "from sklearn.cross_validation import cross_val_score\n",
    "\n",
    "scores = cross_val_score(logreg, features_array, target, cv=3)"
   ]
  },
  {
   "cell_type": "code",
   "execution_count": 44,
   "metadata": {
    "collapsed": false
   },
   "outputs": [
    {
     "data": {
      "text/plain": [
       "array([ 0.69756098,  0.64215686,  0.8817734 ])"
      ]
     },
     "execution_count": 44,
     "metadata": {},
     "output_type": "execute_result"
    }
   ],
   "source": [
    "scores"
   ]
  },
  {
   "cell_type": "code",
   "execution_count": 45,
   "metadata": {
    "collapsed": false
   },
   "outputs": [
    {
     "data": {
      "text/plain": [
       "(0.64215686274509809, 0.88177339901477836, 0.74049707912321094)"
      ]
     },
     "execution_count": 45,
     "metadata": {},
     "output_type": "execute_result"
    }
   ],
   "source": [
    "scores.min(), scores.max(), scores.mean()"
   ]
  },
  {
   "cell_type": "code",
   "execution_count": 46,
   "metadata": {
    "collapsed": false
   },
   "outputs": [
    {
     "data": {
      "text/plain": [
       "(0.39900575614861328, 0.47944842909714103, 0.55091902632886236)"
      ]
     },
     "execution_count": 46,
     "metadata": {},
     "output_type": "execute_result"
    }
   ],
   "source": [
    "scores = cross_val_score(logreg, features_array, target, cv=3,\n",
    "                         scoring='roc_auc')\n",
    "scores.min(), scores.mean(), scores.max()"
   ]
  },
  {
   "cell_type": "code",
   "execution_count": null,
   "metadata": {
    "collapsed": true
   },
   "outputs": [],
   "source": []
  }
 ],
 "metadata": {
  "kernelspec": {
   "display_name": "Python 3",
   "language": "python",
   "name": "python3"
  },
  "language_info": {
   "codemirror_mode": {
    "name": "ipython",
    "version": 3
   },
   "file_extension": ".py",
   "mimetype": "text/x-python",
   "name": "python",
   "nbconvert_exporter": "python",
   "pygments_lexer": "ipython3",
   "version": "3.4.3"
  }
 },
 "nbformat": 4,
 "nbformat_minor": 0
}
